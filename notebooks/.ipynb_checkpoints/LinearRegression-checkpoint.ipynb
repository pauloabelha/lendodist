{
 "cells": [
  {
   "cell_type": "markdown",
   "metadata": {},
   "source": [
    "# Learning from linear data (plus noise)\n",
    "\n",
    "Welcome to this notebook. The author is Paulo Abelha (http://www.pauloabelha.com)\n",
    "\n",
    "This notebook should be available on my GitHub http://ww.github.com/pauloabelha/notebooks\n",
    "\n",
    "In this module you will learn four approaches to linear regression. The idea is start simple, but principled; working our way up the abstractions. Therefore we deal with the \"hello world\" of Machine Learning: Linear regression\n",
    "\n",
    "Unless explictly noted, all code and writing in here is of my own authorship \n",
    "\n",
    "Main Resources:\n",
    "- Wikipedia (please donate to Wikipedia)\n",
    "- This great paper: MacKay, David JC. \"Bayesian interpolation.\" Neural computation 4.3 (1992): 415-447.\n",
    "- David Mackay's bible was a great resource: http://www.inference.org.uk/mackay/itila/book.html\n",
    "- Another great book: http://www.gaussianprocess.org/gpml/\n",
    "- Yet another great book: http://www.deeplearningbook.org/\n",
    "- Nice cookbook for matrices: http://compbio.fmph.uniba.sk/vyuka/ml/old/2008/handouts/matrix-cookbook.pdf\n",
    "- Detailed derivations for oepration on Gaussians: http://www.tina-vision.net/docs/memos/2003-003.pdf\n",
    "\n",
    "Here we compare four different Machine Learning approaches for fitting a function to noisy linear data\n",
    "- Linear Regression\n",
    "- Bayesian Linear Regression\n",
    "- Neural Networks\n",
    "- Gaussian Processes"
   ]
  },
  {
   "cell_type": "code",
   "execution_count": 1,
   "metadata": {
    "collapsed": true
   },
   "outputs": [],
   "source": [
    "import numpy as np\n",
    "import matplotlib.pyplot as plt\n",
    "from mpl_toolkits.mplot3d import Axes3D\n",
    "import matplotlib.cm as cm\n",
    "import matplotlib.mlab as mlab\n",
    "import matplotlib.pyplot as plt\n",
    "from matplotlib import animation, rc\n",
    "from IPython.display import HTML\n",
    "from matplotlib.patches import Ellipse\n",
    "from matplotlib.ticker import LinearLocator, FormatStrFormatter\n",
    "\n",
    "# for reproducibility\n",
    "random_seed_ix = 1\n",
    "np.random.seed(random_seed_ix)\n",
    "# number of data points\n",
    "n_pts = 100\n",
    "n_dims = 1\n",
    "# noise (variance of Gaussian distribution for noise)\n",
    "# sample the noise uniformly at random in [0, 1) and divide by 10\n",
    "sigma_v_sq = np.random.rand(n_dims,1)/10.0\n",
    "sigma_v_sq = sigma_v_sq[0,0]\n",
    "# sample a weight uniformly at random in [0, 1)\n",
    "w_1 = np.random.rand(n_dims,1)\n",
    "# sample a bias uniformly at random in [0, 1)\n",
    "b = np.random.rand()\n",
    "# the X values\n",
    "X = np.random.rand(n_pts,n_dims)"
   ]
  },
  {
   "cell_type": "markdown",
   "metadata": {},
   "source": [
    "**1.1 Helper Functions**"
   ]
  },
  {
   "cell_type": "code",
   "execution_count": 2,
   "metadata": {
    "collapsed": true
   },
   "outputs": [],
   "source": [
    "# plot a cooolwarm surface given an m x n matrix Z with values \n",
    "# range_x: a 2-element vector/list with the minimum and maximum values in the x axis\n",
    "# range_y: analogous to range_x, but for the y axis\n",
    "def my_plot_3Dsurf(range_x,range_y,Z,label_x = 'x',label_y = 'y', viewpoint = 111, fontsize_x = 18, fontsize_y = 18):\n",
    "    x = np.linspace(range_x[0], range_x[1], Z.shape[0])\n",
    "    y = np.linspace(range_y[0], range_y[1], Z.shape[1])\n",
    "    xv, yv = np.meshgrid(x, y)\n",
    "    fig = plt.figure()\n",
    "    ax = fig.add_subplot(viewpoint, projection='3d')\n",
    "    ax.plot_surface(xv, yv, Z, cmap=cm.coolwarm)\n",
    "    plt.xlabel(label_x, fontsize=fontsize_x)\n",
    "    plt.ylabel(label_y, fontsize=fontsize_y)\n",
    "    plt.show()"
   ]
  },
  {
   "cell_type": "code",
   "execution_count": 3,
   "metadata": {
    "collapsed": true
   },
   "outputs": [],
   "source": [
    "# plot a heatmap given an m x n matrix Z with values\n",
    "def plot_heatmap(Z, cmap = 'cool', extent = [0,1,0,1]):\n",
    "    plt.imshow(np.reshape(Z, (Z.shape[0],-1)), cmap, interpolation='nearest', extent = extent)\n",
    "    plt.show()"
   ]
  },
  {
   "cell_type": "code",
   "execution_count": 4,
   "metadata": {
    "collapsed": true
   },
   "outputs": [],
   "source": [
    "# Plot a bivariate Gaussian with contours representing multiples of standard deviation isolines\n",
    "# Resources:\n",
    "#     https://en.wikipedia.org/wiki/Multivariate_normal_distribution\n",
    "#     http://www.visiondummy.com/2014/04/draw-error-ellipse-representing-covariance-matrix/\n",
    "def plot_bivariate_gaussian_isolines(mean, covar_mtx, N, colour = 'k', plot_fig = True, ax_lims = -1):\n",
    "    assert(mean.shape == (2, 1))\n",
    "    assert(covar_mtx.shape == (2, 2))\n",
    "    assert(N > 0)\n",
    "    # perform Eigen decomposition to get rotation of Gaussian\n",
    "    w, U = np.linalg.eig(covar_likelihood)  \n",
    "    # get index of largest eigenvalue\n",
    "    max_eig_value_ix = np.argmax(w)\n",
    "    # get the x and y value of the eigenvector corresponding to largest eigenvalue\n",
    "    v1x = U[0,max_eig_value_ix]\n",
    "    v1y = U[1,max_eig_value_ix]\n",
    "    # get alpha, the angle of rotation for the Gaussian\n",
    "    alpha = np.arctan(v1y/v1x)\n",
    "    # get figure\n",
    "    fig = plt.figure(0)\n",
    "    # create axes object\n",
    "    ax = fig.add_subplot(111, aspect='equal')\n",
    "    # initialise an empty list for the ellipses\n",
    "    E = []\n",
    "    # construct ellipses with increasing multiples of standard deviation contours  \n",
    "    e_centre = mean\n",
    "    e_width_orig = 2.0*np.sqrt(covar_mtx[0,0])\n",
    "    e_height_orig = 2.0*np.sqrt(covar_mtx[1,1])\n",
    "    for i in range(N):        \n",
    "        e_width = (i+1)*e_width_orig\n",
    "        e_height = (i+1)*e_height_orig\n",
    "        e = Ellipse(e_centre, width=e_width, height=e_height, angle=alpha*(180.0/np.pi))\n",
    "        e.set_clip_box(ax.bbox)\n",
    "        e.set_fill(0)\n",
    "        e.set_facecolor(colour)\n",
    "        E.append(e)\n",
    "        # add elipse and axes limits\n",
    "        ax.add_artist(E[i])    \n",
    "    # add the central point (as an extra small full ellipse )\n",
    "    e = Ellipse(e_centre, width=e_width_orig/10.0, height=e_height_orig/10.0, angle=alpha*(180.0/np.pi))\n",
    "    e.set_clip_box(ax.bbox)\n",
    "    e.set_fill(1)\n",
    "    e.set_facecolor(colour)\n",
    "    ax.add_artist(e)  \n",
    "    # adjust the axes limits (or use provided ones)\n",
    "    ax_lim_mult = 1.5\n",
    "    if ax_lims == -1:      \n",
    "        ax_lims = [0, 0, 0, 0]\n",
    "        lim = N*ax_lim_mult*max(np.sqrt(covar_mtx[0,0]),np.sqrt(covar_mtx[1,1]))\n",
    "        ax_lims[0] = mean[0,0]-lim\n",
    "        ax_lims[1] = mean[0,0]+lim\n",
    "        ax_lims[2] = mean[1,0]-lim\n",
    "        ax_lims[3] = mean[1,0]+lim        \n",
    "    # set axes limits    \n",
    "    ax.set_xlim(ax_lims[0], ax_lims[1])\n",
    "    ax.set_ylim(ax_lims[2], ax_lims[3])    \n",
    "    #plot\n",
    "    if plot_fig:\n",
    "        plt.show()\n",
    "    return fig, ax, ax_lims"
   ]
  },
  {
   "cell_type": "markdown",
   "metadata": {},
   "source": [
    "**1.1 - Linear Model for Generating Data**\n",
    "\n",
    "Here we:\n",
    "- a) Define our linear model assumptions about data generation\n",
    "- b) Define the function for generating the data\n",
    "- c) Plot the data and information about it (matrices' shapes and value for the weight w and bias b)"
   ]
  },
  {
   "cell_type": "markdown",
   "metadata": {},
   "source": [
    "a) Define our linear model and assumptions"
   ]
  },
  {
   "cell_type": "code",
   "execution_count": 5,
   "metadata": {},
   "outputs": [
    {
     "data": {
      "text/latex": [
       "We assume our data is generated by a one-dimensional linear function:\n",
       "$$ \\mathbf{y} = \\mathbf{X} w_1 + b $$\n",
       "$\\mathbf{X}$ is a $N \\times m$ matrix where each row is an $m$-dimensional input and $N$ is the number of inputs.\n",
       "To simplify notation and derivations we encode the weight $w_1$ and the bias $b$ into the same vector $\\mathbf{w} = (w_1,b)^\\top$.\n",
       "We then augment the inputs in $\\mathbf{X}$ by adding an extra column with $1$ at every entry. Our function then becomes:\n",
       "$$ \\mathbf{y} = \\mathbf{X_b}\\mathbf{w} $$\n",
       "Finally, we further assume there is also some Gaussian noise in the data generation:\n",
       "$$ \\mathbf{y} = \\mathbf{X_b}\\mathbf{w} + v_m $$    \n",
       "$$ v_m \\sim N(0,\\sigma_v^2) $$ "
      ],
      "text/plain": [
       "<IPython.core.display.Latex object>"
      ]
     },
     "metadata": {},
     "output_type": "display_data"
    }
   ],
   "source": [
    "%%latex\n",
    "We assume our data is generated by a one-dimensional linear function:\n",
    "$$ \\mathbf{y} = \\mathbf{X} w_1 + b $$\n",
    "$\\mathbf{X}$ is a $N \\times m$ matrix where each row is an $m$-dimensional input and $N$ is the number of inputs.\n",
    "To simplify notation and derivations we encode the weight $w_1$ and the bias $b$ into the same vector $\\mathbf{w} = (w_1,b)^\\top$.\n",
    "We then augment the inputs in $\\mathbf{X}$ by adding an extra column with $1$ at every entry. Our function then becomes:\n",
    "$$ \\mathbf{y} = \\mathbf{X_b}\\mathbf{w} $$\n",
    "Finally, we further assume there is also some Gaussian noise in the data generation:\n",
    "$$ \\mathbf{y} = \\mathbf{X_b}\\mathbf{w} + v_m $$    \n",
    "$$ v_m \\sim N(0,\\sigma_v^2) $$ "
   ]
  },
  {
   "cell_type": "markdown",
   "metadata": {},
   "source": [
    "b) Implement the linear model and the noisy linear model"
   ]
  },
  {
   "cell_type": "code",
   "execution_count": 6,
   "metadata": {
    "collapsed": true
   },
   "outputs": [],
   "source": [
    "# the linear model y = X*w + b using the encoded bias (y = X_b*w)\n",
    "# sigma_sq_v is the variance of our Gaussian noise model\n",
    "def my_linear_model(X_b,w):\n",
    "    # ensure the matrix multiplication can be performed\n",
    "    assert(X_b.shape[1] == w.shape[0])\n",
    "    y = np.dot(X_b,w)\n",
    "    return y"
   ]
  },
  {
   "cell_type": "code",
   "execution_count": 7,
   "metadata": {
    "collapsed": true
   },
   "outputs": [],
   "source": [
    "# here we encode our data\n",
    "# get X as a random matrix\n",
    "def my_noisy_linear_model(X,n_pts,n_dims,sigma_v_sq):\n",
    "    # add one extra all-ones column for the bias\n",
    "    X_b = np.hstack((X,np.ones((n_pts,1)))) \n",
    "    # get full weight vector\n",
    "    w = np.zeros((2,1))\n",
    "    w[0,0] = w_1\n",
    "    w[1,0] = b\n",
    "    # sample N noise values (N=n_pts)\n",
    "    noise_vec = np.random.normal(0,sigma_v_sq,(n_pts,1)) \n",
    "    y = my_linear_model(X_b,w) + noise_vec\n",
    "    return X_b, y, w, noise_vec\n",
    "\n",
    "X_b, y, w, noise_vec = my_noisy_linear_model(X,n_pts,1,sigma_v_sq)"
   ]
  },
  {
   "cell_type": "markdown",
   "metadata": {},
   "source": [
    "c) Plot the noisy linear data"
   ]
  },
  {
   "cell_type": "code",
   "execution_count": 8,
   "metadata": {},
   "outputs": [
    {
     "data": {
      "image/png": "[encoded data removed]",
      "text/plain": [
       "<matplotlib.figure.Figure at 0x7f407ba750b8>"
      ]
     },
     "metadata": {},
     "output_type": "display_data"
    },
    {
     "name": "stdout",
     "output_type": "stream",
     "text": [
      "w_1 = 0.720324493442\n",
      "b = 0.000114374817345\n",
      "noise (variance) = 0.0417022004703\n"
     ]
    }
   ],
   "source": [
    "# plot the data and the true parameters (w, b and noise variance) for the generation\n",
    "fig = plt.figure()\n",
    "ax = fig.add_subplot(111)\n",
    "ax.set_xlim(0, 1)\n",
    "ax.set_ylim(0, 1)\n",
    "ax.set_xlabel('$\\mathbf{X}$')\n",
    "ax.set_ylabel('$\\mathbf{y}=\\mathbf{X_b}\\mathbf{w} + v_m$')\n",
    "plt.title('Noisy linear data')\n",
    "plt.scatter(X,y,color = 'k')\n",
    "plt.show()\n",
    "print(\"w_1 = \" + str(w[0,0]))\n",
    "print(\"b = \" + str(w[1,0]))\n",
    "print(\"noise (variance) = \" + str(sigma_v_sq))"
   ]
  },
  {
   "cell_type": "markdown",
   "metadata": {},
   "source": [
    "**1.2 - Linear Regresion**\n",
    "\n",
    "Time to learn.\n",
    "\n",
    "In order to perform linear regression, we:\n",
    "- a) Define and implement our loss function as mean squared errors\n",
    "- b) Derive and implement linear regression\n",
    "- c) Perform Linear Regresion on the generated data\n",
    "- d) Plot the fit in data space\n",
    "- e) Plot the loss function in parameter space"
   ]
  },
  {
   "cell_type": "markdown",
   "metadata": {},
   "source": [
    "a) Define and implement our loss function as mean squared errors"
   ]
  },
  {
   "cell_type": "code",
   "execution_count": 52,
   "metadata": {},
   "outputs": [
    {
     "data": {
      "text/latex": [
       "We define our loss function as mean squared error between the groundtruth outputs $\\mathbf{y}$ and the predicted outputs $\\mathbf{\\hat{y}}$. \n",
       "The loss function is parameterised by an estimated weight vector $\\mathbf{\\hat{w}}$.\n",
       "$$ J(D; \\mathbf{\\hat{w}}) = \\frac{1}{N} \\sum_{i=1}^{N} (\\mathbf{\\hat{y}}_i-\\mathbf{y}_i)^2 $$\n",
       "$ D $ is our data containing $\\mathbf{X_b}$ and $\\mathbf{y}$, where $ \\mathbf{\\hat{y}} = \\mathbf{X_b}\\mathbf{\\hat{w}} $\n",
       "$$$$\n",
       "The loss function can also be written as the euclidean norm of the difference:\n",
       "$$ J(D; \\mathbf{\\hat{w}}) = \\frac{1}{N} \\lVert\\mathbf{\\hat{y}}-\\mathbf{y}\\rVert_2^2 $$"
      ],
      "text/plain": [
       "<IPython.core.display.Latex object>"
      ]
     },
     "metadata": {},
     "output_type": "display_data"
    }
   ],
   "source": [
    "%%latex\n",
    "We define our loss function as mean squared error between the groundtruth outputs $\\mathbf{y}$ and the predicted outputs $\\mathbf{\\hat{y}}$. \n",
    "The loss function is parameterised by an estimated weight vector $\\mathbf{\\hat{w}}$.\n",
    "$$ J(D; \\mathbf{\\hat{w}}) = \\frac{1}{N} \\sum_{i=1}^{N} (\\mathbf{\\hat{y}}_i-\\mathbf{y}_i)^2 $$\n",
    "$ D $ is our data containing $\\mathbf{X_b}$ and $\\mathbf{y}$, where $ \\mathbf{\\hat{y}} = \\mathbf{X_b}\\mathbf{\\hat{w}} $\n",
    "$$$$\n",
    "The loss function can also be written as the euclidean norm of the difference:\n",
    "$$ J(D; \\mathbf{\\hat{w}}) = \\frac{1}{N} \\lVert\\mathbf{\\hat{y}}-\\mathbf{y}\\rVert_2^2 $$\n"
   ]
  },
  {
   "cell_type": "code",
   "execution_count": 10,
   "metadata": {
    "collapsed": true
   },
   "outputs": [],
   "source": [
    "# return the mean squared error given a set of groundtruth outputs (y) and a set of predictions (y_hat)\n",
    "def my_mse(y,y_hat):\n",
    "    N = y_hat.shape[0]\n",
    "    mse = (1.0/N)*np.sum(np.power(y_hat-y,2))\n",
    "    return mse    "
   ]
  },
  {
   "cell_type": "markdown",
   "metadata": {},
   "source": [
    "b) Derive and implement linear regression"
   ]
  },
  {
   "cell_type": "code",
   "execution_count": 60,
   "metadata": {},
   "outputs": [
    {
     "data": {
      "text/latex": [
       "We want to minimise the error therefore we need to minimise $J(D; \\mathbf{\\hat{w}})$.\n",
       "Thankfully, $J(D; \\mathbf{\\hat{w}})$ is convex and we can find the minimum by finding the point where the \n",
       "gradient is $0$. It is beyond the scope now to show that $J(D; \\mathbf{\\hat{w}})$ is convex.\n",
       "$$$$\n",
       "The derivation (step by step):\n",
       "$$\\nabla_{\\mathbf{\\hat{w}}}[J(D; \\mathbf{\\hat{w}})] = 0$$\n",
       "$$\\nabla_{\\mathbf{\\hat{w}}}[ \\frac{1}{N} \\lVert\\mathbf{\\hat{y}}-\\mathbf{y}\\rVert_2^2] = 0$$\n",
       "$$\\frac{1}{N} \\nabla_{\\mathbf{\\hat{w}}}[\\lVert\\mathbf{\\hat{y}}-\\mathbf{y}\\rVert_2^2] = 0$$\n",
       "$$\\nabla_{\\mathbf{\\hat{w}}}[\\lVert\\mathbf{\\hat{y}}-\\mathbf{y}\\rVert_2^2] = 0$$\n",
       "$$ \\nabla_{\\mathbf{\\hat{w}}}[\\lVert(\\mathbf{X_b}\\mathbf{\\hat{w}}-\\mathbf{y}_i)\\rVert_2^2] = 0$$\n",
       "$$ \\nabla_{\\mathbf{\\hat{w}}}[(\\mathbf{X_b}\\mathbf{\\hat{w}}-\\mathbf{y})^{\\top}(\\mathbf{X_b}\\mathbf{\\hat{w}}-\\mathbf{y})] = 0$$\n",
       "$$ \\nabla_{\\mathbf{\\hat{w}}}[(\\mathbf{\\hat{w}}^{\\top}\\mathbf{X_b}^{\\top} - \\mathbf{y}^{\\top})(\\mathbf{X_b}\\mathbf{\\hat{w}}-\\mathbf{y})] = 0$$\n",
       "$$ \\nabla_{\\mathbf{\\hat{w}}}[(\\mathbf{\\hat{w}}^{\\top}\\mathbf{X_b}^{\\top}\\mathbf{X_b}\\mathbf{\\hat{w}} - \\mathbf{\\hat{w}}^{\\top}\\mathbf{X_b}^{\\top}\\mathbf{y} - \\mathbf{y}^{\\top}\\mathbf{X_b}\\mathbf{\\hat{w}} - \\mathbf{y}^{\\top}\\mathbf{y}] = 0$$\n",
       "$$ \\nabla_{\\mathbf{\\hat{w}}}[\\mathbf{\\hat{w}}^{\\top}\\mathbf{X_b}^{\\top}\\mathbf{X_b}\\mathbf{\\hat{w}}] - \\nabla_{\\mathbf{\\hat{w}}}[\\mathbf{\\hat{w}}^{\\top}\\mathbf{X_b}^{\\top}\\mathbf{y}] - \\nabla_{\\mathbf{\\hat{w}}}[\\mathbf{\\hat{w}}^{\\top}\\mathbf{X_b}^{\\top}\\mathbf{y}] - \\nabla_{\\mathbf{\\hat{w}}}[\\mathbf{y}^{\\top}\\mathbf{y}] = 0$$\n",
       "$$ \\nabla_{\\mathbf{\\hat{w}}}[\\mathbf{\\hat{w}}^{\\top}\\mathbf{X_b}^{\\top}\\mathbf{X_b}\\mathbf{\\hat{w}}] = 2\\mathbf{X_b}^{\\top}\\mathbf{X_b}\\mathbf{\\hat{w}} $$\n",
       "$$ \\nabla_{\\mathbf{\\hat{w}}}[\\mathbf{\\hat{w}}^{\\top}\\mathbf{X_b}^{\\top}\\mathbf{y}] = \\mathbf{X_b}_i^{\\top}\\mathbf{y}$$\n",
       "$$ \\nabla_{\\mathbf{\\hat{w}}}[\\mathbf{y}^{\\top}\\mathbf{X_b}\\mathbf{\\hat{w}}] = \\mathbf{y}^{\\top}\\mathbf{X_b}$$                              \n",
       "$$ \\nabla_{\\mathbf{\\hat{w}}}[\\mathbf{y}^{\\top}\\mathbf{y}] = 0$$                              \n",
       "$$\\nabla_{\\mathbf{\\hat{w}}}[J(D; \\mathbf{\\hat{w}})] = 2\\mathbf{X_b}^{\\top}\\mathbf{X_b}\\mathbf{\\hat{w}} - \\mathbf{X_b}^{\\top}\\mathbf{y} - \\mathbf{y}^{\\top}\\mathbf{X_b}$$                              \n",
       "$$\\nabla_{\\mathbf{\\hat{w}}}[J(D; \\mathbf{\\hat{w}})] = 2\\mathbf{X_b}^{\\top}\\mathbf{X_b}\\mathbf{\\hat{w}} - 2 \\mathbf{X_b}^{\\top}\\mathbf{y}$$              \n",
       "$$ 2(\\mathbf{X_b}^{\\top}\\mathbf{X_b}\\mathbf{\\hat{w}} - \\mathbf{X_b}_i^{\\top}\\mathbf{y}) = 0$$                                                  \n",
       "$$ \\mathbf{X_b}^{\\top}\\mathbf{X_b}\\mathbf{\\hat{w}} = \\mathbf{X_b}_i^{\\top}\\mathbf{y}$$\n",
       "$$ A = \\mathbf{X_b}_i^{\\top}\\mathbf{X_b} $$\n",
       "$$ A\\mathbf{\\hat{w}} = \\mathbf{X_b}^{\\top}\\mathbf{y}$$\n",
       "$$ A^{-1}A\\mathbf{\\hat{w}} = A^{-1}\\mathbf{X_b}^{\\top}\\mathbf{y}$$\n",
       "$$ I\\mathbf{\\hat{w}} = A^{-1}\\mathbf{X_b}^{\\top}\\mathbf{y}$$                              \n",
       "$$ \\mathbf{\\hat{w}} = (\\mathbf{X_b}^{\\top}\\mathbf{X_b})^{-1}\\mathbf{X_b}^{\\top}\\mathbf{y}$$ "
      ],
      "text/plain": [
       "<IPython.core.display.Latex object>"
      ]
     },
     "metadata": {},
     "output_type": "display_data"
    }
   ],
   "source": [
    "%%latex\n",
    "We want to minimise the error therefore we need to minimise $J(D; \\mathbf{\\hat{w}})$.\n",
    "Thankfully, $J(D; \\mathbf{\\hat{w}})$ is convex and we can find the minimum by finding the point where the \n",
    "gradient is $0$. It is beyond the scope now to show that $J(D; \\mathbf{\\hat{w}})$ is convex.\n",
    "$$$$\n",
    "The derivation (step by step):\n",
    "$$\\nabla_{\\mathbf{\\hat{w}}}[J(D; \\mathbf{\\hat{w}})] = 0$$\n",
    "$$\\nabla_{\\mathbf{\\hat{w}}}[ \\frac{1}{N} \\lVert\\mathbf{\\hat{y}}-\\mathbf{y}\\rVert_2^2] = 0$$\n",
    "$$\\frac{1}{N} \\nabla_{\\mathbf{\\hat{w}}}[\\lVert\\mathbf{\\hat{y}}-\\mathbf{y}\\rVert_2^2] = 0$$\n",
    "$$\\nabla_{\\mathbf{\\hat{w}}}[\\lVert\\mathbf{\\hat{y}}-\\mathbf{y}\\rVert_2^2] = 0$$\n",
    "$$ \\nabla_{\\mathbf{\\hat{w}}}[\\lVert(\\mathbf{X_b}\\mathbf{\\hat{w}}-\\mathbf{y}_i)\\rVert_2^2] = 0$$\n",
    "$$ \\nabla_{\\mathbf{\\hat{w}}}[(\\mathbf{X_b}\\mathbf{\\hat{w}}-\\mathbf{y})^{\\top}(\\mathbf{X_b}\\mathbf{\\hat{w}}-\\mathbf{y})] = 0$$\n",
    "$$ \\nabla_{\\mathbf{\\hat{w}}}[(\\mathbf{\\hat{w}}^{\\top}\\mathbf{X_b}^{\\top} - \\mathbf{y}^{\\top})(\\mathbf{X_b}\\mathbf{\\hat{w}}-\\mathbf{y})] = 0$$\n",
    "$$ \\nabla_{\\mathbf{\\hat{w}}}[(\\mathbf{\\hat{w}}^{\\top}\\mathbf{X_b}^{\\top}\\mathbf{X_b}\\mathbf{\\hat{w}} - \\mathbf{\\hat{w}}^{\\top}\\mathbf{X_b}^{\\top}\\mathbf{y} - \\mathbf{y}^{\\top}\\mathbf{X_b}\\mathbf{\\hat{w}} - \\mathbf{y}^{\\top}\\mathbf{y}] = 0$$\n",
    "$$ \\nabla_{\\mathbf{\\hat{w}}}[\\mathbf{\\hat{w}}^{\\top}\\mathbf{X_b}^{\\top}\\mathbf{X_b}\\mathbf{\\hat{w}}] - \\nabla_{\\mathbf{\\hat{w}}}[\\mathbf{\\hat{w}}^{\\top}\\mathbf{X_b}^{\\top}\\mathbf{y}] - \\nabla_{\\mathbf{\\hat{w}}}[\\mathbf{\\hat{w}}^{\\top}\\mathbf{X_b}^{\\top}\\mathbf{y}] - \\nabla_{\\mathbf{\\hat{w}}}[\\mathbf{y}^{\\top}\\mathbf{y}] = 0$$\n",
    "$$ \\nabla_{\\mathbf{\\hat{w}}}[\\mathbf{\\hat{w}}^{\\top}\\mathbf{X_b}^{\\top}\\mathbf{X_b}\\mathbf{\\hat{w}}] = 2\\mathbf{X_b}^{\\top}\\mathbf{X_b}\\mathbf{\\hat{w}} $$\n",
    "$$ \\nabla_{\\mathbf{\\hat{w}}}[\\mathbf{\\hat{w}}^{\\top}\\mathbf{X_b}^{\\top}\\mathbf{y}] = \\mathbf{X_b}_i^{\\top}\\mathbf{y}$$\n",
    "$$ \\nabla_{\\mathbf{\\hat{w}}}[\\mathbf{y}^{\\top}\\mathbf{X_b}\\mathbf{\\hat{w}}] = \\mathbf{y}^{\\top}\\mathbf{X_b}$$                              \n",
    "$$ \\nabla_{\\mathbf{\\hat{w}}}[\\mathbf{y}^{\\top}\\mathbf{y}] = 0$$                              \n",
    "$$\\nabla_{\\mathbf{\\hat{w}}}[J(D; \\mathbf{\\hat{w}})] = 2\\mathbf{X_b}^{\\top}\\mathbf{X_b}\\mathbf{\\hat{w}} - \\mathbf{X_b}^{\\top}\\mathbf{y} - \\mathbf{y}^{\\top}\\mathbf{X_b}$$                              \n",
    "$$\\nabla_{\\mathbf{\\hat{w}}}[J(D; \\mathbf{\\hat{w}})] = 2\\mathbf{X_b}^{\\top}\\mathbf{X_b}\\mathbf{\\hat{w}} - 2 \\mathbf{X_b}^{\\top}\\mathbf{y}$$              \n",
    "$$ 2(\\mathbf{X_b}^{\\top}\\mathbf{X_b}\\mathbf{\\hat{w}} - \\mathbf{X_b}_i^{\\top}\\mathbf{y}) = 0$$                                                  \n",
    "$$ \\mathbf{X_b}^{\\top}\\mathbf{X_b}\\mathbf{\\hat{w}} = \\mathbf{X_b}_i^{\\top}\\mathbf{y}$$\n",
    "$$ A = \\mathbf{X_b}_i^{\\top}\\mathbf{X_b} $$\n",
    "$$ A\\mathbf{\\hat{w}} = \\mathbf{X_b}^{\\top}\\mathbf{y}$$\n",
    "$$ A^{-1}A\\mathbf{\\hat{w}} = A^{-1}\\mathbf{X_b}^{\\top}\\mathbf{y}$$\n",
    "$$ I\\mathbf{\\hat{w}} = A^{-1}\\mathbf{X_b}^{\\top}\\mathbf{y}$$                              \n",
    "$$ \\mathbf{\\hat{w}} = (\\mathbf{X_b}^{\\top}\\mathbf{X_b})^{-1}\\mathbf{X_b}^{\\top}\\mathbf{y}$$ "
   ]
  },
  {
   "cell_type": "code",
   "execution_count": 30,
   "metadata": {
    "collapsed": true
   },
   "outputs": [],
   "source": [
    "# perform linear regression using mean squared error as loss function\n",
    "# the estimated parameters are those that minimise the gradient of the loss function\n",
    "#     please, do go through the derivatio above and ensure you understand every step\n",
    "def my_linear_regression(X_b,y):\n",
    "    assert(X_b.shape[0] == y.shape[0])\n",
    "    w_pred = np.dot(np.dot(np.linalg.inv(np.dot(X_b.T,X_b)),X_b.T),y)\n",
    "    return w_pred"
   ]
  },
  {
   "cell_type": "code",
   "execution_count": 31,
   "metadata": {
    "scrolled": true
   },
   "outputs": [
    {
     "data": {
      "image/png": "[encoded data removed]",
      "text/plain": [
       "<matplotlib.figure.Figure at 0x7f40799aa4a8>"
      ]
     },
     "metadata": {},
     "output_type": "display_data"
    },
    {
     "name": "stdout",
     "output_type": "stream",
     "text": [
      "Predicted w = [[ 0.7232704 ]\n",
      " [ 0.00766488]]\n",
      "Real w = [[  7.20324493e-01]\n",
      " [  1.14374817e-04]]\n",
      "Mean squared error = 0.00136890403604\n"
     ]
    }
   ],
   "source": [
    "# perform linear regression on the data (X_b, y)\n",
    "# X_b is an Nx2 matrix with the x inputs in the first column of X_b and an all-ones as second column\n",
    "# y is an Nx1 vector with the outputs for each X_b[:,0]\n",
    "def perform_and_plot_linear_regression(X_b,y):\n",
    "    # perform linear regression\n",
    "    w_est = my_linear_regression(X_b,y)\n",
    "    # predict values with estimated parameters w_pred\n",
    "    y_pred = my_linear_model(X_b,w_est)\n",
    "    mse = my_mse(y,y_pred)\n",
    "    # plot data and fit\n",
    "    fig = plt.figure()\n",
    "    ax = fig.add_subplot(111)\n",
    "    ax.set_xlim(0, 1)\n",
    "    ax.set_ylim(0, 1)\n",
    "    plt.plot(X,y_pred, color = 'b')\n",
    "    plt.scatter(X, y, color = 'y')\n",
    "    plt.title('Linear regression (data in yellow and fitted line in blue)')\n",
    "    plt.show()\n",
    "    # print information\n",
    "    print(\"Predicted w = \" + str(w_est))\n",
    "    print(\"Real w = \" + str(w))\n",
    "    print(\"Mean squared error = \" + str(mse))\n",
    "    return w_est, y_pred\n",
    "    \n",
    "w_est, y_pred = perform_and_plot_linear_regression(X_b,y)"
   ]
  },
  {
   "cell_type": "code",
   "execution_count": 37,
   "metadata": {},
   "outputs": [
    {
     "name": "stdout",
     "output_type": "stream",
     "text": [
      "Computing mean squared error for 40000 pairs of weight and bias...\n",
      "Best parameters (w, b) = (0.726, 0.006)\n",
      "Minimum value for the error = 0.00136964525482\n"
     ]
    },
    {
     "data": {
      "image/png": "[encoded data removed]",
      "text/plain": [
       "<matplotlib.figure.Figure at 0x7f40799458d0>"
      ]
     },
     "metadata": {},
     "output_type": "display_data"
    }
   ],
   "source": [
    "# vectorised code for getting many mean squared errors for a grid of different weights and biases\n",
    "# also plots the resulting surface\n",
    "# X_b is an Nx2 matrix with the x inputs in the first column of X_b and an all-ones as second column\n",
    "# y is an Nx1 vector with the outputs for each X_b[:,0]\n",
    "# (beg_w, end_w, step_w) is the range and step fro creating the grid\n",
    "def plot_surf_mse(X_b,y,beg_w, end_w, step_w):\n",
    "    # get number of grid rows (also number of grid columns)\n",
    "    n_grid_rows = np.round((end_w-beg_w)/step_w).astype(int)\n",
    "    n_grid_columns = n_grid_rows \n",
    "    n_grid_cells = n_grid_rows * n_grid_columns\n",
    "    # print information on the size of grid\n",
    "    print(\"Computing mean squared error for \" + str(n_grid_cells) + \" pairs of weight and bias...\")    \n",
    "    # get the W matrix containing the different (w, b) pairs in the specified range and step\n",
    "    W = np.zeros((n_grid_rows,1))\n",
    "    W[:,0] = np.arange(beg_w, end_w, step_w)\n",
    "    W_grid, B_grid = np.meshgrid(W, W)\n",
    "    W = np.row_stack((W_grid.reshape(1,n_grid_cells),B_grid.reshape(1,n_grid_cells)))\n",
    "    # calculate the error for every (w, b) option\n",
    "    Y_hat = np.dot(X_b,W)\n",
    "    Y_sq_diff = np.power(Y_hat - y,2)\n",
    "    R_sum = np.sum(Y_sq_diff, axis= 0)/n_pts\n",
    "    R_grid = R_sum.reshape(n_grid_rows,n_grid_columns)\n",
    "    # get the index of the lowest error\n",
    "    min_mse_ix = np.argmin(R_sum)\n",
    "    # print information on the best (w, b) option and minimum error \n",
    "    print(\"Best parameters (w, b) = (\" + str(W[0,min_mse_ix]) + \", \" + str(W[1,min_mse_ix]) + \")\")\n",
    "    print(\"Minimum value for the error = \" + str(np.min(R_sum)))\n",
    "    # plot the surface\n",
    "    fig = plt.figure()\n",
    "    ax = fig.gca(projection='3d')\n",
    "    surf = ax.plot_surface(W_grid, B_grid, R_grid, cmap=cm.coolwarm,linewidth=0, antialiased=False) \n",
    "    # customise axes\n",
    "    ax.set_xlabel('w')\n",
    "    ax.set_ylabel('b')\n",
    "    ax.set_zlim(-1.01, 1.01)\n",
    "    ax.zaxis.set_major_locator(LinearLocator(10))\n",
    "    ax.zaxis.set_major_formatter(FormatStrFormatter('%.02f'))\n",
    "    # add a nice colour bar\n",
    "    fig.colorbar(surf, shrink=0.5, aspect=5)\n",
    "    # customise title and show plot\n",
    "    plt.title('Loss function (mean squared error)')\n",
    "    plt.show()\n",
    "    # return surface information\n",
    "    return W_grid, B_grid, R_grid\n",
    "    \n",
    "_, _, _, = plot_surf_mse(X_b,y,0.001, 1.0, 0.005)"
   ]
  },
  {
   "cell_type": "markdown",
   "metadata": {
    "collapsed": true
   },
   "source": [
    "Note that we were able to estimate quite closely the global minimum, but we don't have error bars nor any sort of probability distribution over the parameters\n",
    "Try removing the noise form the linear model to see what happens"
   ]
  },
  {
   "cell_type": "markdown",
   "metadata": {
    "collapsed": true
   },
   "source": [
    "**1.2 Bayesian linear regression**"
   ]
  },
  {
   "cell_type": "code",
   "execution_count": 15,
   "metadata": {},
   "outputs": [
    {
     "data": {
      "text/latex": [
       "The likelihood: the probabilitiy of a data point given the parameters is given by:\n",
       "$$ P(\\mathbf{y}_i|\\mathbf{X}_i,\\mathbf{w},\\sigma_v) =  N(\\mathbf{X}_i \\mathbf{w},\\sigma_v^2) $$\n",
       "We informally define our data as the pair with $N$ points:\n",
       "$$ D = (\\mathbf{X},\\mathbf{y}_i) $$\n",
       "Then the likelihood given our entire training set is:\n",
       "$$ P(D|\\mathbf{w},\\sigma_v^2) = \\prod_{i=1}^{N} N(X_i \\mathbf{w},\\sigma_v^2) = \\frac{exp[-\\beta E_D(\\mathbf{y}|\\mathbf{w})]}{Z_D} $$ \n",
       "$$ Z_D = \\Big(\\frac{2\\pi}{\\beta}\\Big)^\\frac{N}{2} $$\n",
       "$$ \\beta = \\frac{1}{\\sigma_v^2} $$\n",
       "$$ E_D = \\sum_{i}^N (\\mathbf{X}_i\\mathbf{w}-\\mathbf{y}_i)^2  $$\n",
       "$E_D$ is the squared difference between the model with ($\\mathbf{y}_i$) and without ($\\mathbf{X}_i\\mathbf{w}$) noise\n",
       "$$$$\n",
       "$P(D|\\mathbf{w},\\sigma_v)$ is the likelihood of the parameters given the data"
      ],
      "text/plain": [
       "<IPython.core.display.Latex object>"
      ]
     },
     "metadata": {},
     "output_type": "display_data"
    }
   ],
   "source": [
    "%%latex\n",
    "The likelihood: the probabilitiy of a data point given the parameters is given by:\n",
    "$$ P(\\mathbf{y}_i|\\mathbf{X}_i,\\mathbf{w},\\sigma_v) =  N(\\mathbf{X}_i \\mathbf{w},\\sigma_v^2) $$\n",
    "We informally define our data as the pair with $N$ points:\n",
    "$$ D = (\\mathbf{X},\\mathbf{y}_i) $$\n",
    "Then the likelihood given our entire training set is:\n",
    "$$ P(D|\\mathbf{w},\\sigma_v^2) = \\prod_{i=1}^{N} N(X_i \\mathbf{w},\\sigma_v^2) = \\frac{exp[-\\beta E_D(\\mathbf{y}|\\mathbf{w})]}{Z_D} $$ \n",
    "$$ Z_D = \\Big(\\frac{2\\pi}{\\beta}\\Big)^\\frac{N}{2} $$\n",
    "$$ \\beta = \\frac{1}{\\sigma_v^2} $$\n",
    "$$ E_D = \\sum_{i}^N (\\mathbf{X}_i\\mathbf{w}-\\mathbf{y}_i)^2  $$\n",
    "$E_D$ is the squared difference between the model with ($\\mathbf{y}_i$) and without ($\\mathbf{X}_i\\mathbf{w}$) noise\n",
    "$$$$\n",
    "$P(D|\\mathbf{w},\\sigma_v)$ is the likelihood of the parameters given the data"
   ]
  },
  {
   "cell_type": "code",
   "execution_count": 16,
   "metadata": {
    "collapsed": true
   },
   "outputs": [],
   "source": [
    "def likelihood_linear_model(X, y, w, noise_sigma):   \n",
    "    beta = noise_sigma\n",
    "    Z_D = np.power((2.0*np.pi/beta),n_pts/2)\n",
    "    E_D = (1.0/2)*np.sum(np.power((y - np.dot(X,w)),2))\n",
    "    P = np.exp(-beta*E_D)\n",
    "    return P[0,0]"
   ]
  },
  {
   "cell_type": "code",
   "execution_count": 17,
   "metadata": {
    "collapsed": true
   },
   "outputs": [],
   "source": [
    "def get_bivariate_Gaussian_to_plot(mean_likelihood, var_likelihood):\n",
    "    std_mult = 3\n",
    "    # for some odd python reason, sigmax and sigma y are santard deviations, but sigmaxy is variance\n",
    "    sigmax = np.sqrt(var_likelihood[0,0])\n",
    "    sigmay = np.sqrt(var_likelihood[1,1])    \n",
    "    sigmaxy = var_likelihood[0,1]\n",
    "    max_sigma = max(sigmax,sigmay)\n",
    "    delta = max_sigma/100\n",
    "    beg_x = mean_likelihood[0,0]-std_mult*max_sigma\n",
    "    end_x = mean_likelihood[0,0]+std_mult*max_sigma\n",
    "    beg_y = mean_likelihood[1,0]-std_mult*max_sigma\n",
    "    end_y = mean_likelihood[1,0]+std_mult*max_sigma\n",
    "    x = np.arange(beg_x, end_x, delta)\n",
    "    y = np.arange(beg_y, end_y, delta)\n",
    "    X, Y = np.meshgrid(x, y)\n",
    "    # ensure Z is ok (a classic problem is getting NaN because the variance is not positive semidefinite)\n",
    "    Z = mlab.bivariate_normal(X, Y, sigmax, sigmay, mean_likelihood[0], mean_likelihood[1], sigmaxy)\n",
    "    assert(not np.any(np.isnan(Z)))\n",
    "    return X, Y, Z"
   ]
  },
  {
   "cell_type": "code",
   "execution_count": 18,
   "metadata": {},
   "outputs": [
    {
     "ename": "IndexError",
     "evalue": "invalid index to scalar variable.",
     "output_type": "error",
     "traceback": [
      "\u001b[0;31m---------------------------------------------------------------------------\u001b[0m",
      "\u001b[0;31mIndexError\u001b[0m                                Traceback (most recent call last)",
      "\u001b[0;32m<ipython-input-18-9772d195fab9>\u001b[0m in \u001b[0;36m<module>\u001b[0;34m()\u001b[0m\n\u001b[1;32m     12\u001b[0m \u001b[0;34m\u001b[0m\u001b[0m\n\u001b[1;32m     13\u001b[0m \u001b[0;31m# maximum likelihood estimation\u001b[0m\u001b[0;34m\u001b[0m\u001b[0;34m\u001b[0m\u001b[0m\n\u001b[0;32m---> 14\u001b[0;31m \u001b[0mmean_likelihood\u001b[0m\u001b[0;34m,\u001b[0m \u001b[0mcovar_likelihood\u001b[0m\u001b[0;34m,\u001b[0m \u001b[0mmax_likelihood\u001b[0m \u001b[0;34m=\u001b[0m \u001b[0mmy_mle\u001b[0m\u001b[0;34m(\u001b[0m\u001b[0mX_b\u001b[0m\u001b[0;34m,\u001b[0m\u001b[0my\u001b[0m\u001b[0;34m)\u001b[0m\u001b[0;34m\u001b[0m\u001b[0m\n\u001b[0m\u001b[1;32m     15\u001b[0m \u001b[0;31m# print information\u001b[0m\u001b[0;34m\u001b[0m\u001b[0;34m\u001b[0m\u001b[0m\n\u001b[1;32m     16\u001b[0m \u001b[0mprint\u001b[0m\u001b[0;34m(\u001b[0m\u001b[0;34m'Mean of likelihood = '\u001b[0m \u001b[0;34m+\u001b[0m \u001b[0mstr\u001b[0m\u001b[0;34m(\u001b[0m\u001b[0mmean_likelihood\u001b[0m\u001b[0;34m)\u001b[0m\u001b[0;34m)\u001b[0m\u001b[0;34m\u001b[0m\u001b[0m\n",
      "\u001b[0;32m<ipython-input-18-9772d195fab9>\u001b[0m in \u001b[0;36mmy_mle\u001b[0;34m(X_b, y)\u001b[0m\n\u001b[1;32m      8\u001b[0m     \u001b[0mcovar_likelihood\u001b[0m \u001b[0;34m=\u001b[0m \u001b[0msigma_v_sq\u001b[0m\u001b[0;34m*\u001b[0m\u001b[0mA\u001b[0m\u001b[0;34m\u001b[0m\u001b[0m\n\u001b[1;32m      9\u001b[0m     \u001b[0;31m# get the estimated maximum value for the likelihood)\u001b[0m\u001b[0;34m\u001b[0m\u001b[0;34m\u001b[0m\u001b[0m\n\u001b[0;32m---> 10\u001b[0;31m     \u001b[0mmax_likelihood\u001b[0m \u001b[0;34m=\u001b[0m \u001b[0mlikelihood_linear_model\u001b[0m\u001b[0;34m(\u001b[0m\u001b[0mX_b\u001b[0m\u001b[0;34m,\u001b[0m \u001b[0my\u001b[0m\u001b[0;34m,\u001b[0m \u001b[0mmean_likelihood\u001b[0m\u001b[0;34m,\u001b[0m \u001b[0msigma_v_sq\u001b[0m\u001b[0;34m)\u001b[0m\u001b[0;34m\u001b[0m\u001b[0m\n\u001b[0m\u001b[1;32m     11\u001b[0m     \u001b[0;32mreturn\u001b[0m \u001b[0mmean_likelihood\u001b[0m\u001b[0;34m,\u001b[0m \u001b[0mcovar_likelihood\u001b[0m\u001b[0;34m,\u001b[0m \u001b[0mmax_likelihood\u001b[0m\u001b[0;34m\u001b[0m\u001b[0m\n\u001b[1;32m     12\u001b[0m \u001b[0;34m\u001b[0m\u001b[0m\n",
      "\u001b[0;32m<ipython-input-16-cd9e1a1e546d>\u001b[0m in \u001b[0;36mlikelihood_linear_model\u001b[0;34m(X, y, w, noise_sigma)\u001b[0m\n\u001b[1;32m      4\u001b[0m     \u001b[0mE_D\u001b[0m \u001b[0;34m=\u001b[0m \u001b[0;34m(\u001b[0m\u001b[0;36m1.0\u001b[0m\u001b[0;34m/\u001b[0m\u001b[0;36m2\u001b[0m\u001b[0;34m)\u001b[0m\u001b[0;34m*\u001b[0m\u001b[0mnp\u001b[0m\u001b[0;34m.\u001b[0m\u001b[0msum\u001b[0m\u001b[0;34m(\u001b[0m\u001b[0mnp\u001b[0m\u001b[0;34m.\u001b[0m\u001b[0mpower\u001b[0m\u001b[0;34m(\u001b[0m\u001b[0;34m(\u001b[0m\u001b[0my\u001b[0m \u001b[0;34m-\u001b[0m \u001b[0mnp\u001b[0m\u001b[0;34m.\u001b[0m\u001b[0mdot\u001b[0m\u001b[0;34m(\u001b[0m\u001b[0mX\u001b[0m\u001b[0;34m,\u001b[0m\u001b[0mw\u001b[0m\u001b[0;34m)\u001b[0m\u001b[0;34m)\u001b[0m\u001b[0;34m,\u001b[0m\u001b[0;36m2\u001b[0m\u001b[0;34m)\u001b[0m\u001b[0;34m)\u001b[0m\u001b[0;34m\u001b[0m\u001b[0m\n\u001b[1;32m      5\u001b[0m     \u001b[0mP\u001b[0m \u001b[0;34m=\u001b[0m \u001b[0mnp\u001b[0m\u001b[0;34m.\u001b[0m\u001b[0mexp\u001b[0m\u001b[0;34m(\u001b[0m\u001b[0;34m-\u001b[0m\u001b[0mbeta\u001b[0m\u001b[0;34m*\u001b[0m\u001b[0mE_D\u001b[0m\u001b[0;34m)\u001b[0m\u001b[0;34m\u001b[0m\u001b[0m\n\u001b[0;32m----> 6\u001b[0;31m     \u001b[0;32mreturn\u001b[0m \u001b[0mP\u001b[0m\u001b[0;34m[\u001b[0m\u001b[0;36m0\u001b[0m\u001b[0;34m,\u001b[0m\u001b[0;36m0\u001b[0m\u001b[0;34m]\u001b[0m\u001b[0;34m\u001b[0m\u001b[0m\n\u001b[0m",
      "\u001b[0;31mIndexError\u001b[0m: invalid index to scalar variable."
     ]
    }
   ],
   "source": [
    "# Calculate the mean, covariance matrix and maximum value for the likelihood (print the information)\n",
    "def my_mle(X_b,y):\n",
    "    # get the A matrix, used in mean and covariance calculation\n",
    "    A = np.linalg.inv(np.dot(X_b.T,X_b))\n",
    "    # get the mean as a (2,1) array\n",
    "    mean_likelihood = np.dot(np.dot(A,X_b.T),y)\n",
    "    # get the covariance as a (2,2) array\n",
    "    covar_likelihood = sigma_v_sq*A\n",
    "    # get the estimated maximum value for the likelihood)\n",
    "    max_likelihood = likelihood_linear_model(X_b, y, mean_likelihood, sigma_v_sq)\n",
    "    return mean_likelihood, covar_likelihood, max_likelihood\n",
    "\n",
    "# maximum likelihood estimation\n",
    "mean_likelihood, covar_likelihood, max_likelihood = my_mle(X_b,y)\n",
    "# print information\n",
    "print('Mean of likelihood = ' + str(mean_likelihood))\n",
    "print('Covariance matrix of likelihood = ' + str(covar_likelihood))\n",
    "print('Max likelihood = ' + str(max_likelihood))"
   ]
  },
  {
   "cell_type": "code",
   "execution_count": null,
   "metadata": {},
   "outputs": [],
   "source": [
    "# Animate the likelihood using different random noise values for the linear model\n",
    "# Resources:\n",
    "#    https://jakevdp.github.io/blog/2012/08/18/matplotlib-animation-tutorial/\n",
    "\n",
    "# number of frames\n",
    "n_frames = 10\n",
    "# number of countours for Gaussian\n",
    "n_countours = 2\n",
    "# get the A matrix from the covariance matrix calculation in order to multiply by noise and get final covariance\n",
    "A = np.linalg.inv(np.dot(X_b.T,X_b))\n",
    "# get the maximum limits to fix them according to the maximum noise value (1.0)\n",
    "fig, axes_likel, axes_likel_lims = plot_bivariate_gaussian_isolines(mean_likelihood, A, n_countours, 'k', False)\n",
    "\n",
    "# define the animation function\n",
    "def animate_likelihood(i):\n",
    "    # clean plot at every frame\n",
    "    axes_likel.cla()\n",
    "    # get random noise\n",
    "    sigmav_sq_curr = np.random.rand()\n",
    "    # get the axes for the current bivariate Gaussian\n",
    "    _, ax, _ = plot_bivariate_gaussian_isolines(mean_likelihood, sigmav_sq_curr*A, n_countours, 'k', False, axes_likel_lims)\n",
    "    # calculate current estimated maximum likelihood\n",
    "    max_likelihood_curr = likelihood_linear_model(X_b, y, mean_likelihood, sigmav_sq_curr*A)\n",
    "    # add legend with current noise value\n",
    "    noise_text = ax.text(0.02, 0.95, '', transform=ax.transAxes)\n",
    "    noise_text.set_text('Noise variance          = ' + str(sigmav_sq_curr))\n",
    "    max_likel_text = ax.text(0.02, 0.90, '', transform=ax.transAxes)\n",
    "    max_likel_text.set_text('Maximum likelihood = ' + str(max_likelihood_curr))\n",
    "    # return axes and the legend\n",
    "    return ax, noise_text\n",
    "\n",
    "# call the animator, defining frame time interval and whether to repeat animation after it is done\n",
    "anim = animation.FuncAnimation(fig, animate_likelihood, frames=n_frames, interval=500, repeat = False)\n",
    "# convert to video in order to show in Jupyter notebook\n",
    "HTML(anim.to_html5_video())"
   ]
  },
  {
   "cell_type": "markdown",
   "metadata": {},
   "source": [
    "[1] MacKay, David JC. Information theory, inference and learning algorithms. Cambridge university press, 2003.\n",
    "\n",
    "[2] MacKay, David JC. \"Bayesian interpolation.\" Neural computation 4.3 (1992): 415-447."
   ]
  },
  {
   "cell_type": "markdown",
   "metadata": {
    "collapsed": true
   },
   "source": [
    "# Known issues\n",
    "Error calling: HTML(anim.to_html5_video()): If the error is due to not finding key ffmpeg, you need to install it. On Ubuntu this worked for me:  \n",
    "\n",
    "sudo add-apt-repository ppa:jon-severinsson/ffmpeg\n",
    "\n",
    "sudo apt-get update\n",
    "\n",
    "sudo apt-get install ffmpeg\n",
    "\n",
    "sudo apt-get install frei0r-plugins\n",
    "\n",
    "\n",
    "\n"
   ]
  },
  {
   "cell_type": "code",
   "execution_count": null,
   "metadata": {
    "collapsed": true
   },
   "outputs": [],
   "source": []
  }
 ],
 "metadata": {
  "kernelspec": {
   "display_name": "Python 3",
   "language": "python",
   "name": "python3"
  },
  "language_info": {
   "codemirror_mode": {
    "name": "ipython",
    "version": 3
   },
   "file_extension": ".py",
   "mimetype": "text/x-python",
   "name": "python",
   "nbconvert_exporter": "python",
   "pygments_lexer": "ipython3",
   "version": "3.5.2"
  }
 },
 "nbformat": 4,
 "nbformat_minor": 2
}
