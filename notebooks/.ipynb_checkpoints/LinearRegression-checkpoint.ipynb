{
 "cells": [
  {
   "cell_type": "markdown",
   "metadata": {},
   "source": [
    "# Learn from linear data (plus noise)\n",
    "\n",
    "Welcome to this notebook. This ntoebook is available at my GitHub http://ww.github.com/pauloabelha/notebooks\n",
    "\n",
    "I made while delving deep into Machine Learning to understand things from first principles.\n",
    "All code in here is of my own authorship.\n",
    "Resources:\n",
    "Wikipedia\n",
    "David Mackay's bible was a valuable resource: http://www.inference.org.uk/mackay/itila/book.html\n",
    "Another good book: http://www.gaussianprocess.org/gpml/\n",
    "Yer another good book: http://www.deeplearningbook.org/\n",
    "\n",
    "In this notebook we compare four different Machine Learning approaches for fitting a function to noisy linear data\n",
    "- Linear Regression\n",
    "- Bayesian Linear Regression\n",
    "- Neural Networks\n",
    "- Gaussian Processes\n",
    "\n",
    "\n",
    "p.s.: One interestig thing would be to implement our own Gaussian distribution sampler:\n",
    "    http://www.alanzucconi.com/2015/09/16/how-to-sample-from-a-gaussian-distribution/\n",
    "\n",
    "First, we import everything and get a numpy fixed seed for reproducibility"
   ]
  },
  {
   "cell_type": "code",
   "execution_count": 1,
   "metadata": {
    "collapsed": true
   },
   "outputs": [],
   "source": [
    "import numpy as np\n",
    "import matplotlib.pyplot as plt\n",
    "\n",
    "# for reproducibility\n",
    "random_seed_ix = 1\n",
    "np.random.seed(random_seed_ix)"
   ]
  },
  {
   "cell_type": "markdown",
   "metadata": {},
   "source": [
    "First we define our function for generating our data according to a linear model plus Gaussian noise"
   ]
  },
  {
   "cell_type": "code",
   "execution_count": 2,
   "metadata": {
    "collapsed": true
   },
   "outputs": [],
   "source": [
    "# X is originally a matrix of (n_pts,n_dis), but we encode the bias by adding a column of ones to it the linear model becomes just\n",
    "# y = X*w isntead of y = X*w + b\n",
    "# We also add the bias to the weight vector\n",
    "def augment_with_bias(X,b,w):\n",
    "    n_pts = X.shape[0]\n",
    "    n_dims = X.shape[1]\n",
    "    X_b = np.hstack((X,np.ones((n_pts,1))))\n",
    "    w_b = np.append(w,np.full((1,1),b),axis=0)\n",
    "    return X_b, w_b"
   ]
  },
  {
   "cell_type": "code",
   "execution_count": 3,
   "metadata": {
    "collapsed": true
   },
   "outputs": [],
   "source": [
    "# Decode data encoded by augment_with_bias to retrieve the original X, w matrices and the bias b\n",
    "def disaugment_with_bias(X_b,w_b):\n",
    "    X = X_b[:,:-1]\n",
    "    b = w_b[-1,0]\n",
    "    w = w_b[:-1,:]\n",
    "    return X, w, b"
   ]
  },
  {
   "cell_type": "code",
   "execution_count": 4,
   "metadata": {
    "collapsed": true
   },
   "outputs": [],
   "source": [
    "def linear_model(X,w,b = 0,noise_sigma = 0):\n",
    "    n_pts = X.shape[0]\n",
    "    X_b, w_b = augment_with_bias(X,b,w)\n",
    "    noise_vec = np.random.normal(0,noise_sigma,(n_pts,1))    \n",
    "    y = np.dot(X_b,w_b) + noise_vec\n",
    "    assert(y.shape[0] == n_pts)\n",
    "    assert(y.shape[1] == 1)\n",
    "    return y, noise_vec, X_b, w_b"
   ]
  },
  {
   "cell_type": "code",
   "execution_count": 5,
   "metadata": {
    "collapsed": true
   },
   "outputs": [],
   "source": [
    "# Generate Gaussian-noisy linear data plus\n",
    "# X is (n_pts,n_dims), where n is number of examples and d is numebr of dimensions\n",
    "# the bias is included in X as an extra column\n",
    "# so the vector w also gets an extra element (always 1)\n",
    "# y is (n_pts,1)\n",
    "# currently this code is for one dimension only\n",
    "def gen_Gauss_noisy_lin_data(n_pts, random_seed_ix = 1, plot_fig = 0):  \n",
    "    # number of dimensions\n",
    "    n_dims = 1\n",
    "    # for reproducibility\n",
    "    np.random.seed(random_seed_ix)\n",
    "    # noise level (variance of Gaussian distribution for noise)\n",
    "    noise_sigma = np.random.rand(1)*0.1\n",
    "    # get X as a random matrix (with one xtra column for adding bias)\n",
    "    X = np.random.rand(n_pts,n_dims)\n",
    "    # add the bias by overwriting the extra column of X\n",
    "    b = np.random.randn()\n",
    "    # ensure w has only positive values (for more intuitive visualisation from left to right)\n",
    "    w = abs(np.random.randn(n_dims,1))\n",
    "    # get y\n",
    "    y, noise_vec, X_b, w_b = linear_model(X,w,b,noise_sigma)\n",
    "    if plot_fig:\n",
    "        plt.scatter(X, y)\n",
    "        plt.show()\n",
    "    return (X_b, y, w_b, noise_vec)"
   ]
  },
  {
   "cell_type": "code",
   "execution_count": 6,
   "metadata": {},
   "outputs": [
    {
     "data": {
      "image/png": "[encoded data removed]",
      "text/plain": [
       "<matplotlib.figure.Figure at 0x7fd1f5e557f0>"
      ]
     },
     "metadata": {},
     "output_type": "display_data"
    },
    {
     "name": "stdout",
     "output_type": "stream",
     "text": [
      "X_train shape (wth added bias) = (20, 2)\n",
      "y_train shape = (20, 1)\n",
      "w shape (with added bias) = (2, 1)\n",
      "noise shape = (20, 1)\n"
     ]
    }
   ],
   "source": [
    "linear_model(np.random.rand(3,1),np.random.rand(1,1),1.37,np.random.rand(1)*0.1)\n",
    "X_train_b, y_train, w_b, noise = gen_Gauss_noisy_lin_data(20,random_seed_ix,True)\n",
    "print(\"X_train shape (wth added bias) = \" + str(X_train_b.shape))\n",
    "print(\"y_train shape = \" + str(y_train.shape))\n",
    "print(\"w shape (with added bias) = \" + str(w_b.shape))\n",
    "print(\"noise shape = \" + str(noise.shape))"
   ]
  },
  {
   "cell_type": "markdown",
   "metadata": {},
   "source": [
    "Now we perform Linear Regression"
   ]
  },
  {
   "cell_type": "code",
   "execution_count": 7,
   "metadata": {
    "collapsed": true
   },
   "outputs": [],
   "source": [
    "# mean squared error for our linear model\n",
    "def my_mse(y_hat,y):\n",
    "    m = y_hat.shape[1]\n",
    "    mse = (1/m)*np.sum(np.power(y_hat-y,2))\n",
    "    return mse    "
   ]
  },
  {
   "cell_type": "code",
   "execution_count": 8,
   "metadata": {
    "collapsed": true
   },
   "outputs": [],
   "source": [
    "# perform linear regression using mean squared error\n",
    "# http://www.deeplearningbook.org/contents/ml.html (Section 5.1.4)\n",
    "def linear_regression(X_train,y_train):\n",
    "    assert(X_train.shape[0] == y_train.shape[0])\n",
    "    a = np.linalg.inv(np.dot(X_train.T,X_train))\n",
    "    b = np.dot(a,X_train.T)\n",
    "    w_pred = np.dot(b,y_train)    \n",
    "    y_pred = np.dot(X_train,w_pred)\n",
    "    assert(y_pred.shape == y_train.shape)\n",
    "    mse = my_mse(y_train,y_pred)\n",
    "    return w_pred, y_pred, mse"
   ]
  },
  {
   "cell_type": "code",
   "execution_count": 9,
   "metadata": {
    "scrolled": true
   },
   "outputs": [
    {
     "name": "stdout",
     "output_type": "stream",
     "text": [
      "Predicted w = [[ 0.3690886]]\n",
      "Real w = [[ 0.37299379]]\n",
      "Predicted b = 0.729975596414\n",
      "Real b = 0.72886500896\n",
      "Mean squared error = 0.0280327349634\n"
     ]
    },
    {
     "data": {
      "image/png": "[encoded data removed]",
      "text/plain": [
       "<matplotlib.figure.Figure at 0x7fd1f3d8d828>"
      ]
     },
     "metadata": {},
     "output_type": "display_data"
    }
   ],
   "source": [
    "w_pred, y_pred, mse = linear_regression(X_train_b,y_train)\n",
    "X, w, b = disaugment_with_bias(X_train_b,w_b)\n",
    "print(\"Predicted w = \" + str(w_pred[:-1,:]))\n",
    "print(\"Real w = \" + str(w))\n",
    "print(\"Predicted b = \" + str(b))\n",
    "print(\"Real b = \" + str(w_pred[1,0]))\n",
    "print(\"Mean squared error = \" + str(mse))\n",
    "\n",
    "plt.plot(X,y_pred)\n",
    "plt.scatter(X, y_train)\n",
    "plt.show()"
   ]
  },
  {
   "cell_type": "markdown",
   "metadata": {
    "collapsed": true
   },
   "source": [
    "Now we plot the loss function to see the minimum"
   ]
  },
  {
   "cell_type": "code",
   "execution_count": null,
   "metadata": {
    "collapsed": true
   },
   "outputs": [],
   "source": []
  }
 ],
 "metadata": {
  "kernelspec": {
   "display_name": "Python 3",
   "language": "python",
   "name": "python3"
  },
  "language_info": {
   "codemirror_mode": {
    "name": "ipython",
    "version": 3
   },
   "file_extension": ".py",
   "mimetype": "text/x-python",
   "name": "python",
   "nbconvert_exporter": "python",
   "pygments_lexer": "ipython3",
   "version": "3.5.2"
  }
 },
 "nbformat": 4,
 "nbformat_minor": 2
}
