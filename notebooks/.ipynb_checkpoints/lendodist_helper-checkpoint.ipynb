{
 "cells": [
  {
   "cell_type": "code",
   "execution_count": 2,
   "metadata": {
    "collapsed": true
   },
   "outputs": [],
   "source": [
    "import numpy as np\n",
    "import matplotlib.pyplot as plt"
   ]
  },
  {
   "cell_type": "code",
   "execution_count": 3,
   "metadata": {
    "collapsed": true
   },
   "outputs": [],
   "source": [
    "# plot a cooolwarm surface given an m x n matrix Z with values\n",
    "def my_plot_3Dsurf(range_x,range_y,Z,label_x = 'x',label_y = 'y', viewpoint = 111, fontsize_x = 18, fontsize_y = 18):\n",
    "    x = np.linspace(range_x[0], range_x[1], Z.shape[0])\n",
    "    y = np.linspace(range_y[0], range_y[1], Z.shape[1])\n",
    "    xv, yv = np.meshgrid(x, y)\n",
    "    fig = plt.figure()\n",
    "    ax = fig.add_subplot(viewpoint, projection='3d')\n",
    "    ax.plot_surface(xv, yv, Z, cmap=cm.coolwarm)\n",
    "    plt.xlabel(label_x, fontsize=fontsize_x)\n",
    "    plt.ylabel(label_y, fontsize=fontsize_y)\n",
    "    plt.show()"
   ]
  },
  {
   "cell_type": "code",
   "execution_count": null,
   "metadata": {
    "collapsed": true
   },
   "outputs": [],
   "source": []
  }
 ],
 "metadata": {
  "kernelspec": {
   "display_name": "Python 2",
   "language": "python",
   "name": "python2"
  },
  "language_info": {
   "codemirror_mode": {
    "name": "ipython",
    "version": 2
   },
   "file_extension": ".py",
   "mimetype": "text/x-python",
   "name": "python",
   "nbconvert_exporter": "python",
   "pygments_lexer": "ipython2",
   "version": "2.7.6"
  }
 },
 "nbformat": 4,
 "nbformat_minor": 2
}
