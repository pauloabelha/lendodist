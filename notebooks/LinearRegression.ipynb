{
 "cells": [
  {
   "cell_type": "markdown",
   "metadata": {},
   "source": [
    "# Learn from linear data (plus noise)\n",
    "\n",
    "Welcome to this notebook. This ntoebook is available at my GitHub http://ww.github.com/pauloabelha/notebooks\n",
    "\n",
    "I made while delving deep into Machine Learning to understand things from first principles.\n",
    "All code in here is of my own authorship.\n",
    "David Mackay's bible was a valuable resource: http://www.inference.org.uk/mackay/itila/book.html\n",
    "Another amazing book: http://www.gaussianprocess.org/gpml/\n",
    "\n",
    "In this notebook we compare four different Machine Learning approaches for fitting a function to noisy linear data\n",
    "- Linear Regression\n",
    "- Bayesian Linear Regression\n",
    "- Neural Networks\n",
    "- Gaussian Processes\n",
    "\n",
    "Let's get started!"
   ]
  },
  {
   "cell_type": "code",
   "execution_count": 45,
   "metadata": {},
   "outputs": [],
   "source": [
    "import numpy as np\n",
    "import matplotlib.pyplot as plt\n",
    "\n",
    "# for reproducibility\n",
    "np.random.seed(1)"
   ]
  },
  {
   "cell_type": "code",
   "execution_count": 44,
   "metadata": {},
   "outputs": [
    {
     "name": "stdout",
     "output_type": "stream",
     "text": [
      "(1, 10)\n"
     ]
    },
    {
     "data": {
      "image/png": "[encoded data removed]",
      "text/plain": [
       "<matplotlib.figure.Figure at 0x7faa9974c1d0>"
      ]
     },
     "metadata": {},
     "output_type": "display_data"
    }
   ],
   "source": [
    "3 for reproducibility\n",
    "np.random.seed(1)\n",
    "# noise level (standard deviation of Gaussian distribution for noise)\n",
    "noise_sigma = 0.05\n",
    "# generate linear dataset with random Gaussian noise W = WX.T + b + n (n is noise vector)\n",
    "X = np.random.rand(1,10)\n",
    "W = np.random.randn(1,1)\n",
    "b = np.random.randn(1,1)\n",
    "n = np.random.normal(0,noise_sigma,(1,X.shape[0]))\n",
    "Y = np.dot(W,X) + b + n\n",
    "plt.scatter(X, Y)\n",
    "plt.show()"
   ]
  },
  {
   "cell_type": "code",
   "execution_count": null,
   "metadata": {
    "collapsed": true
   },
   "outputs": [],
   "source": []
  }
 ],
 "metadata": {
  "kernelspec": {
   "display_name": "Python 3",
   "language": "python",
   "name": "python3"
  },
  "language_info": {
   "codemirror_mode": {
    "name": "ipython",
    "version": 3
   },
   "file_extension": ".py",
   "mimetype": "text/x-python",
   "name": "python",
   "nbconvert_exporter": "python",
   "pygments_lexer": "ipython3",
   "version": "3.5.2"
  }
 },
 "nbformat": 4,
 "nbformat_minor": 2
}
