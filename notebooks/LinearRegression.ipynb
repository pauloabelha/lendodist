{
 "cells": [
  {
   "cell_type": "markdown",
   "metadata": {},
   "source": [
    "# Learning from linear data (plus noise)\n",
    "\n",
    "Welcome to this notebook.\n",
    "\n",
    "I'm Paulo Abelha and this ntoebook is available at my GitHub http://ww.github.com/pauloabelha/notebooks\n",
    "\n",
    "I made this as part of my own studies in Machine Learning.\n",
    "\n",
    "The idea is start simple, but principled and work our way up the abstractions.\n",
    "\n",
    "Therefore we deal with the \"hello world\" of Machine Learning: Linear regression\n",
    "\n",
    "All code in here is of my own authorship.\n",
    "\n",
    "Main Resources:\n",
    "- Wikipedia\n",
    "- David Mackay's bible was a valuable resource: http://www.inference.org.uk/mackay/itila/book.html\n",
    "- This great paper: MacKay, David JC. \"Bayesian interpolation.\" Neural computation 4.3 (1992): 415-447.\n",
    "- Another great book: http://www.gaussianprocess.org/gpml/\n",
    "- Yet another great book: http://www.deeplearningbook.org/\n",
    "\n",
    "In this notebook we compare four different Machine Learning approaches for fitting a function to noisy linear data\n",
    "- Linear Regression\n",
    "- Bayesian Linear Regression\n",
    "- Neural Networks\n",
    "- Gaussian Processes\n",
    "\n",
    "\n",
    "p.s.: One interesting thing would be to implement our own Gaussian distribution sampler:\n",
    "\n",
    "    http://www.alanzucconi.com/2015/09/16/how-to-sample-from-a-gaussian-distribution/"
   ]
  },
  {
   "cell_type": "code",
   "execution_count": 1,
   "metadata": {
    "collapsed": true
   },
   "outputs": [],
   "source": [
    "import numpy as np\n",
    "import matplotlib.pyplot as plt\n",
    "from mpl_toolkits.mplot3d import Axes3D\n",
    "from matplotlib import cm\n",
    "\n",
    "# for reproducibility\n",
    "random_seed_ix = 1\n",
    "np.random.seed(random_seed_ix)\n",
    "# number of data points\n",
    "n_pts = 100\n",
    "n_dims = 1\n",
    "# noise level (variance of Gaussian distribution for noise)\n",
    "noise_sigma = np.random.rand(random_seed_ix)*0.05"
   ]
  },
  {
   "cell_type": "markdown",
   "metadata": {},
   "source": [
    "**1.1 Helper Functions**"
   ]
  },
  {
   "cell_type": "code",
   "execution_count": 2,
   "metadata": {
    "collapsed": true
   },
   "outputs": [],
   "source": [
    "# X is originally a matrix of (n_pts,n_dis), but we encode the bias by adding a column of ones to it the linear model becomes just\n",
    "# y = X*w isntead of y = X*w + b\n",
    "# We also add the bias to the weight vector\n",
    "def augment_with_bias(X,b):\n",
    "    n_pts = X.shape[0]\n",
    "    X_b = np.hstack((X,np.ones((n_pts,1))))\n",
    "    return X_b"
   ]
  },
  {
   "cell_type": "code",
   "execution_count": 3,
   "metadata": {
    "collapsed": true
   },
   "outputs": [],
   "source": [
    "# Decode data encoded by augment_with_bias to retrieve the original X, w matrices and the bias b\n",
    "def disaugment_with_bias(X_b,w_b):\n",
    "    X = X_b[:,:-1]\n",
    "    b = w_b[-1,0]\n",
    "    w = w_b[:-1,:]\n",
    "    return X, w, b"
   ]
  },
  {
   "cell_type": "code",
   "execution_count": 4,
   "metadata": {
    "collapsed": true
   },
   "outputs": [],
   "source": [
    "# plot a cooolwarm surface given an m x n matrix Z with values\n",
    "def my_plot_3Dsurf(range_x,range_y,Z,label_x = 'x',label_y = 'y', viewpoint = 111, fontsize_x = 18, fontsize_y = 18):\n",
    "    x = np.linspace(range_x[0], range_x[1], Z.shape[0])\n",
    "    y = np.linspace(range_y[0], range_y[1], Z.shape[1])\n",
    "    xv, yv = np.meshgrid(x, y)\n",
    "    fig = plt.figure()\n",
    "    ax = fig.add_subplot(viewpoint, projection='3d')\n",
    "    ax.plot_surface(xv, yv, Z, cmap=cm.coolwarm)\n",
    "    plt.xlabel(label_x, fontsize=fontsize_x)\n",
    "    plt.ylabel(label_y, fontsize=fontsize_y)\n",
    "    plt.show()"
   ]
  },
  {
   "cell_type": "code",
   "execution_count": 5,
   "metadata": {
    "collapsed": true
   },
   "outputs": [],
   "source": [
    "def my_plot_birdview(Z):\n",
    "    plt.imshow(np.reshape(Z, (Z.shape[0],-1)), origin='lower', extent=[0,1,0,1])\n",
    "    plt.show()"
   ]
  },
  {
   "cell_type": "markdown",
   "metadata": {},
   "source": [
    "**1.1 - Linear Model for Generating Data**\n",
    "\n",
    "Here we:\n",
    "- Define our linear model plus noise\n",
    "- Define the function for generating the data\n",
    "- Plot the data and information about it (matrices' shapes and value for the weight w and bias b)"
   ]
  },
  {
   "cell_type": "code",
   "execution_count": 6,
   "metadata": {
    "collapsed": true
   },
   "outputs": [],
   "source": [
    "# the linear model y = X*w + b using the encoded bias\n",
    "def linear_model(X_b,w,noise_sigma = 0):\n",
    "    n_pts = X_b.shape[0]\n",
    "    #X_b, w_b = augment_with_bias(X,b,w)\n",
    "    noise_vec = np.random.normal(0,noise_sigma,(n_pts,1))    \n",
    "    y = np.dot(X_b,w) + noise_vec\n",
    "    # ensure y is a (n_pts,1) vector\n",
    "    assert(y.shape[0] == n_pts)\n",
    "    assert(y.shape[1] == 1)\n",
    "    return y, noise_vec"
   ]
  },
  {
   "cell_type": "code",
   "execution_count": 7,
   "metadata": {
    "collapsed": true
   },
   "outputs": [],
   "source": [
    "# Generate Gaussian-noisy linear data plus\n",
    "# X is (n_pts,n_dims), where n is number of examples and d is numebr of dimensions\n",
    "# the bias is included in X as an extra column\n",
    "# so the vector w also gets an extra element (always 1)\n",
    "# y is (n_pts,1)\n",
    "# currently this code is for one dimension only\n",
    "def gen_Gauss_noisy_lin_data(n_pts, noise_sigma, random_seed_ix = 1, plot_fig = 0):  \n",
    "    # number of dimensions\n",
    "    n_dims = 1\n",
    "    # for reproducibility\n",
    "    np.random.seed(random_seed_ix)    \n",
    "    # add the bias by overwriting the extra column of X\n",
    "    b = np.random.rand()\n",
    "    # get X as a random matrix (with one xtra column for adding bias)\n",
    "    X = np.random.rand(n_pts,n_dims)\n",
    "    X_b = augment_with_bias(X,b)    \n",
    "    # ensure w has only positive values (for more intuitive visualisation from left to right)\n",
    "    w_1 = abs(np.random.rand(n_dims,1))\n",
    "    # get full weight vector\n",
    "    w = np.zeros((2,1))\n",
    "    w[0,0] = w_1\n",
    "    w[1,0] = b\n",
    "    # get y\n",
    "    y, noise_vec = linear_model(X_b,w,noise_sigma)\n",
    "    if plot_fig:\n",
    "        plt.scatter(X, y, color='k')\n",
    "        plt.show()\n",
    "    return X_b, y, w, noise_vec"
   ]
  },
  {
   "cell_type": "code",
   "execution_count": 8,
   "metadata": {},
   "outputs": [
    {
     "data": {
      "image/png": "[encoded data removed]",
      "text/plain": [
       "<matplotlib.figure.Figure at 0x7fe234506d90>"
      ]
     },
     "metadata": {},
     "output_type": "display_data"
    },
    {
     "name": "stdout",
     "output_type": "stream",
     "text": [
      "X_train shape (wth added bias) = (100, 2)\n",
      "y_train shape = (100, 1)\n",
      "w shape (with added bias) = (2, 1)\n",
      "noise shape = (100, 1)\n",
      "w = [[ 0.5270581]\n",
      " [ 0.417022 ]]\n"
     ]
    }
   ],
   "source": [
    "# plot the data and information about it\n",
    "X_train, y_train, w, noise = gen_Gauss_noisy_lin_data(n_pts,noise_sigma,random_seed_ix,True)\n",
    "print(\"X_train shape (wth added bias) = \" + str(X_train.shape))\n",
    "print(\"y_train shape = \" + str(y_train.shape))\n",
    "print(\"w shape (with added bias) = \" + str(w.shape))\n",
    "print(\"noise shape = \" + str(noise.shape))\n",
    "print(\"w = \" + str(w))"
   ]
  },
  {
   "cell_type": "markdown",
   "metadata": {},
   "source": [
    "**1.2 - Linear Regresion**\n",
    "\n",
    "Here we:\n",
    "- Define our loss function as mean squared errors\n",
    "- Perform Linear Regresion on the generated data\n",
    "- Plot the fit in data space\n",
    "- Plot the loss function in parameter space"
   ]
  },
  {
   "cell_type": "code",
   "execution_count": 9,
   "metadata": {
    "collapsed": true
   },
   "outputs": [],
   "source": [
    "# mean squared error for our linear model\n",
    "def my_mse(y_hat,y):\n",
    "    m = y_hat.shape[1]\n",
    "    mse = (1/m)*np.sum(np.power(y_hat-y,2))\n",
    "    return mse    "
   ]
  },
  {
   "cell_type": "code",
   "execution_count": 10,
   "metadata": {
    "collapsed": true
   },
   "outputs": [],
   "source": [
    "# perform linear regression using mean squared error as loss function\n",
    "# please, do go through the derivations in: http://www.deeplearningbook.org/contents/ml.html (Section 5.1.4)\n",
    "def my_linear_regression(X_train,y_train):\n",
    "    assert(X_train.shape[0] == y_train.shape[0])\n",
    "    # separate the derivation into chunks for easier understanding\n",
    "    a = np.linalg.inv(np.dot(X_train.T,X_train))\n",
    "    b = np.dot(a,X_train.T)\n",
    "    w_pred = np.dot(b,y_train) \n",
    "    # get predictions\n",
    "    y_pred = np.dot(X_train,w_pred)\n",
    "    assert(y_pred.shape == y_train.shape)\n",
    "    # get mean squared error\n",
    "    mse = my_mse(y_train,y_pred)\n",
    "    return w_pred, y_pred, mse"
   ]
  },
  {
   "cell_type": "code",
   "execution_count": 11,
   "metadata": {
    "scrolled": true
   },
   "outputs": [
    {
     "name": "stdout",
     "output_type": "stream",
     "text": [
      "Predicted w = [[ 0.52622661]\n",
      " [ 0.41949178]]\n",
      "Real w = [[ 0.5270581]\n",
      " [ 0.417022 ]]\n",
      "Mean squared error = 0.0332198450597\n"
     ]
    },
    {
     "data": {
      "image/png": "[encoded data removed]",
      "text/plain": [
       "<matplotlib.figure.Figure at 0x7fe23241a890>"
      ]
     },
     "metadata": {},
     "output_type": "display_data"
    }
   ],
   "source": [
    "# call linear regression on our training data and get the real and predicted values for w and b, plotting the fit\n",
    "w_pred, y_pred, mse = my_linear_regression(X_train,y_train)\n",
    "print(\"Predicted w = \" + str(w_pred))\n",
    "print(\"Real w = \" + str(w))\n",
    "print(\"Mean squared error = \" + str(mse))\n",
    "\n",
    "plt.plot(X_train[:,:-1],y_pred, color = 'r')\n",
    "plt.scatter(X_train[:,:-1], y_train, color = 'k')\n",
    "plt.show()"
   ]
  },
  {
   "cell_type": "code",
   "execution_count": 12,
   "metadata": {},
   "outputs": [
    {
     "ename": "NameError",
     "evalue": "name 'X_train_b' is not defined",
     "output_type": "error",
     "traceback": [
      "\u001b[0;31m---------------------------------------------------------------------------\u001b[0m",
      "\u001b[0;31mNameError\u001b[0m                                 Traceback (most recent call last)",
      "\u001b[0;32m<ipython-input-12-4632ee22f2b4>\u001b[0m in \u001b[0;36m<module>\u001b[0;34m()\u001b[0m\n\u001b[1;32m     10\u001b[0m          \u001b[0;31m# force float by multiplying by 1.0\u001b[0m\u001b[0;34m\u001b[0m\u001b[0;34m\u001b[0m\u001b[0m\n\u001b[1;32m     11\u001b[0m         \u001b[0mw_curr\u001b[0m\u001b[0;34m[\u001b[0m\u001b[0;36m1\u001b[0m\u001b[0;34m,\u001b[0m\u001b[0;36m0\u001b[0m\u001b[0;34m]\u001b[0m \u001b[0;34m=\u001b[0m \u001b[0;36m1.0\u001b[0m\u001b[0;34m*\u001b[0m\u001b[0mj\u001b[0m\u001b[0;34m/\u001b[0m\u001b[0mn_iter\u001b[0m\u001b[0;34m\u001b[0m\u001b[0m\n\u001b[0;32m---> 12\u001b[0;31m         \u001b[0my_hat\u001b[0m\u001b[0;34m,\u001b[0m \u001b[0m_\u001b[0m \u001b[0;34m=\u001b[0m \u001b[0mlinear_model\u001b[0m\u001b[0;34m(\u001b[0m\u001b[0mX_train_b\u001b[0m\u001b[0;34m,\u001b[0m\u001b[0mw_curr\u001b[0m\u001b[0;34m)\u001b[0m\u001b[0;34m\u001b[0m\u001b[0m\n\u001b[0m\u001b[1;32m     13\u001b[0m         \u001b[0mmse_errors\u001b[0m\u001b[0;34m[\u001b[0m\u001b[0mi\u001b[0m\u001b[0;34m,\u001b[0m\u001b[0mj\u001b[0m\u001b[0;34m]\u001b[0m \u001b[0;34m=\u001b[0m \u001b[0mmy_mse\u001b[0m\u001b[0;34m(\u001b[0m\u001b[0my_hat\u001b[0m\u001b[0;34m,\u001b[0m\u001b[0my_train\u001b[0m\u001b[0;34m)\u001b[0m\u001b[0;34m\u001b[0m\u001b[0m\n\u001b[1;32m     14\u001b[0m         \u001b[0;32mif\u001b[0m \u001b[0mmse_errors\u001b[0m\u001b[0;34m[\u001b[0m\u001b[0mi\u001b[0m\u001b[0;34m,\u001b[0m\u001b[0mj\u001b[0m\u001b[0;34m]\u001b[0m \u001b[0;34m<\u001b[0m \u001b[0mmin_mse\u001b[0m\u001b[0;34m:\u001b[0m\u001b[0;34m\u001b[0m\u001b[0m\n",
      "\u001b[0;31mNameError\u001b[0m: name 'X_train_b' is not defined"
     ]
    }
   ],
   "source": [
    "# get the mean squared errors for a range of w and b values and plot the error surface\n",
    "n_iter = 100\n",
    "w_curr = np.zeros((2,1))\n",
    "mse_errors = np.zeros((n_iter,n_iter))\n",
    "min_mse = np.Inf\n",
    "for i in range(n_iter):\n",
    "    # force float by multiplying by 1.0\n",
    "    w_curr[0,0] = 1.0*i/n_iter\n",
    "    for j in range(n_iter):\n",
    "         # force float by multiplying by 1.0\n",
    "        w_curr[1,0] = 1.0*j/n_iter\n",
    "        y_hat, _ = linear_model(X_train_b,w_curr)\n",
    "        mse_errors[i,j] = my_mse(y_hat,y_train)\n",
    "        if mse_errors[i,j] < min_mse:\n",
    "            min_mse = mse_errors[i,j]\n",
    "            min_w = np.array(w_curr, copy = True)\n",
    "#my_plot_3Dsurf([0, 1],[0, 1],mse_errors,'b','w')\n",
    "print(\"Minimum mean squared error = \" + str(max_P) + \" at (\" + str(best_w[0,0]) + \",\" + str(best_w[1,0]) + \")\")\n",
    "my_plot_birdview(mse_errors)"
   ]
  },
  {
   "cell_type": "markdown",
   "metadata": {
    "collapsed": true
   },
   "source": [
    "Note that we were able to estimate quite closely the global minimum, but we don't have error bars nor any sort of probability distribution over the parameters\n",
    "Try removing the noise form the linear model to see what happens"
   ]
  },
  {
   "cell_type": "markdown",
   "metadata": {
    "collapsed": true
   },
   "source": [
    "**1.2 Bayesian linear regression**"
   ]
  },
  {
   "cell_type": "code",
   "execution_count": null,
   "metadata": {},
   "outputs": [],
   "source": [
    "%%latex\n",
    "Following notation in [2], but in our case, we do not have fixed basis functions $\\phi_h(x)$\n",
    "$$ \\mathbf{y} = \\mathbf{X} \\mathbf{w} + v_m $$\n",
    "$$ v_m \\sim N(0,\\sigma_v) $$\n",
    "$$ D = (\\mathbf{X}_i,\\mathbf{y}_i) $$\n",
    "$$ P(D|\\mathbf{w},\\sigma_v) =  N(X_i \\mathbf{w},\\sigma_v) $$\n",
    "$$ P(D|\\mathbf{w},\\sigma_v) = \\prod_{i=1}^{N} N(X_i \\mathbf{w},\\sigma_v) = \\frac{exp[-\\beta E_D(\\mathbf{y}|\\mathbf{w})]}{Z_D} $$ \n",
    "$$ Z_D = \\Big(\\frac{2\\pi}{\\beta}\\Big)^\\frac{N}{2} $$\n",
    "$$ \\beta = \\frac{1}{\\sigma_v^2} $$\n",
    "$$ E_D = \\sum_{i}^N (\\mathbf{X}_i\\mathbf{w}-\\mathbf{y}_i)^2  $$\n",
    "$E_D$ is the squared difference between the model with ($\\mathbf{y}_i$) and without ($\\mathbf{X}_i\\mathbf{w}$) noise\n",
    "$$$$\n",
    "$P(D|\\mathbf{w},\\sigma_v)$ is the likelihood of the parameters given the data"
   ]
  },
  {
   "cell_type": "code",
   "execution_count": null,
   "metadata": {},
   "outputs": [],
   "source": [
    "def likelihood_linear_model(n_pts, w, noise_sigma):\n",
    "    X_b, y, _, _ = gen_Gauss_noisy_lin_data(n_pts,noise_sigma)\n",
    "    beta = np.power(1.0/noise_sigma,2)\n",
    "    Z_D = np.power((2.0*np.pi/beta),n_pts/2)\n",
    "    E_D = (1.0/2)*np.sum(np.power((y - np.dot(X_b,w)),2))\n",
    "    P = np.exp(-beta*E_D)\n",
    "    return P, X_b, y"
   ]
  },
  {
   "cell_type": "code",
   "execution_count": null,
   "metadata": {},
   "outputs": [],
   "source": [
    "n_iter = 100\n",
    "w_curr = np.zeros((n_dims+1,1))\n",
    "best_w = np.zeros((n_dims+1,1))\n",
    "Ps = np.zeros((n_iter,n_iter))\n",
    "max_P = -1\n",
    "for i in range(n_iter):\n",
    "    w_curr[0,0] = 1.0*i/n_iter\n",
    "    for j in range(n_iter):\n",
    "        w_curr[1,0] = 1.0*j/n_iter\n",
    "        Ps[i,j], _, _ = likelihood_linear_model(n_pts,w_curr,noise_sigma)\n",
    "        if Ps[i,j] > max_P:\n",
    "            max_P = Ps[i,j]            \n",
    "            best_w = np.array(w_curr, copy=True)\n",
    "print(\"Max likelihood = \" + str(max_P) + \" at (\" + str(best_w[0,0]) + \",\" + str(best_w[1,0]) + \")\")\n",
    "#my_plot_3Dsurf([0, 1],[0, 1],Ps,'b','w')\n",
    "my_plot_birdview(Ps)"
   ]
  },
  {
   "cell_type": "markdown",
   "metadata": {},
   "source": [
    "[1] MacKay, David JC. Information theory, inference and learning algorithms. Cambridge university press, 2003.\n",
    "\n",
    "[2] MacKay, David JC. \"Bayesian interpolation.\" Neural computation 4.3 (1992): 415-447."
   ]
  },
  {
   "cell_type": "code",
   "execution_count": null,
   "metadata": {
    "collapsed": true
   },
   "outputs": [],
   "source": []
  }
 ],
 "metadata": {
  "kernelspec": {
   "display_name": "Python 2",
   "language": "python",
   "name": "python2"
  },
  "language_info": {
   "codemirror_mode": {
    "name": "ipython",
    "version": 2
   },
   "file_extension": ".py",
   "mimetype": "text/x-python",
   "name": "python",
   "nbconvert_exporter": "python",
   "pygments_lexer": "ipython2",
   "version": "2.7.6"
  }
 },
 "nbformat": 4,
 "nbformat_minor": 2
}
