{
 "cells": [
  {
   "cell_type": "markdown",
   "metadata": {},
   "source": [
    "# Learning from linear data (plus noise)\n",
    "\n",
    "Welcome to this notebook. The author is Paulo Abelha (http://www.pauloabelha.com)\n",
    "\n",
    "This notebook should be available on my GitHub http://ww.github.com/pauloabelha/notebooks\n",
    "\n",
    "In this module you will learn four approaches to linear regression. The idea is start simple, but principled; working our way up the abstractions. Therefore we deal with the \"hello world\" of Machine Learning: Linear regression\n",
    "\n",
    "Unless explictly noted, all code and writing in here is of my own authorship \n",
    "\n",
    "Main Resources:\n",
    "- Wikipedia (please donate to Wikipedia)\n",
    "- This great paper: MacKay, David JC. \"Bayesian interpolation.\" Neural computation 4.3 (1992): 415-447.\n",
    "- David Mackay's bible was a great resource: http://www.inference.org.uk/mackay/itila/book.html\n",
    "- Another great book: http://www.gaussianprocess.org/gpml/\n",
    "- Yet another great book: http://www.deeplearningbook.org/\n",
    "- Nice cookbook for matrices: http://compbio.fmph.uniba.sk/vyuka/ml/old/2008/handouts/matrix-cookbook.pdf\n",
    "- Detailed derivations for oepration on Gaussians: http://www.tina-vision.net/docs/memos/2003-003.pdf\n",
    "\n",
    "Here we compare four different Machine Learning approaches for fitting a function to noisy linear data\n",
    "- Linear Regression\n",
    "- Bayesian Linear Regression\n",
    "- Neural Networks\n",
    "- Gaussian Processes"
   ]
  },
  {
   "cell_type": "code",
   "execution_count": 28,
   "metadata": {
    "collapsed": true
   },
   "outputs": [],
   "source": [
    "import numpy as np\n",
    "import matplotlib.pyplot as plt\n",
    "from mpl_toolkits.mplot3d import Axes3D\n",
    "import matplotlib.cm as cm\n",
    "import matplotlib.mlab as mlab\n",
    "import matplotlib.pyplot as plt\n",
    "from matplotlib import animation, rc\n",
    "from IPython.display import HTML\n",
    "from matplotlib.patches import Ellipse\n",
    "from matplotlib.ticker import LinearLocator, FormatStrFormatter\n",
    "\n",
    "# for reproducibility\n",
    "random_seed_ix = 1\n",
    "np.random.seed(random_seed_ix)\n",
    "# number of data points\n",
    "n_pts = 100\n",
    "n_dims = 1\n",
    "# noise (variance of Gaussian distribution for noise)\n",
    "# sample the noise uniformly at random in [0, 1) and divide by 10\n",
    "sigma_v_sq = np.random.rand(n_dims,1)/10.0\n",
    "sigma_v_sq = sigma_v_sq[0,0]\n",
    "# sample a weight uniformly at random in [0, 1)\n",
    "w_1 = np.random.rand(n_dims,1)\n",
    "# sample a bias uniformly at random in [0, 1)\n",
    "b = np.random.rand()\n",
    "# the X values\n",
    "X = np.random.rand(n_pts,n_dims)"
   ]
  },
  {
   "cell_type": "markdown",
   "metadata": {},
   "source": [
    "**1.1 Helper Functions**"
   ]
  },
  {
   "cell_type": "code",
   "execution_count": 29,
   "metadata": {
    "collapsed": true
   },
   "outputs": [],
   "source": [
    "# plot a cooolwarm surface given an m x n matrix Z with values \n",
    "# range_x: a 2-element vector/list with the minimum and maximum values in the x axis\n",
    "# range_y: analogous to range_x, but for the y axis\n",
    "def my_plot_3Dsurf(range_x,range_y,Z,label_x = 'x',label_y = 'y', viewpoint = 111, fontsize_x = 18, fontsize_y = 18):\n",
    "    x = np.linspace(range_x[0], range_x[1], Z.shape[0])\n",
    "    y = np.linspace(range_y[0], range_y[1], Z.shape[1])\n",
    "    xv, yv = np.meshgrid(x, y)\n",
    "    fig = plt.figure()\n",
    "    ax = fig.add_subplot(viewpoint, projection='3d')\n",
    "    ax.plot_surface(xv, yv, Z, cmap=cm.coolwarm)\n",
    "    plt.xlabel(label_x, fontsize=fontsize_x)\n",
    "    plt.ylabel(label_y, fontsize=fontsize_y)\n",
    "    plt.show()"
   ]
  },
  {
   "cell_type": "code",
   "execution_count": 30,
   "metadata": {
    "collapsed": true
   },
   "outputs": [],
   "source": [
    "# plot a heatmap given an m x n matrix Z with values\n",
    "def plot_heatmap(Z, cmap = 'cool', extent = [0,1,0,1]):\n",
    "    plt.imshow(np.reshape(Z, (Z.shape[0],-1)), cmap, interpolation='nearest', extent = extent)\n",
    "    plt.show()"
   ]
  },
  {
   "cell_type": "code",
   "execution_count": 31,
   "metadata": {
    "collapsed": true
   },
   "outputs": [],
   "source": [
    "# Plot a bivariate Gaussian with contours representing multiples of standard deviation isolines\n",
    "# Resources:\n",
    "#     https://en.wikipedia.org/wiki/Multivariate_normal_distribution\n",
    "#     http://www.visiondummy.com/2014/04/draw-error-ellipse-representing-covariance-matrix/\n",
    "def plot_bivariate_gaussian_isolines(mean, covar_mtx, N, colour = 'k', plot_fig = True, ax_lims = -1):\n",
    "    assert(mean.shape == (2, 1))\n",
    "    assert(covar_mtx.shape == (2, 2))\n",
    "    assert(N > 0)\n",
    "    # perform Eigen decomposition to get rotation of Gaussian\n",
    "    w, U = np.linalg.eig(covar_likelihood)  \n",
    "    # get index of largest eigenvalue\n",
    "    max_eig_value_ix = np.argmax(w)\n",
    "    # get the x and y value of the eigenvector corresponding to largest eigenvalue\n",
    "    v1x = U[0,max_eig_value_ix]\n",
    "    v1y = U[1,max_eig_value_ix]\n",
    "    # get alpha, the angle of rotation for the Gaussian\n",
    "    alpha = np.arctan(v1y/v1x)\n",
    "    # get figure\n",
    "    fig = plt.figure(0)\n",
    "    # create axes object\n",
    "    ax = fig.add_subplot(111, aspect='equal')\n",
    "    # initialise an empty list for the ellipses\n",
    "    E = []\n",
    "    # construct ellipses with increasing multiples of standard deviation contours  \n",
    "    e_centre = mean\n",
    "    e_width_orig = 2.0*np.sqrt(covar_mtx[0,0])\n",
    "    e_height_orig = 2.0*np.sqrt(covar_mtx[1,1])\n",
    "    for i in range(N):        \n",
    "        e_width = (i+1)*e_width_orig\n",
    "        e_height = (i+1)*e_height_orig\n",
    "        e = Ellipse(e_centre, width=e_width, height=e_height, angle=alpha*(180.0/np.pi))\n",
    "        e.set_clip_box(ax.bbox)\n",
    "        e.set_fill(0)\n",
    "        e.set_facecolor(colour)\n",
    "        E.append(e)\n",
    "        # add elipse and axes limits\n",
    "        ax.add_artist(E[i])    \n",
    "    # add the central point (as an extra small full ellipse )\n",
    "    e = Ellipse(e_centre, width=e_width_orig/10.0, height=e_height_orig/10.0, angle=alpha*(180.0/np.pi))\n",
    "    e.set_clip_box(ax.bbox)\n",
    "    e.set_fill(1)\n",
    "    e.set_facecolor(colour)\n",
    "    ax.add_artist(e)  \n",
    "    # adjust the axes limits (or use provided ones)\n",
    "    ax_lim_mult = 1.5\n",
    "    if ax_lims == -1:      \n",
    "        ax_lims = [0, 0, 0, 0]\n",
    "        lim = N*ax_lim_mult*max(np.sqrt(covar_mtx[0,0]),np.sqrt(covar_mtx[1,1]))\n",
    "        ax_lims[0] = mean[0,0]-lim\n",
    "        ax_lims[1] = mean[0,0]+lim\n",
    "        ax_lims[2] = mean[1,0]-lim\n",
    "        ax_lims[3] = mean[1,0]+lim        \n",
    "    # set axes limits    \n",
    "    ax.set_xlim(ax_lims[0], ax_lims[1])\n",
    "    ax.set_ylim(ax_lims[2], ax_lims[3])    \n",
    "    #plot\n",
    "    if plot_fig:\n",
    "        plt.show()\n",
    "    return fig, ax, ax_lims"
   ]
  },
  {
   "cell_type": "markdown",
   "metadata": {},
   "source": [
    "**1.1 - Linear Model for Generating Data**\n",
    "\n",
    "Here we:\n",
    "- a) Define our linear model assumptions about data generation\n",
    "- b) Define the function for generating the data\n",
    "- c) Plot the data and information about it (matrices' shapes and value for the weight w and bias b)"
   ]
  },
  {
   "cell_type": "markdown",
   "metadata": {},
   "source": [
    "a) Define our linear model and assumptions"
   ]
  },
  {
   "cell_type": "code",
   "execution_count": 32,
   "metadata": {},
   "outputs": [
    {
     "data": {
      "text/latex": [
       "We assume our data is generated by a one-dimensional linear function:\n",
       "$$ \\mathbf{y} = \\mathbf{X} w_1 + b $$\n",
       "$\\mathbf{X}$ is a $N \\times m$ matrix where each row is an $m$-dimensional input and $N$ is the number of inputs.\n",
       "To simplify notation and derivations we encode the weight $w_1$ and the bias $b$ into the same vector $\\mathbf{w} = (w_1,b)^\\top$.\n",
       "We then augment the inputs in $\\mathbf{X}$ by adding an extra column with $1$ at every entry. Our function then becomes:\n",
       "$$ \\mathbf{y} = \\mathbf{X_b}\\mathbf{w} $$\n",
       "Finally, we further assume there is also some Gaussian noise in the data generation:\n",
       "$$ \\mathbf{y} = \\mathbf{X_b}\\mathbf{w} + v_m $$    \n",
       "$$ v_m \\sim N(0,\\sigma_v^2) $$ "
      ],
      "text/plain": [
       "<IPython.core.display.Latex object>"
      ]
     },
     "metadata": {},
     "output_type": "display_data"
    }
   ],
   "source": [
    "%%latex\n",
    "We assume our data is generated by a one-dimensional linear function:\n",
    "$$ \\mathbf{y} = \\mathbf{X} w_1 + b $$\n",
    "$\\mathbf{X}$ is a $N \\times m$ matrix where each row is an $m$-dimensional input and $N$ is the number of inputs.\n",
    "To simplify notation and derivations we encode the weight $w_1$ and the bias $b$ into the same vector $\\mathbf{w} = (w_1,b)^\\top$.\n",
    "We then augment the inputs in $\\mathbf{X}$ by adding an extra column with $1$ at every entry. Our function then becomes:\n",
    "$$ \\mathbf{y} = \\mathbf{X_b}\\mathbf{w} $$\n",
    "Finally, we further assume there is also some Gaussian noise in the data generation:\n",
    "$$ \\mathbf{y} = \\mathbf{X_b}\\mathbf{w} + v_m $$    \n",
    "$$ v_m \\sim N(0,\\sigma_v^2) $$ "
   ]
  },
  {
   "cell_type": "markdown",
   "metadata": {},
   "source": [
    "b) Implement the linear model and the noisy linear model"
   ]
  },
  {
   "cell_type": "code",
   "execution_count": 33,
   "metadata": {
    "collapsed": true
   },
   "outputs": [],
   "source": [
    "# the linear model y = X*w + b using the encoded bias (y = X_b*w)\n",
    "# sigma_sq_v is the variance of our Gaussian noise model\n",
    "def my_linear_model(X_b,w):\n",
    "    # ensure the matrix multiplication can be performed\n",
    "    assert(X_b.shape[1] == w.shape[0])\n",
    "    y = np.dot(X_b,w)\n",
    "    return y"
   ]
  },
  {
   "cell_type": "code",
   "execution_count": 34,
   "metadata": {},
   "outputs": [],
   "source": [
    "# here we encode our data\n",
    "# get X as a random matrix\n",
    "def my_noisy_linear_model(X,n_pts,n_dims,sigma_v_sq):\n",
    "    # add one extra all-ones column for the bias\n",
    "    X_b = np.hstack((X,np.ones((n_pts,1)))) \n",
    "    # get full weight vector\n",
    "    w = np.zeros((2,1))\n",
    "    w[0,0] = w_1\n",
    "    w[1,0] = b\n",
    "    # sample N noise values (N=n_pts)\n",
    "    noise_vec = np.random.normal(0,sigma_v_sq,(n_pts,1)) \n",
    "    y = my_linear_model(X_b,w) + noise_vec\n",
    "    return X_b, y, w, noise_vec\n",
    "\n",
    "X_b, y, w, noise_vec = my_noisy_linear_model(X,n_pts,1,sigma_v_sq)"
   ]
  },
  {
   "cell_type": "markdown",
   "metadata": {},
   "source": [
    "c) Plot the noisy linear data"
   ]
  },
  {
   "cell_type": "code",
   "execution_count": 52,
   "metadata": {},
   "outputs": [
    {
     "data": {
      "image/png": "[encoded data removed]",
      "text/plain": [
       "<matplotlib.figure.Figure at 0x7f5fc8630850>"
      ]
     },
     "metadata": {},
     "output_type": "display_data"
    },
    {
     "name": "stdout",
     "output_type": "stream",
     "text": [
      "w_1 = 0.720324493442\n",
      "b = 0.000114374817345\n",
      "noise (variance) = 0.0417022004703\n"
     ]
    }
   ],
   "source": [
    "# plot the data and the true parameters (w, b and noise variance) for the generation\n",
    "fig = plt.figure()\n",
    "ax = fig.add_subplot(111)\n",
    "ax.set_xlim(0, 1)\n",
    "ax.set_ylim(0, 1)\n",
    "ax.set_xlabel('$\\mathbf{X}$')\n",
    "ax.set_ylabel('$\\mathbf{y}=\\mathbf{X_b}\\mathbf{w} + v_m$')\n",
    "plt.title('Noisy linear data')\n",
    "plt.scatter(X,y,color = 'k')\n",
    "plt.show()\n",
    "print(\"w_1 = \" + str(w[0,0]))\n",
    "print(\"b = \" + str(w[1,0]))\n",
    "print(\"noise (variance) = \" + str(sigma_v_sq))"
   ]
  },
  {
   "cell_type": "markdown",
   "metadata": {},
   "source": [
    "**1.2 - Linear Regresion**\n",
    "\n",
    "Time to learn.\n",
    "\n",
    "In order to perform linear regression, we:\n",
    "- a) Define and implement our loss function as mean squared errors\n",
    "- b) Derive and implement linear regression\n",
    "- c) Perform Linear Regresion on the generated data\n",
    "- d) Plot the fit in data space\n",
    "- e) Plot the loss function in parameter space"
   ]
  },
  {
   "cell_type": "markdown",
   "metadata": {},
   "source": [
    "a) Define and implement our loss function as mean squared errors"
   ]
  },
  {
   "cell_type": "code",
   "execution_count": 108,
   "metadata": {},
   "outputs": [
    {
     "data": {
      "text/latex": [
       "We define our loss function as mean squared error between the groundtruth outputs $\\mathbf{y}$ and the predicted outputs $\\mathbf{\\hat{y}}$. \n",
       "The loss function is parameterised by an estimated weight vector $\\mathbf{\\hat{w}}$.\n",
       "$$ J(D; \\mathbf{\\hat{w}}) = \\frac{1}{N} \\sum_{i=1}^{N} (\\mathbf{\\hat{y}}_i-\\mathbf{y}_i)^2 $$\n",
       "$ D $ is our data containing $\\mathbf{X_b}$ and $\\mathbf{y}$, where $ \\mathbf{\\hat{y}} = \\mathbf{X_b}\\mathbf{\\hat{w}} $\n",
       "$$$$\n",
       "The loss function can also be written as the euclidean norm of the difference:\n",
       "$$ J(D; \\mathbf{\\hat{w}}) = \\frac{1}{N} \\lVert(\\mathbf{\\hat{y}}_i-\\mathbf{y}_i)\\rVert_2^2 $$"
      ],
      "text/plain": [
       "<IPython.core.display.Latex object>"
      ]
     },
     "metadata": {},
     "output_type": "display_data"
    }
   ],
   "source": [
    "%%latex\n",
    "We define our loss function as mean squared error between the groundtruth outputs $\\mathbf{y}$ and the predicted outputs $\\mathbf{\\hat{y}}$. \n",
    "The loss function is parameterised by an estimated weight vector $\\mathbf{\\hat{w}}$.\n",
    "$$ J(D; \\mathbf{\\hat{w}}) = \\frac{1}{N} \\sum_{i=1}^{N} (\\mathbf{\\hat{y}}_i-\\mathbf{y}_i)^2 $$\n",
    "$ D $ is our data containing $\\mathbf{X_b}$ and $\\mathbf{y}$, where $ \\mathbf{\\hat{y}} = \\mathbf{X_b}\\mathbf{\\hat{w}} $\n",
    "$$$$\n",
    "The loss function can also be written as the euclidean norm of the difference:\n",
    "$$ J(D; \\mathbf{\\hat{w}}) = \\frac{1}{N} \\lVert(\\mathbf{\\hat{y}}_i-\\mathbf{y}_i)\\rVert_2^2 $$\n"
   ]
  },
  {
   "cell_type": "code",
   "execution_count": 10,
   "metadata": {
    "collapsed": true
   },
   "outputs": [],
   "source": [
    "# return the mean squared error given a set of groundtruth outputs (y) and a set of predictions (y_hat)\n",
    "def my_mse(y,y_hat):\n",
    "    N = y_hat.shape[0]\n",
    "    mse = (1.0/N)*np.sum(np.power(y_hat-y,2))\n",
    "    return mse    "
   ]
  },
  {
   "cell_type": "markdown",
   "metadata": {},
   "source": [
    "b) Derive and implement linear regression"
   ]
  },
  {
   "cell_type": "code",
   "execution_count": 183,
   "metadata": {},
   "outputs": [
    {
     "data": {
      "text/latex": [
       "We want to minimise the error therefore we need to minimise $J(D; \\mathbf{\\hat{w}})$.\n",
       "Thankfully, $J(D; \\mathbf{\\hat{w}})$ is convex and we can find the minimum by finding the point where the \n",
       "gradient is $0$. It is beyond the scope now to show that $J(D; \\mathbf{\\hat{w}})$ is convex.\n",
       "$$$$\n",
       "The derivation (step by step):\n",
       "$$\\nabla_{\\mathbf{\\hat{w}}}[J(D; \\mathbf{\\hat{w}})] = 0$$\n",
       "$$\\nabla_{\\mathbf{\\hat{w}}}[ \\frac{1}{N} \\lVert\\mathbf{\\hat{y}}_i-\\mathbf{y}_i\\rVert_2^2] = 0$$\n",
       "$$\\frac{1}{N} \\nabla_{\\mathbf{\\hat{w}}}[\\lVert\\mathbf{\\hat{y}}_i-\\mathbf{y}_i\\rVert_2^2] = 0$$\n",
       "$$\\nabla_{\\mathbf{\\hat{w}}}[\\lVert\\mathbf{\\hat{y}}_i-\\mathbf{y}_i\\rVert_2^2] = 0$$\n",
       "$$ \\nabla_{\\mathbf{\\hat{w}}}[\\lVert(\\mathbf{X_b}_i\\mathbf{\\hat{w}}-\\mathbf{y}_i)\\rVert_2^2] = 0$$\n",
       "$$ \\nabla_{\\mathbf{\\hat{w}}}[(\\mathbf{X_b}_i\\mathbf{\\hat{w}}-\\mathbf{y})^{\\top}(\\mathbf{X_b}\\mathbf{\\hat{w}}-\\mathbf{y})] = 0$$\n",
       "$$ \\nabla_{\\mathbf{\\hat{w}}}[(\\mathbf{\\hat{w}}^{\\top}\\mathbf{X_b}_i^{\\top} - \\mathbf{y}^{\\top})(\\mathbf{X_b}\\mathbf{\\hat{w}}-\\mathbf{y})] = 0$$\n",
       "$$ \\nabla_{\\mathbf{\\hat{w}}}[(\\mathbf{\\hat{w}}^{\\top}\\mathbf{X_b}_i^{\\top}\\mathbf{X_b}\\mathbf{\\hat{w}} - \\mathbf{\\hat{w}}^{\\top}\\mathbf{X_b}_i^{\\top}\\mathbf{y} - \\mathbf{y}^{\\top}\\mathbf{X_b}\\mathbf{\\hat{w}} - \\mathbf{y}^{\\top}\\mathbf{y}] = 0$$\n",
       "$$ \\nabla_{\\mathbf{\\hat{w}}}[\\mathbf{\\hat{w}}^{\\top}\\mathbf{X_b}_i^{\\top}\\mathbf{X_b}\\mathbf{\\hat{w}}] - \\nabla_{\\mathbf{\\hat{w}}}[\\mathbf{\\hat{w}}^{\\top}\\mathbf{X_b}_i^{\\top}\\mathbf{y}] - \\nabla_{\\mathbf{\\hat{w}}}[\\mathbf{y}^{\\top}\\mathbf{X_b}\\mathbf{\\hat{w}}] - \\nabla_{\\mathbf{\\hat{w}}}[\\mathbf{y}^{\\top}\\mathbf{y}] = 0$$\n",
       "$$ \\nabla_{\\mathbf{\\hat{w}}}[\\mathbf{\\hat{w}}^{\\top}\\mathbf{X_b}_i^{\\top}\\mathbf{X_b}\\mathbf{\\hat{w}}] = 2\\mathbf{X_b}_i^{\\top}\\mathbf{X_b}\\mathbf{\\hat{w}} $$\n",
       "$$ \\nabla_{\\mathbf{\\hat{w}}}[\\mathbf{\\hat{w}}^{\\top}\\mathbf{X_b}_i^{\\top}\\mathbf{y}] = \\mathbf{X_b}_i^{\\top}\\mathbf{y}$$\n",
       "$$ \\nabla_{\\mathbf{\\hat{w}}}[\\mathbf{y}^{\\top}\\mathbf{X_b}\\mathbf{\\hat{w}}] = \\mathbf{y}^{\\top}\\mathbf{X_b}$$                              \n",
       "$$ \\nabla_{\\mathbf{\\hat{w}}}[\\mathbf{y}^{\\top}\\mathbf{y}] = 0$$                              \n",
       "$$\\nabla_{\\mathbf{\\hat{w}}}[J(D; \\mathbf{\\hat{w}})] = 2\\mathbf{X_b}_i^{\\top}\\mathbf{X_b}\\mathbf{\\hat{w}} - \\mathbf{X_b}_i^{\\top}\\mathbf{y} - \\mathbf{y}^{\\top}\\mathbf{X_b}$$                              \n",
       "$$\\nabla_{\\mathbf{\\hat{w}}}[J(D; \\mathbf{\\hat{w}})] = 2\\mathbf{X_b}_i^{\\top}\\mathbf{X_b}\\mathbf{\\hat{w}} - 2 \\mathbf{X_b}_i^{\\top}\\mathbf{y}$$              \n",
       "$$ 2(\\mathbf{X_b}_i^{\\top}\\mathbf{X_b}\\mathbf{\\hat{w}} - \\mathbf{X_b}_i^{\\top}\\mathbf{y}) = 0$$                                                  \n",
       "$$ \\mathbf{X_b}_i^{\\top}\\mathbf{X_b}\\mathbf{\\hat{w}} = \\mathbf{X_b}_i^{\\top}\\mathbf{y}$$\n",
       "$$ \\mathbf{\\hat{w}} = (\\mathbf{X_b}_i^{\\top}\\mathbf{X_b})^{-1}\\mathbf{X_b}_i^{\\top}\\mathbf{y}$$   "
      ],
      "text/plain": [
       "<IPython.core.display.Latex object>"
      ]
     },
     "metadata": {},
     "output_type": "display_data"
    }
   ],
   "source": [
    "%%latex\n",
    "We want to minimise the error therefore we need to minimise $J(D; \\mathbf{\\hat{w}})$.\n",
    "Thankfully, $J(D; \\mathbf{\\hat{w}})$ is convex and we can find the minimum by finding the point where the \n",
    "gradient is $0$. It is beyond the scope now to show that $J(D; \\mathbf{\\hat{w}})$ is convex.\n",
    "$$$$\n",
    "The derivation (step by step):\n",
    "$$\\nabla_{\\mathbf{\\hat{w}}}[J(D; \\mathbf{\\hat{w}})] = 0$$\n",
    "$$\\nabla_{\\mathbf{\\hat{w}}}[ \\frac{1}{N} \\lVert\\mathbf{\\hat{y}}_i-\\mathbf{y}_i\\rVert_2^2] = 0$$\n",
    "$$\\frac{1}{N} \\nabla_{\\mathbf{\\hat{w}}}[\\lVert\\mathbf{\\hat{y}}_i-\\mathbf{y}_i\\rVert_2^2] = 0$$\n",
    "$$\\nabla_{\\mathbf{\\hat{w}}}[\\lVert\\mathbf{\\hat{y}}_i-\\mathbf{y}_i\\rVert_2^2] = 0$$\n",
    "$$ \\nabla_{\\mathbf{\\hat{w}}}[\\lVert(\\mathbf{X_b}_i\\mathbf{\\hat{w}}-\\mathbf{y}_i)\\rVert_2^2] = 0$$\n",
    "$$ \\nabla_{\\mathbf{\\hat{w}}}[(\\mathbf{X_b}_i\\mathbf{\\hat{w}}-\\mathbf{y})^{\\top}(\\mathbf{X_b}\\mathbf{\\hat{w}}-\\mathbf{y})] = 0$$\n",
    "$$ \\nabla_{\\mathbf{\\hat{w}}}[(\\mathbf{\\hat{w}}^{\\top}\\mathbf{X_b}_i^{\\top} - \\mathbf{y}^{\\top})(\\mathbf{X_b}\\mathbf{\\hat{w}}-\\mathbf{y})] = 0$$\n",
    "$$ \\nabla_{\\mathbf{\\hat{w}}}[(\\mathbf{\\hat{w}}^{\\top}\\mathbf{X_b}_i^{\\top}\\mathbf{X_b}\\mathbf{\\hat{w}} - \\mathbf{\\hat{w}}^{\\top}\\mathbf{X_b}_i^{\\top}\\mathbf{y} - \\mathbf{y}^{\\top}\\mathbf{X_b}\\mathbf{\\hat{w}} - \\mathbf{y}^{\\top}\\mathbf{y}] = 0$$\n",
    "$$ \\nabla_{\\mathbf{\\hat{w}}}[\\mathbf{\\hat{w}}^{\\top}\\mathbf{X_b}_i^{\\top}\\mathbf{X_b}\\mathbf{\\hat{w}}] - \\nabla_{\\mathbf{\\hat{w}}}[\\mathbf{\\hat{w}}^{\\top}\\mathbf{X_b}_i^{\\top}\\mathbf{y}] - \\nabla_{\\mathbf{\\hat{w}}}[\\mathbf{y}^{\\top}\\mathbf{X_b}\\mathbf{\\hat{w}}] - \\nabla_{\\mathbf{\\hat{w}}}[\\mathbf{y}^{\\top}\\mathbf{y}] = 0$$\n",
    "$$ \\nabla_{\\mathbf{\\hat{w}}}[\\mathbf{\\hat{w}}^{\\top}\\mathbf{X_b}_i^{\\top}\\mathbf{X_b}\\mathbf{\\hat{w}}] = 2\\mathbf{X_b}_i^{\\top}\\mathbf{X_b}\\mathbf{\\hat{w}} $$\n",
    "$$ \\nabla_{\\mathbf{\\hat{w}}}[\\mathbf{\\hat{w}}^{\\top}\\mathbf{X_b}_i^{\\top}\\mathbf{y}] = \\mathbf{X_b}_i^{\\top}\\mathbf{y}$$\n",
    "$$ \\nabla_{\\mathbf{\\hat{w}}}[\\mathbf{y}^{\\top}\\mathbf{X_b}\\mathbf{\\hat{w}}] = \\mathbf{y}^{\\top}\\mathbf{X_b}$$                              \n",
    "$$ \\nabla_{\\mathbf{\\hat{w}}}[\\mathbf{y}^{\\top}\\mathbf{y}] = 0$$                              \n",
    "$$\\nabla_{\\mathbf{\\hat{w}}}[J(D; \\mathbf{\\hat{w}})] = 2\\mathbf{X_b}_i^{\\top}\\mathbf{X_b}\\mathbf{\\hat{w}} - \\mathbf{X_b}_i^{\\top}\\mathbf{y} - \\mathbf{y}^{\\top}\\mathbf{X_b}$$                              \n",
    "$$\\nabla_{\\mathbf{\\hat{w}}}[J(D; \\mathbf{\\hat{w}})] = 2\\mathbf{X_b}_i^{\\top}\\mathbf{X_b}\\mathbf{\\hat{w}} - 2 \\mathbf{X_b}_i^{\\top}\\mathbf{y}$$              \n",
    "$$ 2(\\mathbf{X_b}_i^{\\top}\\mathbf{X_b}\\mathbf{\\hat{w}} - \\mathbf{X_b}_i^{\\top}\\mathbf{y}) = 0$$                                                  \n",
    "$$ \\mathbf{X_b}_i^{\\top}\\mathbf{X_b}\\mathbf{\\hat{w}} = \\mathbf{X_b}_i^{\\top}\\mathbf{y}$$\n",
    "$$ \\mathbf{\\hat{w}} = (\\mathbf{X_b}_i^{\\top}\\mathbf{X_b})^{-1}\\mathbf{X_b}_i^{\\top}\\mathbf{y}$$   "
   ]
  },
  {
   "cell_type": "code",
   "execution_count": 11,
   "metadata": {
    "collapsed": true
   },
   "outputs": [],
   "source": [
    "# perform linear regression using mean squared error as loss function\n",
    "# the estimated parameters are those that minimise the gradient of the loss function\n",
    "#     please, do go through the derivations in: http://www.deeplearningbook.org/contents/ml.html (Section 5.1.4)\n",
    "def my_linear_regression(X_train,y_train):\n",
    "    assert(X_train.shape[0] == y_train.shape[0])\n",
    "    # separate the derivation into chunks for easier understanding\n",
    "    A = np.linalg.inv(np.dot(X_train.T,X_train))\n",
    "    B = np.dot(A,X_train.T)\n",
    "    w_pred = np.dot(B,y_train)\n",
    "    return w_pred"
   ]
  },
  {
   "cell_type": "code",
   "execution_count": 12,
   "metadata": {
    "scrolled": true
   },
   "outputs": [
    {
     "data": {
      "image/png": "[encoded data removed]",
      "text/plain": [
       "<matplotlib.figure.Figure at 0x7f5fcc6e5d50>"
      ]
     },
     "metadata": {},
     "output_type": "display_data"
    },
    {
     "name": "stdout",
     "output_type": "stream",
     "text": [
      "Predicted w = [[ 0.7232704 ]\n",
      " [ 0.00766488]]\n",
      "Real w = [[  7.20324493e-01]\n",
      " [  1.14374817e-04]]\n",
      "Mean squared error = 0.00136890403604\n"
     ]
    }
   ],
   "source": [
    "# perform linear regression on the data (X_b, y)\n",
    "# X_b is an Nx2 matrix with the x inputs in the first column of X_b and an all-ones as second column\n",
    "# y is an Nx1 vector with the outputs for each X_b[:,0]\n",
    "def perform_and_plot_linear_regression(X_b,y):\n",
    "    # perform linear regression\n",
    "    w_est = my_linear_regression(X_b,y)\n",
    "    # predict values with estimated parameters w_pred\n",
    "    y_pred = my_linear_model(X_b,w_est)\n",
    "    mse = my_mse(y,y_pred)\n",
    "    # plot data and fit\n",
    "    fig = plt.figure()\n",
    "    ax = fig.add_subplot(111)\n",
    "    ax.set_xlim(0, 1)\n",
    "    ax.set_ylim(0, 1)\n",
    "    plt.plot(X,y_pred, color = 'b')\n",
    "    plt.scatter(X, y, color = 'y')\n",
    "    plt.title('Linear regression (data in yellow and fitted line in blue)')\n",
    "    plt.show()\n",
    "    # print information\n",
    "    print(\"Predicted w = \" + str(w_est))\n",
    "    print(\"Real w = \" + str(w))\n",
    "    print(\"Mean squared error = \" + str(mse))\n",
    "    return w_est, y_pred\n",
    "    \n",
    "w_est, y_pred = perform_and_plot_linear_regression(X_b,y)"
   ]
  },
  {
   "cell_type": "code",
   "execution_count": 13,
   "metadata": {},
   "outputs": [
    {
     "name": "stdout",
     "output_type": "stream",
     "text": [
      "Computing mean squared error for 40000 pairs of weight and bias...\n",
      "Best parameters (w, b) = (0.726, 0.006)\n",
      "Minimum value for the error = 0.00136964525482\n"
     ]
    },
    {
     "data": {
      "image/png": "[encoded data removed]",
      "text/plain": [
       "<matplotlib.figure.Figure at 0x7f5fca4b8610>"
      ]
     },
     "metadata": {},
     "output_type": "display_data"
    }
   ],
   "source": [
    "# vectorised code for getting many mean squared errors for a grid of different weights and biases\n",
    "# also plots the resulting surface\n",
    "# X_b is an Nx2 matrix with the x inputs in the first column of X_b and an all-ones as second column\n",
    "# y is an Nx1 vector with the outputs for each X_b[:,0]\n",
    "# (beg_w, end_w, step_w) is the range and step fro creating the grid\n",
    "def plot_surf_mse(X_b,y,beg_w, end_w, step_w):\n",
    "    # get number of grid rows (also number of grid columns)\n",
    "    n_grid_rows = np.round((end_w-beg_w)/step_w).astype(int)\n",
    "    n_grid_columns = n_grid_rows \n",
    "    n_grid_cells = n_grid_rows * n_grid_columns\n",
    "    # print information on the size of grid\n",
    "    print(\"Computing mean squared error for \" + str(n_grid_cells) + \" pairs of weight and bias...\")    \n",
    "    # get the W matrix containing the different (w, b) pairs in the specified range and step\n",
    "    W = np.zeros((n_grid_rows,1))\n",
    "    W[:,0] = np.arange(beg_w, end_w, step_w)\n",
    "    W_grid, B_grid = np.meshgrid(W, W)\n",
    "    W = np.row_stack((W_grid.reshape(1,n_grid_cells),B_grid.reshape(1,n_grid_cells)))\n",
    "    # calculate the error for every (w, b) option\n",
    "    Y_hat = np.dot(X_b,W)\n",
    "    Y_sq_diff = np.power(Y_hat - y,2)\n",
    "    R_sum = np.sum(Y_sq_diff, axis= 0)/n_pts\n",
    "    R_grid = R_sum.reshape(n_grid_rows,n_grid_columns)\n",
    "    # get the index of the lowest error\n",
    "    min_mse_ix = np.argmin(R_sum)\n",
    "    # print information on the best (w, b) option and minimum error \n",
    "    print(\"Best parameters (w, b) = (\" + str(W[0,min_mse_ix]) + \", \" + str(W[1,min_mse_ix]) + \")\")\n",
    "    print(\"Minimum value for the error = \" + str(np.min(R_sum)))\n",
    "    # plot the surface\n",
    "    fig = plt.figure()\n",
    "    ax = fig.gca(projection='3d')\n",
    "    surf = ax.plot_surface(W_grid, B_grid, R_grid, cmap=cm.coolwarm,linewidth=0, antialiased=False) \n",
    "    # customise axes\n",
    "    ax.set_xlabel('w')\n",
    "    ax.set_ylabel('b')\n",
    "    ax.set_zlim(-1.01, 1.01)\n",
    "    ax.zaxis.set_major_locator(LinearLocator(10))\n",
    "    ax.zaxis.set_major_formatter(FormatStrFormatter('%.02f'))\n",
    "    # add a nice colour bar\n",
    "    fig.colorbar(surf, shrink=0.5, aspect=5)\n",
    "    # customise title and show plot\n",
    "    plt.title('Loss function (mean squared error)')\n",
    "    plt.show()\n",
    "    # return surface information\n",
    "    return W_grid, B_grid, R_grid\n",
    "    \n",
    "_, _, _, = plot_surf_mse(X_b,y,0.001, 1.0, 0.005)"
   ]
  },
  {
   "cell_type": "markdown",
   "metadata": {
    "collapsed": true
   },
   "source": [
    "Note that we were able to estimate quite closely the global minimum, but we don't have error bars nor any sort of probability distribution over the parameters\n",
    "Try removing the noise form the linear model to see what happens"
   ]
  },
  {
   "cell_type": "markdown",
   "metadata": {
    "collapsed": true
   },
   "source": [
    "**1.2 Bayesian linear regression**"
   ]
  },
  {
   "cell_type": "code",
   "execution_count": 14,
   "metadata": {},
   "outputs": [
    {
     "data": {
      "text/latex": [
       "The likelihood: the probabilitiy of a data point given the parameters is given by:\n",
       "$$ P(\\mathbf{y}_i|\\mathbf{X}_i,\\mathbf{w},\\sigma_v) =  N(\\mathbf{X}_i \\mathbf{w},\\sigma_v^2) $$\n",
       "We informally define our data as the pair with $N$ points:\n",
       "$$ D = (\\mathbf{X},\\mathbf{y}_i) $$\n",
       "Then the likelihood given our entire training set is:\n",
       "$$ P(D|\\mathbf{w},\\sigma_v^2) = \\prod_{i=1}^{N} N(X_i \\mathbf{w},\\sigma_v^2) = \\frac{exp[-\\beta E_D(\\mathbf{y}|\\mathbf{w})]}{Z_D} $$ \n",
       "$$ Z_D = \\Big(\\frac{2\\pi}{\\beta}\\Big)^\\frac{N}{2} $$\n",
       "$$ \\beta = \\frac{1}{\\sigma_v^2} $$\n",
       "$$ E_D = \\sum_{i}^N (\\mathbf{X}_i\\mathbf{w}-\\mathbf{y}_i)^2  $$\n",
       "$E_D$ is the squared difference between the model with ($\\mathbf{y}_i$) and without ($\\mathbf{X}_i\\mathbf{w}$) noise\n",
       "$$$$\n",
       "$P(D|\\mathbf{w},\\sigma_v)$ is the likelihood of the parameters given the data"
      ],
      "text/plain": [
       "<IPython.core.display.Latex object>"
      ]
     },
     "metadata": {},
     "output_type": "display_data"
    }
   ],
   "source": [
    "%%latex\n",
    "The likelihood: the probabilitiy of a data point given the parameters is given by:\n",
    "$$ P(\\mathbf{y}_i|\\mathbf{X}_i,\\mathbf{w},\\sigma_v) =  N(\\mathbf{X}_i \\mathbf{w},\\sigma_v^2) $$\n",
    "We informally define our data as the pair with $N$ points:\n",
    "$$ D = (\\mathbf{X},\\mathbf{y}_i) $$\n",
    "Then the likelihood given our entire training set is:\n",
    "$$ P(D|\\mathbf{w},\\sigma_v^2) = \\prod_{i=1}^{N} N(X_i \\mathbf{w},\\sigma_v^2) = \\frac{exp[-\\beta E_D(\\mathbf{y}|\\mathbf{w})]}{Z_D} $$ \n",
    "$$ Z_D = \\Big(\\frac{2\\pi}{\\beta}\\Big)^\\frac{N}{2} $$\n",
    "$$ \\beta = \\frac{1}{\\sigma_v^2} $$\n",
    "$$ E_D = \\sum_{i}^N (\\mathbf{X}_i\\mathbf{w}-\\mathbf{y}_i)^2  $$\n",
    "$E_D$ is the squared difference between the model with ($\\mathbf{y}_i$) and without ($\\mathbf{X}_i\\mathbf{w}$) noise\n",
    "$$$$\n",
    "$P(D|\\mathbf{w},\\sigma_v)$ is the likelihood of the parameters given the data"
   ]
  },
  {
   "cell_type": "code",
   "execution_count": 15,
   "metadata": {
    "collapsed": true
   },
   "outputs": [],
   "source": [
    "def likelihood_linear_model(X, y, w, noise_sigma):   \n",
    "    beta = noise_sigma\n",
    "    Z_D = np.power((2.0*np.pi/beta),n_pts/2)\n",
    "    E_D = (1.0/2)*np.sum(np.power((y - np.dot(X,w)),2))\n",
    "    P = np.exp(-beta*E_D)\n",
    "    return P[0,0]"
   ]
  },
  {
   "cell_type": "code",
   "execution_count": 16,
   "metadata": {
    "collapsed": true
   },
   "outputs": [],
   "source": [
    "def get_bivariate_Gaussian_to_plot(mean_likelihood, var_likelihood):\n",
    "    std_mult = 3\n",
    "    # for some odd python reason, sigmax and sigma y are santard deviations, but sigmaxy is variance\n",
    "    sigmax = np.sqrt(var_likelihood[0,0])\n",
    "    sigmay = np.sqrt(var_likelihood[1,1])    \n",
    "    sigmaxy = var_likelihood[0,1]\n",
    "    max_sigma = max(sigmax,sigmay)\n",
    "    delta = max_sigma/100\n",
    "    beg_x = mean_likelihood[0,0]-std_mult*max_sigma\n",
    "    end_x = mean_likelihood[0,0]+std_mult*max_sigma\n",
    "    beg_y = mean_likelihood[1,0]-std_mult*max_sigma\n",
    "    end_y = mean_likelihood[1,0]+std_mult*max_sigma\n",
    "    x = np.arange(beg_x, end_x, delta)\n",
    "    y = np.arange(beg_y, end_y, delta)\n",
    "    X, Y = np.meshgrid(x, y)\n",
    "    # ensure Z is ok (a classic problem is getting NaN because the variance is not positive semidefinite)\n",
    "    Z = mlab.bivariate_normal(X, Y, sigmax, sigmay, mean_likelihood[0], mean_likelihood[1], sigmaxy)\n",
    "    assert(not np.any(np.isnan(Z)))\n",
    "    return X, Y, Z"
   ]
  },
  {
   "cell_type": "code",
   "execution_count": 17,
   "metadata": {},
   "outputs": [
    {
     "name": "stdout",
     "output_type": "stream",
     "text": [
      "Mean of likelihood = [[ 0.7232704 ]\n",
      " [ 0.00766488]]\n",
      "Covariance matrix of likelihood = [[ 0.00487458 -0.00239781]\n",
      " [-0.00239781  0.0015965 ]]\n",
      "Max likelihood = 0.997149754159\n"
     ]
    }
   ],
   "source": [
    "# Calculate the mean, covariance matrix and maximum value for the likelihood (print the information)\n",
    "def my_mle(X_b,y):\n",
    "    # get the A matrix, used in mean and covariance calculation\n",
    "    A = np.linalg.inv(np.dot(X_b.T,X_b))\n",
    "    # get the mean as a (2,1) array\n",
    "    mean_likelihood = np.dot(np.dot(A,X_b.T),y)\n",
    "    # get the covariance as a (2,2) array\n",
    "    covar_likelihood = sigma_v_sq*A\n",
    "    # get the estimated maximum value for the likelihood)\n",
    "    max_likelihood = likelihood_linear_model(X_b, y, mean_likelihood, sigma_v_sq)\n",
    "    return mean_likelihood, covar_likelihood, max_likelihood\n",
    "\n",
    "# maximum likelihood estimation\n",
    "mean_likelihood, covar_likelihood, max_likelihood = my_mle(X_b,y)\n",
    "# print information\n",
    "print('Mean of likelihood = ' + str(mean_likelihood))\n",
    "print('Covariance matrix of likelihood = ' + str(covar_likelihood))\n",
    "print('Max likelihood = ' + str(max_likelihood))"
   ]
  },
  {
   "cell_type": "code",
   "execution_count": 22,
   "metadata": {},
   "outputs": [
    {
     "data": {
      "text/html": [
       "<video width=\"432\" height=\"288\" controls autoplay>\n",
       "  <source type=\"video/mp4\" src=\"data:video/mp4;base64,AAAAHGZ0eXBNNFYgAAACAGlzb21pc28yYXZjMQAAAAhmcmVlAABP9W1kYXQAAAKtBgX//6ncRem9\n",
       "5tlIt5Ys2CDZI+7veDI2NCAtIGNvcmUgMTQ4IHIyNzk1IGFhYTlhYTggLSBILjI2NC9NUEVHLTQg\n",
       "QVZDIGNvZGVjIC0gQ29weWxlZnQgMjAwMy0yMDE3IC0gaHR0cDovL3d3dy52aWRlb2xhbi5vcmcv\n",
       "eDI2NC5odG1sIC0gb3B0aW9uczogY2FiYWM9MSByZWY9MyBkZWJsb2NrPTE6MDowIGFuYWx5c2U9\n",
       "MHgzOjB4MTEzIG1lPWhleCBzdWJtZT03IHBzeT0xIHBzeV9yZD0xLjAwOjAuMDAgbWl4ZWRfcmVm\n",
       "PTEgbWVfcmFuZ2U9MTYgY2hyb21hX21lPTEgdHJlbGxpcz0xIDh4OGRjdD0xIGNxbT0wIGRlYWR6\n",
       "b25lPTIxLDExIGZhc3RfcHNraXA9MSBjaHJvbWFfcXBfb2Zmc2V0PS0yIHRocmVhZHM9NiBsb29r\n",
       "YWhlYWRfdGhyZWFkcz0xIHNsaWNlZF90aHJlYWRzPTAgbnI9MCBkZWNpbWF0ZT0xIGludGVybGFj\n",
       "ZWQ9MCBibHVyYXlfY29tcGF0PTAgY29uc3RyYWluZWRfaW50cmE9MCBiZnJhbWVzPTMgYl9weXJh\n",
       "bWlkPTIgYl9hZGFwdD0xIGJfYmlhcz0wIGRpcmVjdD0xIHdlaWdodGI9MSBvcGVuX2dvcD0wIHdl\n",
       "aWdodHA9MiBrZXlpbnQ9MjUwIGtleWludF9taW49MiBzY2VuZWN1dD00MCBpbnRyYV9yZWZyZXNo\n",
       "PTAgcmNfbG9va2FoZWFkPTQwIHJjPWNyZiBtYnRyZWU9MSBjcmY9MjMuMCBxY29tcD0wLjYwIHFw\n",
       "bWluPTAgcXBtYXg9NjkgcXBzdGVwPTQgaXBfcmF0aW89MS40MCBhcT0xOjEuMDAAgAAAGF5liIQA\n",
       "Ff/+98nvwKbrW1u1v5PPSPwstz7CKj9uWxO06gAAAwAAGduVL4yG6guA+0AAPDx8hSFp8o8wBVN3\n",
       "k6wv64zZGGai6/sM6nJxvqkA+QmSqGuqrAvp3kLXhxs9izAYmaVhA9zf5tVEuNM+cd+FnrPZaYYL\n",
       "3KZQitWzFG1OKu97vpSKRov0Jh2Gev/3R5zTb3+uNHXR/kAu/lmLlxWtoKA3hMRUQYNd9voigBCs\n",
       "aQOAozqj1RSeyV6I0YUqnyUZMPUAqAE62DYAd/5pqa+Ym0tZc1M3u324X6fmQ45TlL4GLKFj76eU\n",
       "m8rBPXylIoalJFp5ziyzHrsI1JA1T3S8xj2UTfT6LcL3wQPGgMS4zLhT4PAbXqpNwoY9JohpKVab\n",
       "NdOHJxieuznPDmFThQInNP72thY/TY19tac+SSw+SFtkWxOszO/SvWnICmlgVUM9Ar1gP1P3vZWv\n",
       "WDA2usez1oWavcUuxR9OPYHbhKVHdkE4VOkE/nQrur+VhXh65dYF3qw1T/6b5t3j8uPEtp0j83wP\n",
       "YXLaQGnKOh0G/ycXsnzkbRVn3inSlZWNz67oeNrr+T+czZFYk7tJ3yJu2BwPJ9Ax7wwu1uK/rji5\n",
       "QuNjwKjwDPldpD7L9dfagGzvS27Y0fe+aUY3kgyFses9IdEWtij3JTD9zpxqmVPhPR5a5BoTcQcy\n",
       "JZJ7dYlkX/lspWLrvzW5LdbPhbL1g+KUCYW4PCF7ZV4m86bQTHtl8g1CFMf398frN19jVEQiyjfM\n",
       "zxX5CQvX9QpIUVMRA87awXy+1DlekS0Q1DQ/l5ESqlJvZbgb9ZtgVqvrdfd+Zblyo1OgPcl3cEsM\n",
       "ZFpdi7aCcaTYFtqqXQkhQ+8FpKzDdPx0RkorayzjW+vOVhn7QKYiKPRnszFfEXW+PXeXHTGjGvUJ\n",
       "wHv7C1+Z8qH/Vxy7RhEny9E/XSeqBlXVRf/647+uwrCx8VlP2c9hhxO1/l6kTantuFhygE4PpCZt\n",
       "Jl/i5qROShYInWGMN2pDH5sJ9PgLO9iNqgzuw71HCN8AN4yXPK+2WDxyXA8qnUXHWKkGB9ug1/mp\n",
       "6IBuzw9hA+2RBgMw6q5Pfm6NpOadE3gCnZNRWvjXpIPzXplmptRfQ2HD+EWv6aJHQN4UZqeZB1zN\n",
       "p7veRDjUnh2Zq0fRdMPj7SY+0PpfsKPqyjz7Rt9P3zpidfoe7RPvXE5S+dbQwkuSX5SW7b2zOgtN\n",
       "HGG0nCS4VuJvHGRa/g59AlV/nvDq+XTgb8MQmcZ+LOX2RxR6pY6vtY853upggqeY2IeyaWNaK5qD\n",
       "3QJYYY7k4//+4/QWkG23IhA6ZtbcK5rXwHKuXO6+hG8b6xAlJWP+04iSmInBAA36ykpXBNYqhTcn\n",
       "PayFHsbbuJ/7g3/0tb/+R6c2kGaUWCEjGDoVM2TbuILIs7nMIHLSwnEt9BvvEcxvM755NtgvKUgv\n",
       "Vu2unQBodJqS/kpbgJ5LSZmZMDNaPO81ZQCcUHJTLKopoAahHjeLT3vOHThQix/UBl4oRbCjvTqm\n",
       "4CCqDQI+F8gv1xBbQ9kVZTlTaW7JA/bnzZxfa5fQYfddzuF8UTSZvtZ9uIsvILRRzqdknxy9nAZb\n",
       "Hp4iisfJuIEq25JNDQuKv/3DE9iQQS7gYwUIv36APa3pHWScnhz78oDT01NT3rilPNQG+rBpKtm5\n",
       "bV4PILjfl6hu6ArSY2PR0k29+sIYXE7hHYtDzrxm0MsB6Tl55nsvjSetQVNOqvmy2/BDlWmH3TrY\n",
       "zTlDHjiVJDfHaNubMIo5mSmLsbZuPyanRI1jzwqnRYElLcbsG6GmTmMq7ftB1J2RgFDu8imFzI6v\n",
       "U8k5SIQUDEeLSUL8pZo/hVl24SCaZayewLRbelgLI91Gy9D7hNsokC0QfoMWH0q8iVqC82EfBr/h\n",
       "LCU996pEFicCtHteF9gu1WPzy7hjIfxaOY7cATZSLP+fzjdfefB78mzrIfn+0QTO8nuaZUF95xS5\n",
       "nNik40+J6IbEhW6y7uw/wwc34yNDdGs7ay6+2/GP9HFx25g98OEC6SPfrt2tEwyoDOpRM0zoEAZr\n",
       "WhT576jYiKnnyuijBD1lzpywGyeh+gT/MJ6vJvVhxgOvSAePUK2GFEsVkXHOUkQn192IP+rGZHe1\n",
       "9Lw5O4L3W4c+R+HcU6sXFJxatGm/bCy4fUDMeY8LX/1wSjglW+rSdK0JBIExpUp4nW6Ezh39ujwT\n",
       "utDy8fPEMdDGoxbwOgV0fUWWLqagfvM9ZTW5JHz724Tmg4XD1W/A8eKZloTm72v9Umq3peAYBVtt\n",
       "z1v6tDN3YHFhfUYo6370vLSluIf8Y7C7n62nm57ntkacpBPBWP1uANgUXAEU4J/IHdITao+Whxzr\n",
       "HowvrBrpd4oig9bH6h3G9O1HVGyyIAoUyMfwsiAE1vpQXVGEYBWo+MAdz2MvKQrzVde862j1J0vp\n",
       "XqfZuLCQnD8W0OPDWS73Wv57Gmjh/yIjAhuWF/CONLoFcomNVxKotoDDGJOED8iksR7fq9M+1PzF\n",
       "poC7XF+pwNll3Whc/SczOvCxWudiNGmjRCotkjz1jI+LiqQajsMDYP0lAUgc/ikQi91PTUpJeohX\n",
       "djkOmphyIym57Ss1pRs8HHnsgWcNDJdXa2dbujQoMxRMTD1YWoHzTvnSJbbmLBN5/chw2TTmQLra\n",
       "GU4+qol2rXYALJIq6u0XJnOPVsLfCCs/u2mpLy8UHI1bcTpFyhuT556tW/unli0KEb3woLDLL4EZ\n",
       "ZbISktKxdIdc03CYwPYbCG+xXnOpIKqOd6TLLrhz8NYSqWA9DmPKQ5vYnd55BHb+hwksrV3BMWMO\n",
       "O+1yrtkkGZ9nsDPANuO/nG/7AIhdHk+Jrvmzz8Q2a31Zo3OiP9JjE4KyU6j6zgZ4aE7sr9252g+s\n",
       "FzQ8sFKb1DHlAKRbwKPhLhba+qak7xsPToxcItXjpAVSl8JOmSCm5K0z1mgW8qJqWJYk5jOgqY8z\n",
       "I15Fwx7mJCuCYZVpyeLmgxcu+sw5OjHcYA49xvmDMsSfgluMy2F5bhr7K39LESskuBBWhi5ryciS\n",
       "Wx52sjFV+bDKQIlys9Zb2jwIVffVlDIVib6msBqmnc/kmZNuIfgR1rsM/cbgVwpZM9Nes0dIeMcg\n",
       "e9v5uV++ehrhITOP2MXuDh4v/Vyn1DoiXU0OJtGjSgpviWo2YtOmqmp1Ylr78S8SjgYcVDeSh5EY\n",
       "C7Mj5FKht++08qiJwZbVi94P119gJctePzFXPtNASl8k6SIDfyvvvAlkifu4qR1uuE0y3xKcOGQs\n",
       "tweF6x1NRcCViihUkHcliM7yJJ+/sj733ZFF6O1plHFQNsO+T6IJDG8sqn2AUliyh5/y8ljrWfV/\n",
       "Pnc7XJmowMn8mXlWPPKT4MG+fGAq3D1J9TF4D2FdOg/tDUd6Od8spPGgqXhQBHISuMqYQ2Srs0Ub\n",
       "ibsE0cSkI8Wb+gTG94UlUBhfYdszZCPAdmS12oCcm/f5RFfuDsHXNwMZLBlSvzecx7CKW+zKZF1t\n",
       "fzMudr54cyuryZ1yzZiG+U4Lk7GYVk5tggG48Ksy68NrOyWUkxzufT0rdqSUJhI339AOQVF2G/mD\n",
       "FVw56T3hnf23YPe1gtkmC6yeqk2n2BO2uWxZj9HuT8bq2+ZYKnsoo3rb/kaPDpjXsiUcDK4IGORb\n",
       "TJg3Q+kagwxUBoAz/khfkWmEwxSC8U6etLaDhqcYGM94I+q6LAEurIbRz3c6lgAyTFUoaldSfu1a\n",
       "Q7QNAYrbKn3ZWEYDdNP+BILYw0vfrvB/dMkyrGhVarBMJwy3m1C/x23a2zkqIAHepCXLbceuZm1/\n",
       "tsKDWU0UI5q0cDC3MZ8sCld08ozc/gUsZZ3rnU6aXpnmOnTyr+hk0FHSDF/zGipErmijqU+TIu+5\n",
       "q3RJdiPQEGoELSY2yXXlOj4TgNZcHT+K7/bbBFUGjcCY38FA9r0Rq04EAdHr5IyAwhFaOQ+hBNqu\n",
       "IFOFqbZtAV9/23ambJtOsdzPH1PFHinio6Q93DOKbkmBOT8vSgA4oYmuL+VxpUPDzR1d8m3QzUAD\n",
       "Y7RmrdBduJ+SuKilG90KfNxHFKyBZd5+vN5zENHzu8easD+bh/9h5LSkx0p2+HnL88nRWvpwhxR/\n",
       "ZA7cmhMtSFVOt4LCFDygOpLj+djABACMYLsgDbv59OZJTI3cgyGLvMapnM7cli5Y0cb8k68X04cq\n",
       "gs8WYZ6U0tB+BtCvFm4Ib2/u/zK59vGr695VDyO+X5jdGGq5UUJDamwQo2DiNsXNI6IRIVhM8DTG\n",
       "e0QeVmmNa2PO5IlsgQJoDoxMXpmI5LhsZXDn8V5MZmkIdIyJZqv0nxWJzfhyV5S6O45++Ok7OUPI\n",
       "hebMZeZZyvnG7ENbB0b67oJo5wI3UTgLOTGA66LnxtrvKmgCIi1GEdQD55BvQPESoA37SlQk5p+T\n",
       "RFlea/W5HkPtsagzOIrjYFqPmemj7uCCw93csSAIlVIrnMbE9MoQXIeGyl/H8ZmNC8IG8m3SXeDI\n",
       "CwutJ/X97ngapL5FjcDmawDivoSq/lShsx3HWINuakOVYLbyvpHHRcNZS6kx/+g1LVpC4EpzF3/Q\n",
       "ir2EfQxA8bdtylU8b7YrJnZ8DJsavu7z/8ZB0HBTN9JN1xtguIP23+W7TwRu/JKKPUcvmMc9f9et\n",
       "eFi6Dv9SycmIKbygprBAgxeG0aAAjH7/lo294GGMAJvCGGZyco2Bdd4GpDmGxJUJl7dKkLiixlzL\n",
       "49XO/DCD8ef865krKJ/tQ06qmjiCfkVjOnwJtsCrC7GrUvWlRR/f8JkCr3qNUHqltr74d+olFiVX\n",
       "L+ZfykR1J9fcQdynb+UUO3AUkzzPZocxZ5cbR2xpCGuX0jKMeCu0Pcjm4aVyxwX+T9pEZCI8CYyI\n",
       "Xpi0sSIQabU66c0VVK0731zUpHYzP3ErQyAzlYs5F5OTskOVWox5O2VylqJN9FxUZRKpH4VzM2/I\n",
       "nINP+t4yk1beoAGYYVyTgrO5Kkf0kKqnJK/lcL4gf9HniktGO7cVdyp8XYN+Q4XsRffb8w9yuzut\n",
       "cn5GzLwJPIc1paQtxXvfTQPNYb9pv2VsIaXPYOrY2+ir9K9ECN3LZQ81FSnNRWK7zl5UmKC3zNLJ\n",
       "CdsCHJT8VAsQmv1Boj2uJpaxS7eEiGpkTeAJBhI6qTykVI7+OAYGzv4i+gBQXJiDbdhlcMF9Ob+8\n",
       "R5NLHflpJzgjpNm32wA602M6FGtZ6andRekEptW6ctMFsYjrI44RfV8BwIfw69Ni5xdEQnwE+wFv\n",
       "rWzS26c+gEfhn+aRFfQgtD9XzTJImkcWAPu4v25NHGWG55y5GVDnVRkcMEe3itlOsrbh9GmjFate\n",
       "zQJBv4yM9wBcp2WFioJSeJUmkIyS+pACugDP4bmBf1xAzSODcJ4myALYizUl+rtZS7hlYhCNFcgQ\n",
       "4VZbHThSCtmN4+d0QCp+TBGQU2+VpfSlP4hk5/vvbYQOH7/lIN1GkUfSlgsCuwabd1+dc/nAVzeE\n",
       "2NafC941W746GSCtfdDfm28YRI0vCfhEj3pnkSScnzhjBNRw2Q4ravZU5lWhbRV8VApzZ9SIPwRF\n",
       "QZz3vdEK9CVjDhp+y5J2Pq4WCC6BmuIBhfIWH5DoRH4Rum35ssqoQYzzHUPSPV9Fs44lPNskuSLA\n",
       "nFtvHvznKSaQAAjQgozvAClxgTPjhHGIIv0Yf/3tE0m4xa3f9nmFCwStME//2Wqz6v/zNcqnLJwB\n",
       "d8lt86XgZFQqqn7gEDpC5W7lAQOrJFEEAZae6EsqJmIbiMPvrHiIWOAUaQoqdCFkkJb8PaNyjD5E\n",
       "qkQVag87Nb+rxT8F2OxxWMba/TQKuV1rJZnvK9ovwxKV83JpFVl4wQvmdfXH8gc+reSOsgKgZWZ7\n",
       "sNkjqByq90OXh2OkDMmQcG+/T7d4fMReIXm8tu7WGTWqt31SkUmcyrSd8nLv8ASuSZt9ruSxZe2p\n",
       "gjYMy0s0qKBkR2SNpKzJilEIQaMZ9THoEA2YCa/rv3m60jk8nh4X45byGf9cHYhe49q5DuON/maG\n",
       "tHqSUZbVagoN6qyayy/dlm0d8i2K7OmK8xVoeb2vgIEHDQ037BiMK2C5dvusdg3IkUSrPE92zoPF\n",
       "A0Evbnt718QB662upGCvENnWeZeMZKD1cRVY9FgRi+LXsVpdraMEsn1Ma8z1Dflznm4clTh++oGQ\n",
       "A0u+ddq6zBmE+DltIaCVB6LJXOFT2jYx6VWXtcayZGZICDOjx7PtXdShsJcE3Y/JsmJaz4c0faNu\n",
       "OPoN/XqyVgZpjRHcdcYqy9Q9cHrp/zRkgtjnWkPVimVuhtun+3Oa7tD4iCipZNnrtIl77iWJ0OQX\n",
       "FrQGNWXpoLjWnZDm7a30+f2SAJfaVcBdv3yBwMhQVLZSraz3+htHGyUYcASxeLdfMYTo/STMl+DI\n",
       "AI+3Kxc2s5WHrf31VFBdQw8tlhVyywvHyq3aHITRBK3urvu6KLPj1t7/J0c8Udk43fJ9GYhYdQQl\n",
       "VHkTnTi3t4T+ExRK2CE6em+zHSdnyCppjGRONZpeH8rdjxHe16UQJxEwFDSQlcgak4uh3atK3vIP\n",
       "YUxJO4yXe2ReJp6L/8hI1Svdx9BB8WO+ZFtp96BD8GxfpMcchvbQ4aKP7yN3DaZJdsspQudnY6b/\n",
       "BQGhjphoIDO3zKxkW6njbDySk1LIShIjU2uLAz4prewHNMX+CCSVdnjKD7AX9mxFYNSACxPcp5H5\n",
       "aZH50/l0g/OJ7q+wuZfRVinLvXE+Vl1wF9JO2KzP0zaAjYJpN8DY8PRQjgFQTjSOtnAkYUxxc152\n",
       "EWtiVpX2NyL2nNljCWvvHRv6+A50A4sF/7NeBjMLhm9PeYkCJX/iGW8tK+sF33W3QAc3p9tOcewj\n",
       "PlBRKP3+xoHIJGT5Brb0mPAWzEhW1ekQfWd3/+g/geHzgm8cph1dcIvj3pQsFSjXCvqmLxC7WhC0\n",
       "GuQZTHc8gQWVGPAP2GOIkMFjEMhCevyEu590fFWwbllISQ2Fpqu2TtEl76lLJvoDL9MxM4GAOT3V\n",
       "Sh+N4yEeadUqr/ZmCmqNPeYvDSFLy/rLgIuFkPCT14/uYHZhfiNNBfnA8nQFU73HehaCGNhnKhrr\n",
       "6k8fWNZ5RuburwOFVLtFWr/gEX9TARk2lB3+qgZy+VvZmatGKWfJ012yDSx8Qi7Zcyj/zPuxGF79\n",
       "7FU2/GQY6lyFy2mI0p9HNCYUEs2b57Z+6nxFf86hPN/+69PLZbNSrQBK7x1QRKMQShjuH0J3kxko\n",
       "6I98ND6xy86RoaIDGnslykVEojtPL+iJ1RXK+T8NPi87AqN+5wN+Sse2HX922NaHUbDr6FSt+0F5\n",
       "FnrkZCxo57xuMkZpdFxH28Cvoez944+jv1JkkMnOe944icn8N228LDv78Dpxn3SPiitCWsvHWPEy\n",
       "JkFPG6qE2WOR+zOGyPo+FgICl2FZC3Sl8rF8jzpzmS8oTsea9MhD3bc7AZDu6Sigk46fasu8x8nO\n",
       "ck0Wp3gZqxdbgH1P5SpBiRPTCVoM4xDzrfg+UVlniP/t0URJBenDWAPDkIYy6cdU+6aPKeHVFajQ\n",
       "XcCtgdMn8WZbbRvv2+oAgBiOUUhwQNsi97nta4JKwrmADjnmMnPiBEVq7b6vFexGxDt276H+zHhG\n",
       "xH83DWEyzdfhTKqf6B5hbYcLR4D5KK3Fn9I/78Ysh0REZtBM3Mfx6AC8/SoNJY92Ms4Ighb9e1nS\n",
       "gxJEPI7ic09pGROuGpef8yT0hHwBBYLDv+/dIysIZkoE7vv+4MPNQng0lm4oePOPjUrycET6JYDu\n",
       "qotEwQRi/mLWv3zZPv8kqr5j6YuoASC877bW1+G1CybaGo6zhqxEPqYH2GZiXh0K1lIh6Lj6Wb2H\n",
       "qHPUJoUVhFekAYmk7L2N4A4rYi6jlCynyAaMt63iVQB2rusbzsUqcL4j5TVBYgBjsAau30IWeAbs\n",
       "L6OoJ7CZLk37WNxS8TMQq4+rOnK+QC1Mibjqm2Phq+pmj9hsSJfs4/vebHIuU5U/mYrH54yj0h1Q\n",
       "387/HbnwX66PRQQo/0JtfD3RjFKRJC5rFBrPvcFd11744fGHZp7UyZE1SqtTS0xA0gy4AUTG3Vw1\n",
       "YszGBi+oG97JYAHyKP9/cN2XzFKtZnSulqH5gt4nrAWGCQi/Co1MXbHIy2vgpwIZD1avy4f8XE/7\n",
       "TpPQVaL9I86J5nCuPC+/TRRlpgWWw1TIn29xPeLgRc0hfIxGK4MiSyd+PczZoKV7Gnw4ovfJsd7b\n",
       "3/zOsCapf7u6YalxQLn115yy0r/j+wmmMLeD57OvUXbZZ8hSbtxf9ISmjKard6a1ywhUX7F4NFxe\n",
       "yiDJJE3szAE9/dLXwwXNAAAHxcEvAAAJmEGaIWxBb/7WpVADugmUABdXAJM14r1nDooPBCcHlO//\n",
       "dcLxRshuCww2noJeS6OSWvYTORSp/hRDMl+x6mAiiuV1GgwZYL4KOhTzcf9WkPYelvCpwagnu7tp\n",
       "0pVJ1EPiejNTtRYCYny0aa12w2QLYg4d87pbRNHA9gVBUve1I16fERPIQzBxZD3PLETQvhGX+mSa\n",
       "z0Id7otJyTXrioM+jLZjWNChjz9UYLh9B3LroXHNWNkWA95NOlHcs2keSD7v8oc3CzSkFhZDo2za\n",
       "QPBjDsjqKFYvpQG1tEQFoQqxLxqCLgPNgsVdF0ZgGnOA/eSeYFvzZP9zDmWP+CCqZkaG2YCJo4X4\n",
       "Zpw4Hv+f6rmpafsue96Ro/TZic1dOHOhR2umzWxl/u+BFDLNrDDDjKYm1r6icSINyPONpuXdbft/\n",
       "g3kjctb8UAr58Dg2QJ0xIsaWeuLlxvQEJq/s1eejOTUtUGHWGoyuyTedzrUr7vOpUrOWLsW1rWW7\n",
       "bXkXtRTFX5TlY5tgXBbgNQLmmKfQTpMuhvp6QJ6jAtk2QGDV530T0KKwUqMWMf0TFmWFTlxMcNQZ\n",
       "/cxOA2K1l5AC8N5g40SsjekEWyhRXgQWlRrMXfNu0tbKzTDzjRoc2NeiUzUAGaYHV6f2zJN3Wkvg\n",
       "sTIfR+S4VjpbRY40yL2j6+h/utDhBSirPUryGFT63oteldoaewBpYVpDFY6I8wJm1K6r7sNQbkM4\n",
       "rOcAvYHXcAonGA03OPLrycfHfMxrRgG9eaRF6DoVSPAcMCCXFjztNwVFyXs42MlVIbVX+70SX8da\n",
       "XddsC4+zrN0ZaIy4u3FQ3udpTlmeNPOQVE5Zu4cBbAFiZCvcI3polq6l0WEBY0CwJ2ysPhhgymIN\n",
       "ffKZpMnkR0kZSy5PY71fBHK54qQwtmOWFQ3aG/uDsHS/i00O09sSqmBqe7Rs0Fvt4n2cELJEQEIY\n",
       "i+532E+AYtOwZZZJnjUl6JlUy7P9hUCc3/VIDHwckZY6s+RXLtMmlyAtKa523pd8QC5KAFhU7wUd\n",
       "LLLtCJ5fI9L6oDFcv0KQ9kZjk5YzbhIGOyo5Gd8EjhV1EQAGzLS7l5gyyV//AbwrLVQpuFj+n1Xq\n",
       "AU678tcIyXZgKECmE7XG6fQW6nB9YRWfN4saU3LPhM82vDYCTvUk0b+1Il5/5aGaGjHYnloIErv2\n",
       "eNa9VNktZ4TNj1AuQnCxCkRKTmPwsLdz7RYHoNuvNRCVcsq3wLK6iFOy5a9qBbMiRtQI0j5m6zY+\n",
       "jq5Sc01Rmp5xOFD/BXnfiaeIn8b8LXEiTQnSSpbiZ8SR3fCZ27WYdV1RwooWgAx5NUjzMoBus5Kh\n",
       "pudX4gcdieYiCZeYCmIi66A54g9EikWSRPGThUMYY3XMalgtZPuTgnWAaKtfr1xLgeV45O3vl1c9\n",
       "Fo/iyxR/+5R7qL/OdvDK9aKH93QFhYZvCWZC3KYbUcXWhs+yDPFvsG1GIBeOWuTjpKG2H6Dn18R0\n",
       "ehdr1XtAh8RY0cFTKGuzjolm2umd01pjY8OptWPAct4ngXzZGBxO1CSKPCOGAJhy94rrVjlyq/Nd\n",
       "xxS8CzKT6KN98wZBsJNu8YLCBjDM1YXx0GOL5nHKbqMdGLaZy7iQH0CaQfMeJQjUDH5xgNlFQfT4\n",
       "1A2/qUSObNxBM3d3qNWoAxmxTW/NxtS2GOzCxMQmfXoARiD+Widi3V980YhJv/uxEHDmWkOnSUbY\n",
       "MAQpN9a4OVu3FVzUGoo0ylbvFh5YnAAQdGCVSx42POkT9NHaQPf+0VfmPUhaV/L4nKvtHNi747uI\n",
       "/4TlVnFQuMEahB48gVEiBXAOo4Bgz6MHp9Jqbv3xBE2M3HNYUh6E4YQ/vYVMHIxcDrnfCc9C+zMM\n",
       "mWSds6a2mWOQMg5dKIg5TUMXj2E+7Kkq7UAulN9JzTO+0G++zKdgQC/2u1n7yE6MaPshe7DH8Rbs\n",
       "sDC2Za1kUtJTxGEHtKmZoOQxR6E3qt1VH85mUdljbL03bJ9S8IfYNopkTPRm6B4OaUatHUy5I2oO\n",
       "1LLZ4JIYgdcpjZ2/GQz26l7Lk4WJ+qYT/gpktYRhYKeHi5ZQAhO0ifLLZ3Lr8I3mxId2fC/gozrv\n",
       "ATHL3BTL/KVDmVBkWIlXkY3Qs6pzmpnpkVhkREpQsW4FUrq7Hg1nr/6yW9tLKD3gJ6LsRKi1qto5\n",
       "iJRXFjJkDelW0qgkrACXagU/PJFUIbYfuiFZYrmzqo9bze52WNH4dBIwdSSvQlREhou7w31R2HRh\n",
       "u+VRobH37ONEUR9Vav4L3vhiymBiaeofwZXTCi2icbws229KRIzKURbmSSlY5M6ar8QPO2sPE+/z\n",
       "Jtp4WNnb8roLVt4b1QBoOXPS2CsWhA06NxRWlcTkWNJTKH7aS4ZnFauz6Tlbx2ymnX9Pi3xofkbc\n",
       "IevpdpuQA08PejUDiz+DiFcoYtaC8BbNSe6YxmjaZB8PJJ7HQ0gf9fjKkpwmBBESOT+xPZCIa8Vl\n",
       "RtqBMPH+LPDGrYssA/7zeU9e+iv24lvmQ9QRaO0S5P3bCp4m0BKpWv6z1/nWdrMPSJ1qmr7K16SL\n",
       "WLHf/3FyNE1NySTctR78y7S/BrzmBge9VwhmTyWlN7zQ+G7YCtn71Cb6EDrCYiuA6fK71V0rfWFN\n",
       "v1HPBxv+RIMbP9pzDN6fV4PjsXSSW2OhS6DNEfTwOVf3FM2PVKlJpYk0dwJb8yT+gC+tZv7g7b7U\n",
       "JPPE2L0Hd/mABqThqmwuZaAv/cW9XYVKz2d7JscdQHvb1syLgrhC/DtlANfPFNbyGpW3SFbg9hAB\n",
       "6nyCOcbcz6SdclatLDAv/cFzNOsV4p6LWH0dEn/Dr0M7cCgsIphE02raGCEZK1udMT4PtiSqOd0h\n",
       "pgoK5g7J56XfKgkTpv427MjyReuARs6lf2pYtmGSfpMKGbTz35Bqx2gR1Y1nkz3pHgjiFzsQm+FA\n",
       "EfiMsjfUFMabhBoLzXhOygIoOLA9cfW80fOecWdakRUC1hCxssBg89jK9BmkcfMaCmjd0Wuaiswp\n",
       "W9cGJHLfP/Smh23LeE+TppYr5SYBObjdbZlW9/XaPe8S5wBEpZVdAaOmjhSpaCk7Br1BGzCUp7O3\n",
       "Q23LHaR2Dj+SuHqPDn5sjI+D/0fOh+qezQfgHUQ2IJUj9/X59nCqFRDi8/xGUvtdYz2DUXzBy7P6\n",
       "l/h4hBsA7ZoA7exM92mwM8LXoUZqTlt4BvYYuMu5ODYmtGyFDvcpoj9Ex9iAFJJjMMIUL0cMuets\n",
       "dynWEIKtNQthnLQAXFzfipcgM+BdfWeKS26D/OOAAAAGX0GaRDwhkymEFf/+1qVQAsKeKOBZwAc2\n",
       "5NLVMeVrlyl/GVeLRVR/2VDKimyiT2QjuOd8lz6topPpYSdkO9k/rCL5WfB1YryTWHzsm/KVyvAA\n",
       "OSMVbscqf76R7cpMj3tAs9llcFNFGD8Gx4P4115LijR3/wYrXdobebkmqRBnRJP8t+DDcBp26CWz\n",
       "kTLJSE6TgqJWr4oVbeXiqT0gxpZDfvsw6s8GtMj6O/Cv0KYQIalyFMlDs21c3ZlQsAgXtfY7NYYK\n",
       "5/WAnmlw1XR6GROD40CqdD7/7sAYmh7A8QTWBlEePh58pFCHlSM82Tv+h/ZaMTaCnCb08JvoA2Tn\n",
       "FJpwB+GEhLwVOOdinzDurfCP3hSztTh5gRYG5pDBfi+pVe6UYB5PvR4GS3Iq3pBr6PP1BLQ3A41h\n",
       "0aa5xGuLYSRJwBtAopGApMgS3z75sydZuHdLNZ1Mv2KHFMJpG8Cuen7dTQcP5zissaaJJ0IorJjc\n",
       "0n/BAWLHwlWzIr6oWT0gSqqFcrEPnBrQYg+MDiKk0oOR+2zQddbzq7oCwKGfgU2ZGOnZ6zUTJyAR\n",
       "ClGm6AOs+ogVwZ1e+yC19vcP7Rjr1Jn9tBqVPDHQjaO7K8HeCRIxpCiPItP6+XZfV92v2zT/L5wE\n",
       "TXug6PciBsoJMboLT7iDGyzDKDUodON36Ifbpubw+icoDtXi8CZCkjpwQtOZ2tErIz+yfCqaaSSq\n",
       "+pojvuua7lnlI9vGoqPScl74a6Ok4XUywKz1Hr7k+5orYm+WuMq5whpZQZBP0mPDathpQ3cVptZR\n",
       "AyFLYGGgR8k/htLbs8NteUQp29VX9UvndMT7L6vECXvkFOxui9QVaTqwtZsChRCclBvUmW0g4295\n",
       "FbJj+FhCWa/wM1aGbdRSJ0arrloMvj+pyM8QzBBeeKqzGbCW1t4ZwiS2PBOwDdzj1c9SCoLVs2TW\n",
       "hjsUDoUPdVdmWM0W4QFqrkxSfeKVVI6sD6C4W3/QsonyLIEEyGlsP2jEje3jKRS206TfC6ZbFSqH\n",
       "+wmEBUyRLufAieVcxc6zF8BoaN6xZV/1ok6aQHJv02+u9fwkh8v1XkzWksNZ5S1wOkROIgQtkccC\n",
       "jdasrXjkfhWOsKv4aJOL3fHVJSIuy7W+GAq1w0XL2JHe45oZKUa7g9eW1f0D5sPOaVRI8grSsnAe\n",
       "Odih395Ff1zt9cAtouvwmfna56z08KGjjduxEB/nJDs0S2JoF99YbPF2KkkQ+pCfex3nnOkIkVn6\n",
       "lZHZs7icjV/3yOmsfEgfLnj5GFWd9lp0AgJIumN5EE0O36KARkSasQl4YoFTBdXWDsSku5x2D8L7\n",
       "YCixvlEFfjdVRqL9besjbGprpqUYtwf6cLh9WtsCKGBcMGwq4G8iUJiZ9aH2hA+d/RZXOYgXz7no\n",
       "vYP+1+ElHjAA4gRLjFvuk3npJggFTceuXdrBQl8/o+7gzv27jtoUwIsSa0/ImAOv0RAcVrU0qWe6\n",
       "Rq876JzbE1qlREqzwKgTCoSetE6ffLFvvReX8AojW3t/jnXH9bHQD77y3Mi//i2f6p8CObFWCtM9\n",
       "5kc9vMCU0J//+Gr+L2wCRl1wLBnCdw+hg5AJQAdVoX5AcXDw1wrQwjhBV3F49x/JESn8xxU0y5Hv\n",
       "YLmoBV91YR8KJKMymcvZbLPRM6eyUfFAqUHYBR0GzVjNpMh5UcFnnHtAa/N51veCSMUXAKIJqzvZ\n",
       "hnG/1ljjMYVZeBEAqFdRMbm6k8dk0POXMiLmfoFgaeHxpRIN5pYE3afHe5Jv0mcrVzlRq3ycRHDk\n",
       "+QmwDjCBwGvPyMuWsnys/j1ZcCpjESQ3kGKxZhTP6Hc79lPMvNoCPE3hIRCW4s/YyJ5DNL7laCJG\n",
       "7b6lcQ82TjA/w/smQJHf9agAGAlPFicME2qmBExJjswuxCXtoK4X71U6yhIu8JOcCHKgeF6FS8SJ\n",
       "iHtuw5vnIQbpEObeuYaa93GUuuKt6Ozl3DQxsVZ5Cpfe+2KBAp1nnHMw+91Rxu+A43+nPkZoPrDr\n",
       "1SXfMMc4OyZbkeEdbxNg0bUejrw3/SFBalaAwPkwm6IwSRRm7HebDeoRgstN8L6lP7zvYtcSaJx6\n",
       "0lZ9/s0uaaCZN/IrNqOSXcSXjtvP8MJJgH6Tl0NjL8HvSXj3e7XNhFBMCKccjKSUQkVbDEuIJxa5\n",
       "LzNCzsIx23XWaGmhAAAE5EGeYmpTwT8ABut19DwAHObzsTl+lgVT+LixvzaPKkoEEoxJMF8o3Scp\n",
       "zXw/9TL0s/N9+AYQCoXsJn8+D7zj0D3pZFb19759PBfucIr2LxM3p2R0tOUbnrxL8eTKycA165W3\n",
       "w45BXHpaxr/IWfGd+46N+YhH0yxeMdRJXfLPEJvf4rez2A+zJ4IsEjrOVlfnWgo37MxZdyA6w6L0\n",
       "Ndh6yf2G3ye2Dp70awNqDXTviMmyxLOyyYOeKTwzv6EmL+eMmYpvbzaV9HNM77Af7QNiOa++um15\n",
       "eOR+EsFIqg1lMe3shvNXojKKj1gzQkfMus1rFIbrOigu9gb3ckWa0DdmDdQNOByzgmPyWbbZwanc\n",
       "KJDT1C1o3VnmuzPBl/p8Hu7xRCCv1zJje53zsv3VOHa0/rojDSMqozdbkn1H/jPPFPs5LpmtYZV+\n",
       "vxJl7H1EwxS6zt8w9LH9/Q0nAZfsDUbw0aY9QOQ+jpyKWra0RCRBOIQ2FEKOYywClK/660zOiy/N\n",
       "1wEvim1Fbkmb68ZwUh5U3bXl0C/MkDsNjbDI6RkFApYwM/MuFm/TQfGmXV+x2At6d+hp2JfFTLbs\n",
       "HkGS2GHCtbS9OhUwwMekxhTeIFVx4lvwT6Daub8Le14TyBEQ/M/d9M4BqRvAncYC5iZ0I9Dqn76r\n",
       "qGwYJ30TjH+DQ3UhkJATCp/Ll/uE1RHCRDpWLH8aCBFxMdGaUGSHPV9RlGZgFZcMbbRJgnCnA3gA\n",
       "mBTaD+RQGfwnf4Igoj+hDQCD8KWoQ/kFR/MQgc0P5oRKyHk1LfVcq0obm+aRKbw3gXEEVUeqB/N7\n",
       "aA4kwMEIFHhUb7QTRcw1vn7kHlj+a5R7i+SGwVuI7Ma3uVnMF31o5vvKW/WcvLU+6MsOGNnUmxuq\n",
       "bWzIQHVx11AWM9iJL+XWFBCabC9iBhbmIn1bKVIBOS/2JLu74O6fC10Ahpx52Dli8tGBHja5S/i8\n",
       "X5KawMv/I3K166zrR0xFZEhvInsMieoHjHxmoMp5rJRynVHf6U8RYB1v+7lGgYKgxV+8X/oy1XC9\n",
       "QYoLZxYFcinM/sxv/NaD5wpneBNdp6sWmnDXLGWyPiQg/OJzt9YgQ5+dmO1339KP+SZWfG2keirr\n",
       "ky2EHmBRSw+NKrCF0YcehxgItZyxhWgWxUg/evFJXYGh8MYmY0bNuJRzuGK/kpfShB61ui1vYNCp\n",
       "823nOaV5Jt5rFnb4z1QVRrr1JNJOfmeIukohs7EpBXD6YgfQM2QsXE4bnVRkdEPe1EsFQ6BCdFya\n",
       "6/Tdqv6pcmb5xnTijQOJ18wDTFU3WUWVV/7rmx8TCjBGoqEEHa9T1CXoSlZI5hma08jc9z3g8gy1\n",
       "JeEktphZiG8NtqjuOlUXMS1tglKSUtSuOUFPeigHdWPWkWHIoSGv+AmFReMkirnobibzLkwB+05+\n",
       "riSEnHKwDco1ms6rtTnGT8SGuoWhA8iGQhxOTzhwQ/z7k9xxoSgvGvnJsl/2pE6IrMmsM+Zei08p\n",
       "TG/YTNQWhjr490vNMBtbbAmMQCiaroXx7J5qPuhLvoitgYPiIbzhdDC56DV3X/7dXx24JsZH5c72\n",
       "1+7T+G7Qj//8NNWlxq3J5gH9MHBJdK1ONeUCh/XYxGH5MoZoMiVs7PvB6NOmIwrMZ9fMO327JQjl\n",
       "Pjn+CZj5+AXkYGScVtAAAAcSAZ6DakEvAAqGReQARCpN8fEgvcckpDaTvI4SscadfhTlP0DUvXXg\n",
       "19fcg0Y01gaKgGrWUVlTie0I73pz3dTVDkQMPUoJAAjTIQz7OVV2v1shkk5Zg9bJj8D4stWb6UVW\n",
       "Ky5/bFzH0D4M4ltXNgucGgjDUkJ3SpakjGfeXkZPTE/1efuBd1llRf+QvyxqZv8xDE24qZQmys9b\n",
       "sWe2MSgPTqOL+2AnghFaUnzd8ExpVihhTir4XGch/7wCJmsl9g5JXsLDrM6RK0IIdMhW0uI/HrWR\n",
       "Ljkv3or2tAkmeJ537MYK6lkXTWeYUMxb9sC4wSu12Vgj9TqgQKrbJ0RC1hqsBDYFnMZ3Cr/PlEsa\n",
       "dAoKv4Fkwsr84D7piy+W5NYM/YSbGzb2rbRD5Usg9CIqs3HIw2M92KFWqkMDbUTmZnK2gfgnFnAy\n",
       "QjYAWGAhJbSMyQssmAZiGIeZLovFglK/gOzHPIZIOIWtsgkXe5FsapVRIyq6TlankvFivunPZSOZ\n",
       "EfoZjqcGR9Uc/IYvgvH9yjJ7Fcdq7XZRxUZzJFENi/BY4glKorUGcOK2IQf7CWi7ShMFuL0KE2hm\n",
       "Yu5482Dbt1LSDIfu/Gx16z4n5xR+Ci01G0WCWF6iXuJEjQNpX/8K+soE3wmd2KkVDnrYsXD3eE5y\n",
       "mA6hGLKrHbMlTp2sOhWcX8Vn9hu04NF7DYoE1lYylWSEugJbF3OCvRIR2RxBWADJjtaS0NmKcqSz\n",
       "CHZTeFw5jS7N0ntSEMBShMzbXGjSfFgemoWeqmB/vCE66lIQ7T/HEIttGRYMT9ds69CotO67zRku\n",
       "V3c6wQ1TRc36kEWp5XybpoKD+dwV9I6SWtg4DrYjQxmQKw4/uAGstBSQ8xsEcEeSJH7KjGtRmuGA\n",
       "8qlflvJkt83lWWb1Jr/ZXcdZVayf2iTz58ZI93JIcdyhU4tQScBffunewnhVmG1mm8S81BlTLzHL\n",
       "uTz837bCKRfLLuuTASyEXx8UnLfwkBa7j4jh1r5D+HQaT8goLrtE9/v8vww7okhN9F7f7BQjir44\n",
       "4LZR3+AiyLQMHGuABy6TRfClY8OntDpHUjw4xG1kbJFnQCYF5qQnP0No7KxtKaYF+04CBVQK+cxY\n",
       "a4CFS3HJG6ljBqJt0cm8/bMfY0XLX3T/QYtXHSH83+l4+3PY6+FQbnOLhipAHcGJKsrrSMY2VP9a\n",
       "1G/q2dwmBaHyjdT37bNJ7obW0SxypoSiSxhA5aiSMWmOl1GO3zqma4+J9KCubQajIXhjOH/vak6f\n",
       "qL/FJAnkHk3PK1ePY9di4oBUO2OAyFahww1ZsifuzMBhu5bz8Kj69BYS2w9mMdoZkOgL4RZye7/q\n",
       "mrcJ6/4mKv3g3vTZCbI70EL4mzzMtNAyYSlTokEyg85czxIVkO/iCga7qVrPrloDxikVLSmMlKyF\n",
       "O8Sm7JaivLZ+r3TPqZFJ+bGxq8FRtro4t6QEjTC//AbFQwveDjgBfrHI60r7MkDpJA9oWMORa5HE\n",
       "QsZLJ0S5wveHCVkXZzKbd/2DjaKve/cEAwyCRyKDk+wfObOUKMaHV7S6l2ivca9rVm93RFk9nxoC\n",
       "G65X+9hbJNgY26OVzaB8s1ZLOPDouwjgTMoxP+6+dW4QylUtMy4mCXc0YRK4FZPIqkiIZQ/orvDP\n",
       "JJmFBxNta0MOoWsaZGqxbH9OTMNVqhHvypkj+6KW+ijXYsNOclAcu3YMzi2womRkd0EO9UHrtsbp\n",
       "GzPLL+r5/nTT27RV/tLB+gKokWDx2ACMCH+fBPYJE4ovxE4p1xL+ygJHTYaz4zvdi1Ivq1xLX/EM\n",
       "t9PQn4LtEng47zqBWlLTUL2Mnp+qOau82Jr7QC93eL0qbX/gZkPQBVKlWWHOc5nORxhJLpQd2bO2\n",
       "cS/d2Est+kMY807jDC8Y34iYNk6FFags8GQubFaiv0qx3HYSeI8ld+rzIimL9As+E/oa9LjB6YBR\n",
       "Pjafe6UMBfiwAWi3xcqLh9SMoqrccqDnhQIi1P87RA5BalM6uAMw0Ci1guIMhZOTc++pKmCNfw74\n",
       "70J3zVXza/yuyOZw4ectoMDGcbyvLReNHomSxvqKk0m630nlmErBbMRn3XzY6vHGvEBxjCJRRMaq\n",
       "9pvTU8in92+OtPEeXQX3lTzDJacTsoXxabj8qRUQ9L1IcJE4AOz0TZWLZFS5o9+eopzOrm4J87XI\n",
       "71Uu7LFrIIfeSOali6dPBm+mymJqLBQb0UdETKUxxqOJC7MjUYpWgR9NYnFUbftLpktyqNHQynsz\n",
       "otXPEjMx9LGERm3knV/+7CLQnyPFW6zroYGkgpWAQb7T4nmnVzLtuOaeek4PJp7UpTtZMvalxH4L\n",
       "Ceku2XXv1HTzF9vALY55U1GX3tApkMEXlaUrJgu+6rTRPw4G9c0bJroDAOzPvjfzCUEOLNAgimGe\n",
       "gIOESQAABg9BmohJqEFomUwIKf/+1oywBYTVTPyRAAvtTIlSX9lnKn0908hByydCARwW/m5/eBMw\n",
       "M0kEYGlV3I4EuUJ8gTucrZyvoGw1iayvmQfyV+vxZrlw+hnj2wfvFJ6kZ8TrP6X3h5BMgF7I8A7b\n",
       "d8FeWB5yFfVhOIWHoop3Lx7ALFyjkF7hKPGDXV5qy9FENRl+UePh9/MOYyXhu17/AlTkgwwuhKlz\n",
       "Y8MsDpKWzLrnul1W6LggpHFV1ZPw53PnzZGZj/wP8lcXgYSg7/nrPAeuAkjZkBJ2andcWpAprOTJ\n",
       "uXfx1j3aPHDTajICNC+s+gIn3ke1pchzudR9/SyEbb7Wdncq55+llLzMH/tHSak3ctEjTckVaSBB\n",
       "a3y41H7vRdgvWsHcIF4uRyU+AxK2vTngDdyItkfI3E3stULG66MiKKIij2vRnzX7RayeWl2V7Ea5\n",
       "6H2Iqv6dZnrSAbWeEAgUueHxitinPMWjdUbG+tkOsnOJRyqXORgHLXoO3d2CEogzjeCp21fpMmOb\n",
       "0r8TnASsXr8qDXiRMpiWdQPICn2VJoNhsJITe2tUDduUC2BwPpf12rkZTnbKfMbOQ4xXlYWRtTpx\n",
       "91LCJ05bqQ2dK5FH27dd9iFQ2+TCqvt+ondcHUnxTfN7+7/J8rmRn23tplDpJkv3yWhFczGaD6op\n",
       "WpcEYQNAlYmFjdAueDx1N+PpAbQi9t5U1ATFv92eC1KUOZhJ22Q6umxmqKX2jmwVl6U7HH8rqv/x\n",
       "B9RZW39iiVoXauHvYo2GeeWUwWmqwiwt9uAs+URn2aJfAAJ0Cl2YHP/vTTT24LHaxTI3q+yPO0lL\n",
       "wAM9mbXGdU1Z6hIeUT2rw1mBQu9EGzerlkA55UrnbPtk6C1vDA393V5e4+dCGf5g4eDcOYUWTL8W\n",
       "PoR1D+Sw5FUHmn5hHAHNzPva0HbjroN70TJO7b1ZwaseQH2BLA1kupuFXtUGy3ToBuymq6+qGiTo\n",
       "4+qkK5kmRsX982p+k1k17gZOfkbyVijXVu88PIOY2b7xvyLfv6lYiMOt3PytS04+QKD/dTia4PP/\n",
       "eOYLGccAjujh4TlYMMc/4I2v6urIxY9LJOjUuOfe6avAybD3CN2qcfjgMN7m6wvgp8z9N3BhXaXx\n",
       "CeacN4i51EofVA5v7UyvxFCM2e11WJeOrlYgz6NO/mlNwg+N4cDUKBm62D5MAfq5xD0Fk6miAmjN\n",
       "NFCVuCHIyHg23G2mYZx7Y2WfJAHyCoTIvT9HnDMYuRPpMsnEOAhA2eoAyijZKA1gc071ytgc6s9R\n",
       "dGbm5eTYS95b+8uUTxKAvr6/Of2rzofScdhh8VPVqpI7SSug8MfsGM4JLxDK0SIah0ik7/p9GNsZ\n",
       "DYyBdSxxj9eFqu00SSWszXdne6mPXNhmFhMbq/jMI7gqGHjNdKAPHjo1uTdH0w6KHldLeYH/vU1H\n",
       "7sT11BlFb3aD4gbDOapVJrut1iDR8CyLau+eLVl9K1c2vbuAjVOPFrJ7X2uEirJwJLFEKhfvB5ir\n",
       "A+ku9STcerd8oloVskUGDMxt4wkeTp3eaZHjJP7J7/AdWbrVYUZr4AtN8UnMohGgpNitv8sxqof4\n",
       "4Q5AF+xFbemLREIVJKHkqz/4qnd4u0T/rYUWleGgI+f8xprRk+FmhEZx+ra2OFgzNacWbAcdpuZn\n",
       "/73wSV4oJzeBC5QuYtDGQ7aXM9zajVGDL8w6g494XJlxCx3QRhzejvKhXA8bCCMfqc181d9OGWNx\n",
       "GmnIP15YqOypvhj80OlXj0emT9ENV/MRZYd1IN3RuFFSU/W1O2V0ave/qjMLXySogRr3yWWJ9ufU\n",
       "GC7zovIOAaFfvI55f/zfJdoFHEb7Fjn5q1bEbM6eJqv57Lvme+6haFatqaWXiQYf8AwJum7N18Vr\n",
       "IDP2uRPor98gCp2rTRs615sGh9qkCSacptaatN2kQDXwpw9CXBDL/uzpg/pjyyUfwTjBUysgnnq6\n",
       "qXN75bfo+c/yi/bFOoAYF/mIOk5prBecJSdVEan1ZBkSdxQU/TPyMmfAtPL+m5f1kARsu7T4Il0T\n",
       "q29xT1mXjLyZvRMwdsB7aqfbZg0AAAQJQZ6mRREsFP8AA6W53CYVsgAObSQzTojV44dfH6zaVeus\n",
       "wODSVUG1GwfnQY3oUFVIEd50fX+PYqO2T7vm4MuZIJVEApbNzwmtavFysVeN+uQyNSDHxZ6hSX9y\n",
       "nPJccuCDnfTfPGmOWkXbFn5r2z4oLw528nxqeHNs4hfubRUG3kgODD6MzJwbWyXcDUslEgPRH3J4\n",
       "ErbZ86/gA6cJbp3D1OKTEsTMEoPeS6ow0/uDr38x66Z8TDhdpCjMxsJ7br9k1wdFRzPM4amArljP\n",
       "8C4NGD8MQ2mDJkqDB1kGcyB3nePzj2RZ/EWw6mwM9NHXGGuDlqsrd4hvbD208qijYGGkVGaWFJkY\n",
       "kLZ/qqSlSjM5ZwajGJL8OP0wvKZuKKkUheGFdbdZaAMa8c6K2G9ZIrWFDOdI9Gh5IlkD/3pNh7lv\n",
       "pl4end4umQXKBWhQheeedJgns9ODwgY1CQGtXaCN8QmmzzBZG8WKmzZJYyNYdchVMk434EAiUcLg\n",
       "T+jDGidtoaCUO/mMljKKBE/JrNfEGXKv+0Saz56LZdyeH5ENqxMKtJdr9TxhvI8mrLOiD2Uy35NP\n",
       "YZvpwlCgFC+FxabU+uBhDq3K1WRYm/IxHVJ+3yucC7ikitLsnGqDvsojbcfHqIREmzEyvyWK3MQJ\n",
       "70ZqnSrHfREDRqm/oHMJX37b50qlSrJ2quQ5KoloDl/2QtO41c6uBECK38xkj3HLjX665LHH5A/P\n",
       "BVQyaHmu4Uejllg/NClV8BVo+BR+8/DXpn9BLTRhuX7w6Q3GTZ5QF146B6/gmrRYOu7eEkCy8uU2\n",
       "OTBIuow+HPXpnvYfUd+DRHx4Rr0CRrAbgi7PYuULJym0j3Hr8bH49d68NUhtuZ6lCyfn5SJqGSkt\n",
       "WKPf+B0x6mdv/oMfyO8T10Ff4gBjjE/crushLGyUD/mC/82MvZm5IfyW6AN62cmOQIDYazwjBsNf\n",
       "2a8BN1eU72wD7CR/qx5VhBf3skv5eYruNL7MJbF/ZRfiptknQI8/cZTXyfJv2y7TVDAtx5pOSbJG\n",
       "xQ4zhS+n6KYRPVQaRV5luLC7tyxQwipvAMr3fsOlRev+iv+WuUIt2YfPBAkx0EOLFQqzPr2sSkdy\n",
       "C1ZTj1nWYwxRpyDFJ6cCTH9I6gzg0twhCDTgMSkFEpDVQfweOwrHA93pzni0eME6qYcHZc/JYeGt\n",
       "eChH9xdH6DeoqbDm7CStoWDCshg8DQfQVyHxZgJZleM+Ax70RRN136/jdGnjt6OQiPN6oOSPFq1b\n",
       "StqrVe1n89WG+vp5Y/cPN2jTNx2BUzQXPj0nlDq/ddW8iiOzmkb1oMq32lv4ziI79wL95l3UPqZQ\n",
       "BD+Z7Wspxoc3fwbCffCfzeY/v6D9U548KRDGRKVXwQAABFUBnsV0QS8ACmYq/2CgAhSACIVJyQed\n",
       "MPY0/5W0puAcPlYDdb4OSh9egM0ke9drSFQ/cD207g/yzPHqLOkflkIvpMj1s9RXC1C7TgZPOsZ2\n",
       "R8tQ9+KYuRhFUJQf1fkZeBooX/m72EnH3yDPog/BQtlzS3/4PdANNBCfZxHuZ8+CU/LuAwlI7wJM\n",
       "mbMYiq3WYKodDL2joAlcnRVMajMXRmbBLZ8x4iu5+YbPw04pXjsrQ88hp9FoOo2KZYyauRUEMZHu\n",
       "GVdxalGb5QxAh+Xptt78/Qw8jTiCAPJGDoQF4TOVBCOJVQC3dRypxRfYVbF6/wI5Tm+Lfph4DlC3\n",
       "fXF86ZHs4rkcV9YL2qn6RfP5TIrBQCLVrlD0egLoS3X4zRhMgxIF5ti7UhWPytZKAlDp6McgQAMd\n",
       "fbqr1nveF+dPpT2I3J+iyXCZlXj9bosv9qeAn3EEzkPMzdx6SwPg62Wy2QezR7qKHJRaDhg3Odad\n",
       "eubBc+9KM2nZupHFXJ4n64WVYxAKWuNv212kJX/DgJVrZcfdGxHpGe33S9EmP2qrhEiwZOU2Yzx+\n",
       "4dpUYZozCihoKvPI9YiAiD7EQinXU/rKCn0zkYjobpEVrUm8KGYeFkTLU8UVfLXaLiSjBdHRQI5j\n",
       "2FjgpdwbNYW5rO3ojFOZI3lH6o4RZySKEwv0BMJNwEuBUNoSUjrlwcxo9X+oEH61DkGLz1LPhtcx\n",
       "KrSIBhAh0bZZjgzW65E9ve20np1EBkxwjpMEtwlJtnpQEDntHUhB2wqh3yhZILDiyxGMpJMAFw3C\n",
       "GdqXqB4KqsMgqtSgJ7c+PkvILNVoNv7bRMDAMvfcO+kT7JVh2zARaJRCx9MrlFKY9ZGXuxPW9KfZ\n",
       "vm9Em8rQ/o0xpxRQ6uFmPOj5tijbqkUEJzg5YI2qzwMTy5aC6Q2rv+suBxU6aLVTDJ2WG3DVtfsL\n",
       "fq/h9PV04x7udEL9T1nnFczgJRLvehJU784hdx1wz60ErPAPl8SYdHSi0Czhw19aEFNcV4oZsROe\n",
       "Qnnjk92OJUU1V3Eowtt9ZE9TxETEhYE5lmfMQkiQ/bbHkw+Uy1AItVSXVgoADOFmKVPRF2OLIt4U\n",
       "9QtV58YoDi6Ma2povqCMzUaYXf3wltnP5A/exmgBw9oCKDok73OlFd6cr5mO+oVXVoXc682pHu5o\n",
       "Wmezi4NmmcWy/uj9sYdoo8gij87zbbi6roNuhvZmXgVXsJjFehwdzln0POPmo2gSynclg6q8h1P6\n",
       "BRpSJ9pmzznr8uCa+ZsIhm2ERpbDUszmyaahWpfA+o/Y/psf8uoDariURw+Pjf2rgXXg13/XBPY2\n",
       "/vvY8YqfbU7Lc2dHiXN/I9T4U/k7dEWXmncGH0P7cGJ1njbnYttAjBijZQX915Moh/n/7rwYFT9R\n",
       "KdCa6TbcOYFGwaojaVURqkGnin+EVI4wuvXWtXLzpdWsWace4Kliss7ot+lBdi2uIrrHozTVO1OR\n",
       "mov90QAABPABnsdqQS8ACmYjZkHKoiy/kABCmfAsb/5JaGyNzSUuczH0YOZqom9UimDi+Ue0gZU6\n",
       "yYUuBVQroV0MIG7uMmEp8aGaHgqrvAqJSFFgjwq+2bk5D+EWjipcICJ+BkYMpXj9j8/aCPadJn7V\n",
       "Z6f1qlidDfOPRQG4ZcLlAP+DySZ+oFXVeEAiORuGgutuTK7vzvaRNXbyirso0zwrf0FYOKP+jMIY\n",
       "uccquVBZhvvloP21H2tCmjLACAaqmBB46c+t+9nKPDBwORK6/UsJI5DEDheeKUYDAYILAkzFCnD8\n",
       "HDo6ZdlfxIi0V69PkpeOUPwGW2rqGKxV7X/G9+BNuIxG6+uMVZ5SdTaJ0VFK0NeW+w39LDU9Ls0M\n",
       "HzgqWBlndsETxUEEgv+b4NTarH6Ml7goMJDjPKdrA8d2Ovju+MbaAkzRBUDNnjZBGiu/bLyghKt7\n",
       "9s994v4yek4ImXJmN9yM04UI1f9QIdPh3sO0zJm7/+mFWK8sjFGMvBy+mVishW2ofaG7NHkcxTea\n",
       "Pxeq6bHNtiIB08jqi3jFlEEIK+57l/F/jlGjVGwjfpGUdPbPpQb5SVbNEx0EmtXv6M3WVMpWpGpd\n",
       "Hr3EU0ZsSEU338mDevMPdN6Ix/JkdY2O24wIp30pkEwh+lJtbOEq3+/BxhsJA7Nc0s9TEFnYFY+7\n",
       "SjADuN2C9DtHj/fJx38BTBlGLV32+wugbrXDW1aZBCxlvJuf6Kb9K0XFXJjG8mCpcqds+IzaK3zJ\n",
       "R29gVUn2y8yATvN0sTLvr1H/CbGg7GjlSpP79WnrqAiVQ+Y292Ph/BYkPl6ZdYZ+hR/q89PISG4L\n",
       "6SwKKmEz39aROmmelFqVxwHtcs6wfuZMGv8wXrJvzQe6WhiAqKtj5oPVc3zhe9wuAm8H4c3K2Vnd\n",
       "IzwDQgF6ifpadW1TO04eMmVoakDP5MbHNTQdWvlXmXvzM1W9kDnAXfJCesxPawdyBjPOaf/HFXFD\n",
       "SPFI3r6M1yj5pZTXfVTCUfLi0g9C7RJOGZy3kMMW9vmjeF9llnX4djnIJlrTj9bvI4PxONufLxGR\n",
       "4z6HKXSaF52pj4XSKNO7/UvgJ3VqFvMHhS2zi8CQsrq3GGt33yWo3beIguvuZGbNEBPCjaYeL8U/\n",
       "PU3WJhpB3rbwGwkwbrAn0jfmWqdgbI9jvqZIyeHy2Jguvrvu1XPz2TEAAU2XJfv/K/2/g/X8L45g\n",
       "8dJ9xVWagXfjHRsnT0iY8Xv+HYmM1HRxQ7iVx98j28PloZC/X5wLIueTh0K3TPth2TP/eMGwU22T\n",
       "vZBtk4TNiWainsrad3l8+fu4oQGs7XzzVgaN0Vxuj2GMvFyESf5kfgy7ixDq2tw9k5NUheUb2xsJ\n",
       "Iu7dy1ZNhybvU4vomqsuCjLS6MAYcB4rSGnQmD7MNpv4JuVRZFJL8sgnIHCm6tDa0BrtMBm3aEsl\n",
       "zN86+OaoH/Pv8Vvzr9/uUqSCKfQsOGEHJSfNMQsbaHHR0QhGoubldF2OWX2ygWkM17JhImjpjO7J\n",
       "PRADLz4eCfoF/ojz0cTptPQw1s6afoYspHIbuw/9x04Qp3nk1AtEiC7YWDe13bEHFwkYz45iKXOm\n",
       "gohknvuPb6kmRdx4AgsZonT3KwJ0oZDVkb7SZMJEHTg7LYaGOLwf3zVAzVILqQ7j3IG+8M195mEe\n",
       "7o1OK1X2pL1NAbkK1/6aWgxYAAAFbEGayUmoQWyZTAgl//61KoAVZKE2ADar6EHruPjxR8lwxDKE\n",
       "sJb9BMLaPZJlY8F/+H7WqLg+Efm2PCf2vtOhsm5sGR/M+72c6Vem6PxaOzMlWIgUSXWuPMV2vcti\n",
       "xt7O6a7lyGfju+lW+2XA+yvqg8pjrxLiKLNv4Eyt++QEfNyhHqy1HkooS129Ls1+GxQ+0cJKOkim\n",
       "MjwklK0WCH2RQQ4h4sK2KLf7zFZh9gnoH3ibmBAPx0trpY4B7lMHxAiZzuaXMVJ+RfyEiqYaMDaI\n",
       "FkYjZ9kweetcwK6BrVB6TFbyvidDR5aD1obqX2OUqs2CbbaV2OmvWZBzbhn7kAaKIeAEbNQOw9U7\n",
       "MIOc3B2aPe8TO05EBq4dqpLYDeDRkk6VKCRb51bYeo2Go57/6mfepSkccYKzLHinTY98x971E70A\n",
       "U5gnerBoh0G7hPkiEgkRKaezhHz4loutmfm/OU2ONDyoZqPNMK3lmQmtMYvL4yqPN6bO+MGbNYcb\n",
       "xR1FzHBDW/nYGx5b/OH3ID3bQB+yJ87I0RlAyozUXdNgO383YgiABpk81OyfYrR8jNsnBct5bHDf\n",
       "g5fwE83uWoKtACzqTe336UlGf4FciPU6oiqzg/XnndNUd69UT/fKzKDJFL7GJwLNP1xiZzna121Y\n",
       "ake+1xHMLYdOiXQzq945KRxOD4Ipm8LoSYPPb+QfTW+YGaqGbfZgsXKc/F9GAZUULkgLwc4aWDRe\n",
       "uPBCgkNwxU2vTK2DKsDA+jvFBr842Ylcv8M6am6ow+K1wCGtjCMMf/fAsg9GSOJTBIe2n+yGn2FC\n",
       "bsCmLyiL7Elaax0HuhUHwSwNKHevmKF5eyj/6ybWcM3xUwiREv9pLVOE3MGtL8lduHmvFurxqECr\n",
       "l5yC00MKnrDu13gyYs44fL7ABtgyDY18kAThqq12ke1xNQsFry0UWZuV5c9xcATlxu6/IhmOefKG\n",
       "o+sq3u9dhm8me+1UniF+feMMZhx20CFnpTg0V8bOR6vuc3O0LBhQi1SgCl036vXB/tZaYL7ox67C\n",
       "qPzbvSmrilJ2XySlo250LPRkY7DlhEg/+Vz84BzbP1RRSn5nLYy4q5+/elpCOCJ/GAiF6/JS1OQv\n",
       "qb3Iu8ga5UBtPolDZs7buw3HMdgRj7cVv6R/pET/bjhkTA0RDyGF2fFKEb50tQB8+X165h65Lggr\n",
       "RUvmpKjd8hPGGkJ/J/SAa3Q2904IzSlf7XJS7YjutVt71Ra9h5kT/7sQW9Qg3kFjuNed0Ue39Zd3\n",
       "M4Y4t/CO/gzbvpECbnDIQwSGtzJOubndSK73h48tIvoftL+5Qvrtiezp8cUhzDo/IJRH2y1Tz0Nz\n",
       "Q1iZY4tSUgCqYznXZAh0TdowjCuRBxrvYOVNdoCyfqAVK3Iww3Sz1E0o1QC7S1wat0AoReeNiXeo\n",
       "H0jnI3zHkhcj4HeTpDxtsTobKkd/ia17aqMHFWO8+bqWsi28K5wfaiVfRRleMNHaFgXEQWD5t4W9\n",
       "KW+ONT2roMBEGplMPjERDqZSNNlZl0Wm+OBzFRhRCpfnasnkYYhuBdUEONlPfXFpL1IbfCrkOB2v\n",
       "bppFQIqWWXiU9DhsIlrHWgB8jZOd9yEGmubkrFyA7yAqUa1DftgLx6s79gmQtfh3c/q5KLfro6gd\n",
       "ng5vJIBl7D6l5nDGm5uRGosVx6/5e+AhNWhZP/1nhOGD9x1RvHt7gn2Rr1BM7nyKC6dCem0pBi8K\n",
       "ZG02lTkDD66r3gXRPt5knekBHlodTlEkxJBE6UqQulhOZcKzGQ1ZigSjAPvRcGzByopHT7+OIBFq\n",
       "9dh2SQo0AmGug0p2RNZsuJcSID+68kkvWuAW0Rdq7eAFYfvq7VcLOiXAAAADlm1vb3YAAABsbXZo\n",
       "ZAAAAAAAAAAAAAAAAAAAA+gAABOIAAEAAAEAAAAAAAAAAAAAAAABAAAAAAAAAAAAAAAAAAAAAQAA\n",
       "AAAAAAAAAAAAAAAAQAAAAAAAAAAAAAAAAAAAAAAAAAAAAAAAAAAAAAAAAAIAAALAdHJhawAAAFx0\n",
       "a2hkAAAAAwAAAAAAAAAAAAAAAQAAAAAAABOIAAAAAAAAAAAAAAAAAAAAAAABAAAAAAAAAAAAAAAA\n",
       "AAAAAQAAAAAAAAAAAAAAAAAAQAAAAAGwAAABIAAAAAAAJGVkdHMAAAAcZWxzdAAAAAAAAAABAAAT\n",
       "iAAAQAAAAQAAAAACOG1kaWEAAAAgbWRoZAAAAAAAAAAAAAAAAAAAQAAAAUAAVcQAAAAAAC1oZGxy\n",
       "AAAAAAAAAAB2aWRlAAAAAAAAAAAAAAAAVmlkZW9IYW5kbGVyAAAAAeNtaW5mAAAAFHZtaGQAAAAB\n",
       "AAAAAAAAAAAAAAAkZGluZgAAABxkcmVmAAAAAAAAAAEAAAAMdXJsIAAAAAEAAAGjc3RibAAAALNz\n",
       "dHNkAAAAAAAAAAEAAACjYXZjMQAAAAAAAAABAAAAAAAAAAAAAAAAAAAAAAGwASAASAAAAEgAAAAA\n",
       "AAAAAQAAAAAAAAAAAAAAAAAAAAAAAAAAAAAAAAAAAAAAAAAAABj//wAAADFhdmNDAWQAFf/hABhn\n",
       "ZAAVrNlBsJaEAAADAAQAAAMAEDxYtlgBAAZo6+PLIsAAAAAcdXVpZGtoQPJfJE/FujmlG88DI/MA\n",
       "AAAAAAAAGHN0dHMAAAAAAAAAAQAAAAoAACAAAAAAFHN0c3MAAAAAAAAAAQAAAAEAAABQY3R0cwAA\n",
       "AAAAAAAIAAAAAgAAQAAAAAABAACAAAAAAAIAACAAAAAAAQAAoAAAAAABAABAAAAAAAEAAAAAAAAA\n",
       "AQAAIAAAAAABAABAAAAAABxzdHNjAAAAAAAAAAEAAAABAAAACgAAAAEAAAA8c3RzegAAAAAAAAAA\n",
       "AAAACgAAGxMAAAmcAAAGYwAABOgAAAcWAAAGEwAABA0AAARZAAAE9AAABXAAAAAUc3RjbwAAAAAA\n",
       "AAABAAAALAAAAGJ1ZHRhAAAAWm1ldGEAAAAAAAAAIWhkbHIAAAAAAAAAAG1kaXJhcHBsAAAAAAAA\n",
       "AAAAAAAALWlsc3QAAAAlqXRvbwAAAB1kYXRhAAAAAQAAAABMYXZmNTcuNTYuMTAw\n",
       "\">\n",
       "  Your browser does not support the video tag.\n",
       "</video>"
      ],
      "text/plain": [
       "<IPython.core.display.HTML object>"
      ]
     },
     "execution_count": 22,
     "metadata": {},
     "output_type": "execute_result"
    }
   ],
   "source": [
    "# Animate the likelihood using different random noise values for the linear model\n",
    "# Resources:\n",
    "#    https://jakevdp.github.io/blog/2012/08/18/matplotlib-animation-tutorial/\n",
    "\n",
    "# number of frames\n",
    "n_frames = 10\n",
    "# number of countours for Gaussian\n",
    "n_countours = 2\n",
    "# get the A matrix from the covariance matrix calculation in order to multiply by noise and get final covariance\n",
    "A = np.linalg.inv(np.dot(X_b.T,X_b))\n",
    "# get the maximum limits to fix them according to the maximum noise value (1.0)\n",
    "fig, axes_likel, axes_likel_lims = plot_bivariate_gaussian_isolines(mean_likelihood, A, n_countours, 'k', False)\n",
    "\n",
    "# define the animation function\n",
    "def animate_likelihood(i):\n",
    "    # clean plot at every frame\n",
    "    axes_likel.cla()\n",
    "    # get random noise\n",
    "    sigmav_sq_curr = np.random.rand()\n",
    "    # get the axes for the current bivariate Gaussian\n",
    "    _, ax, _ = plot_bivariate_gaussian_isolines(mean_likelihood, sigmav_sq_curr*A, n_countours, 'k', False, axes_likel_lims)\n",
    "    # calculate current estimated maximum likelihood\n",
    "    max_likelihood_curr = likelihood_linear_model(X_b, y, mean_likelihood, sigmav_sq_curr*A)\n",
    "    # add legend with current noise value\n",
    "    noise_text = ax.text(0.02, 0.95, '', transform=ax.transAxes)\n",
    "    noise_text.set_text('Noise variance          = ' + str(sigmav_sq_curr))\n",
    "    max_likel_text = ax.text(0.02, 0.90, '', transform=ax.transAxes)\n",
    "    max_likel_text.set_text('Maximum likelihood = ' + str(max_likelihood_curr))\n",
    "    # return axes and the legend\n",
    "    return ax, noise_text\n",
    "\n",
    "# call the animator, defining frame time interval and whether to repeat animation after it is done\n",
    "anim = animation.FuncAnimation(fig, animate_likelihood, frames=n_frames, interval=500, repeat = False)\n",
    "# convert to video in order to show in Jupyter notebook\n",
    "HTML(anim.to_html5_video())"
   ]
  },
  {
   "cell_type": "markdown",
   "metadata": {},
   "source": [
    "[1] MacKay, David JC. Information theory, inference and learning algorithms. Cambridge university press, 2003.\n",
    "\n",
    "[2] MacKay, David JC. \"Bayesian interpolation.\" Neural computation 4.3 (1992): 415-447."
   ]
  },
  {
   "cell_type": "markdown",
   "metadata": {
    "collapsed": true
   },
   "source": [
    "# Known issues\n",
    "Error calling: HTML(anim.to_html5_video()): If the error is due to not finding key ffmpeg, you need to install it. On Ubuntu this worked for me:  \n",
    "\n",
    "sudo add-apt-repository ppa:jon-severinsson/ffmpeg\n",
    "\n",
    "sudo apt-get update\n",
    "\n",
    "sudo apt-get install ffmpeg\n",
    "\n",
    "sudo apt-get install frei0r-plugins\n",
    "\n",
    "\n",
    "\n"
   ]
  },
  {
   "cell_type": "code",
   "execution_count": null,
   "metadata": {
    "collapsed": true
   },
   "outputs": [],
   "source": []
  }
 ],
 "metadata": {
  "kernelspec": {
   "display_name": "Python 2",
   "language": "python",
   "name": "python2"
  },
  "language_info": {
   "codemirror_mode": {
    "name": "ipython",
    "version": 2
   },
   "file_extension": ".py",
   "mimetype": "text/x-python",
   "name": "python",
   "nbconvert_exporter": "python",
   "pygments_lexer": "ipython2",
   "version": "2.7.6"
  }
 },
 "nbformat": 4,
 "nbformat_minor": 2
}
